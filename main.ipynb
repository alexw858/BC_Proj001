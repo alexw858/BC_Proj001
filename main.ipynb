{
 "cells": [
  {
   "cell_type": "markdown",
   "metadata": {},
   "source": [
    "# Project 001 UCSD Data Science Visualization Bootcamp\n",
    "* Noreen Malik 😃\n",
    "* Rene Venema(\"dutch\") 🐱\n",
    "* John Warlop 🦁\n",
    "* Alex Wooten 🏄\n",
    "\n",
    "😛😳😗😓🙉😸🙈🙊😽💀💢💥✨💏👫👄👃👀👛👛🗼🔮🔮🎄🎅👻"
   ]
  },
  {
   "cell_type": "markdown",
   "metadata": {},
   "source": [
    "## Dependencies -- imports\n"
   ]
  },
  {
   "cell_type": "code",
   "execution_count": 1,
   "metadata": {},
   "outputs": [],
   "source": [
    "import pandas as pd\n",
    "import json"
   ]
  },
  {
   "cell_type": "markdown",
   "metadata": {},
   "source": [
    "## Constants -- API Keys, etc"
   ]
  },
  {
   "cell_type": "code",
   "execution_count": 4,
   "metadata": {},
   "outputs": [
    {
     "name": "stdout",
     "output_type": "stream",
     "text": [
      "47dG6YpDB3IUSlJEovXa0WCeA\n",
      "3f1tMrLi0-Ck9QRZnOs9F5bi7VzkfBD6EAbL\n"
     ]
    },
    {
     "ename": "KeyError",
     "evalue": "'Zillow'",
     "output_type": "error",
     "traceback": [
      "\u001b[0;31m---------------------------------------------------------------------------\u001b[0m",
      "\u001b[0;31mKeyError\u001b[0m                                  Traceback (most recent call last)",
      "\u001b[0;32m<ipython-input-4-f78db6bb4d72>\u001b[0m in \u001b[0;36m<module>\u001b[0;34m()\u001b[0m\n\u001b[1;32m      5\u001b[0m \u001b[0mprint\u001b[0m\u001b[0;34m(\u001b[0m\u001b[0mapi_keys\u001b[0m\u001b[0;34m[\u001b[0m\u001b[0;34m'socrata'\u001b[0m\u001b[0;34m]\u001b[0m\u001b[0;34m[\u001b[0m\u001b[0;34m'App_Token'\u001b[0m\u001b[0;34m]\u001b[0m\u001b[0;34m)\u001b[0m\u001b[0;34m\u001b[0m\u001b[0m\n\u001b[1;32m      6\u001b[0m \u001b[0mprint\u001b[0m\u001b[0;34m(\u001b[0m\u001b[0mapi_keys\u001b[0m\u001b[0;34m[\u001b[0m\u001b[0;34m'socrata'\u001b[0m\u001b[0;34m]\u001b[0m\u001b[0;34m[\u001b[0m\u001b[0;34m'Secret_Token'\u001b[0m\u001b[0;34m]\u001b[0m\u001b[0;34m)\u001b[0m\u001b[0;34m\u001b[0m\u001b[0m\n\u001b[0;32m----> 7\u001b[0;31m \u001b[0mprint\u001b[0m\u001b[0;34m(\u001b[0m\u001b[0mapi_keys\u001b[0m\u001b[0;34m[\u001b[0m\u001b[0;34m'Zillow'\u001b[0m\u001b[0;34m]\u001b[0m\u001b[0;34m[\u001b[0m\u001b[0;34m'ZWSID'\u001b[0m\u001b[0;34m]\u001b[0m\u001b[0;34m)\u001b[0m\u001b[0;34m\u001b[0m\u001b[0m\n\u001b[0m",
      "\u001b[0;31mKeyError\u001b[0m: 'Zillow'"
     ]
    }
   ],
   "source": [
    "# Read in API(.gitignore file has entry for api_keys.json file)\n",
    "IRS_DATAFRAME_PICKLE = 'df_irs.pkl'\n",
    "with open('api_keys.json') as json_data:\n",
    "    api_keys = json.load(json_data)\n",
    "print(api_keys['socrata']['App_Token'])\n",
    "print(api_keys['socrata']['Secret_Token'])\n",
    "print(api_keys['Zillow']['ZWSID'])\n"
   ]
  },
  {
   "cell_type": "markdown",
   "metadata": {},
   "source": [
    "## Functions \n"
   ]
  },
  {
   "cell_type": "code",
   "execution_count": 9,
   "metadata": {},
   "outputs": [],
   "source": [
    "def winning_team():\n",
    "    print(\"Noreen, 'dutch', Alex and John make for a winning team\")\n",
    "    \n",
    "def return_irs_df(file_name):\n",
    "    #return the pickled dataframe for irs data\n",
    "    df_irs = pd.read_pickle(file_name)\n",
    "    return(df_irs)"
   ]
  },
  {
   "cell_type": "markdown",
   "metadata": {},
   "source": [
    "## Solution Space\n"
   ]
  },
  {
   "cell_type": "code",
   "execution_count": 10,
   "metadata": {},
   "outputs": [
    {
     "name": "stdout",
     "output_type": "stream",
     "text": [
      "Noreen, 'dutch', Alex and John make for a winning team\n"
     ]
    }
   ],
   "source": [
    "winning_team()"
   ]
  },
  {
   "cell_type": "code",
   "execution_count": 11,
   "metadata": {},
   "outputs": [
    {
     "data": {
      "text/html": [
       "<div>\n",
       "<style>\n",
       "    .dataframe thead tr:only-child th {\n",
       "        text-align: right;\n",
       "    }\n",
       "\n",
       "    .dataframe thead th {\n",
       "        text-align: left;\n",
       "    }\n",
       "\n",
       "    .dataframe tbody tr th {\n",
       "        vertical-align: top;\n",
       "    }\n",
       "</style>\n",
       "<table border=\"1\" class=\"dataframe\">\n",
       "  <thead>\n",
       "    <tr style=\"text-align: right;\">\n",
       "      <th></th>\n",
       "      <th>ST</th>\n",
       "      <th>Zip</th>\n",
       "      <th>AGI</th>\n",
       "      <th>TtlR</th>\n",
       "      <th>TtlSR</th>\n",
       "      <th>TtlJR</th>\n",
       "      <th>Eld</th>\n",
       "    </tr>\n",
       "  </thead>\n",
       "  <tbody>\n",
       "    <tr>\n",
       "      <th>0</th>\n",
       "      <td>AL</td>\n",
       "      <td>0</td>\n",
       "      <td>1</td>\n",
       "      <td>836320.0</td>\n",
       "      <td>481570.0</td>\n",
       "      <td>109790.0</td>\n",
       "      <td>149910.0</td>\n",
       "    </tr>\n",
       "    <tr>\n",
       "      <th>1</th>\n",
       "      <td>AL</td>\n",
       "      <td>0</td>\n",
       "      <td>2</td>\n",
       "      <td>494830.0</td>\n",
       "      <td>206630.0</td>\n",
       "      <td>146250.0</td>\n",
       "      <td>107480.0</td>\n",
       "    </tr>\n",
       "    <tr>\n",
       "      <th>2</th>\n",
       "      <td>AL</td>\n",
       "      <td>0</td>\n",
       "      <td>3</td>\n",
       "      <td>261250.0</td>\n",
       "      <td>80720.0</td>\n",
       "      <td>139280.0</td>\n",
       "      <td>73400.0</td>\n",
       "    </tr>\n",
       "    <tr>\n",
       "      <th>3</th>\n",
       "      <td>AL</td>\n",
       "      <td>0</td>\n",
       "      <td>4</td>\n",
       "      <td>166690.0</td>\n",
       "      <td>28510.0</td>\n",
       "      <td>124650.0</td>\n",
       "      <td>49990.0</td>\n",
       "    </tr>\n",
       "    <tr>\n",
       "      <th>4</th>\n",
       "      <td>AL</td>\n",
       "      <td>0</td>\n",
       "      <td>5</td>\n",
       "      <td>212660.0</td>\n",
       "      <td>19520.0</td>\n",
       "      <td>184320.0</td>\n",
       "      <td>65870.0</td>\n",
       "    </tr>\n",
       "  </tbody>\n",
       "</table>\n",
       "</div>"
      ],
      "text/plain": [
       "   ST  Zip  AGI      TtlR     TtlSR     TtlJR       Eld\n",
       "0  AL    0    1  836320.0  481570.0  109790.0  149910.0\n",
       "1  AL    0    2  494830.0  206630.0  146250.0  107480.0\n",
       "2  AL    0    3  261250.0   80720.0  139280.0   73400.0\n",
       "3  AL    0    4  166690.0   28510.0  124650.0   49990.0\n",
       "4  AL    0    5  212660.0   19520.0  184320.0   65870.0"
      ]
     },
     "execution_count": 11,
     "metadata": {},
     "output_type": "execute_result"
    }
   ],
   "source": [
    "# Test if return_irs_df works\n",
    "df_irs = return_irs_df(IRS_DATAFRAME_PICKLE)\n",
    "df_irs.head()"
   ]
  },
  {
   "cell_type": "code",
   "execution_count": null,
   "metadata": {},
   "outputs": [],
   "source": []
  },
  {
   "cell_type": "code",
   "execution_count": null,
   "metadata": {},
   "outputs": [],
   "source": []
  }
 ],
 "metadata": {
  "kernelspec": {
   "display_name": "Python 3",
   "language": "python",
   "name": "python3"
  },
  "language_info": {
   "codemirror_mode": {
    "name": "ipython",
    "version": 3
   },
   "file_extension": ".py",
   "mimetype": "text/x-python",
   "name": "python",
   "nbconvert_exporter": "python",
   "pygments_lexer": "ipython3",
   "version": "3.6.3"
  }
 },
 "nbformat": 4,
 "nbformat_minor": 2
}
