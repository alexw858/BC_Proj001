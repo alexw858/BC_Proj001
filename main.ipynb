{
 "cells": [
  {
   "cell_type": "markdown",
   "metadata": {},
   "source": [
    "# Project 001 UCSD Data Science Visualization Bootcamp\n",
    "* Noreen Malik 😃\n",
    "* Rene Venema(\"dutch\") 🐱\n",
    "* John Warlop 🦁\n",
    "* Alex Wooten 🏄\n",
    "\n",
    "😛😳😗😓🙉😸🙈🙊😽💀💢💥✨💏👫👄👃👀👛👛🗼🔮🔮🎄🎅👻"
   ]
  },
  {
   "cell_type": "markdown",
   "metadata": {},
   "source": [
    "## Dependencies -- imports\n"
   ]
  },
  {
   "cell_type": "code",
   "execution_count": 1,
   "metadata": {},
   "outputs": [
    {
     "data": {
      "text/html": [
       "<script>requirejs.config({paths: { 'plotly': ['https://cdn.plot.ly/plotly-latest.min']},});if(!window.Plotly) {{require(['plotly'],function(plotly) {window.Plotly=plotly;});}}</script>"
      ],
      "text/vnd.plotly.v1+html": [
       "<script>requirejs.config({paths: { 'plotly': ['https://cdn.plot.ly/plotly-latest.min']},});if(!window.Plotly) {{require(['plotly'],function(plotly) {window.Plotly=plotly;});}}</script>"
      ]
     },
     "metadata": {},
     "output_type": "display_data"
    }
   ],
   "source": [
    "import pandas as pd\n",
    "from sodapy import Socrata #pip install socrata\n",
    "import plotly.plotly as py #pip installl plotly\n",
    "from plotly.offline import download_plotlyjs, init_notebook_mode,plot,iplot\n",
    "init_notebook_mode(connected=True)\n",
    "import json\n"
   ]
  },
  {
   "cell_type": "markdown",
   "metadata": {},
   "source": [
    "## Constants -- API Keys, etc"
   ]
  },
  {
   "cell_type": "code",
   "execution_count": 2,
   "metadata": {},
   "outputs": [],
   "source": [
    "# Read in API(.gitignore file has entry for api_keys.json file)\n",
    "API_endpoint = \"https://data.cms.gov/resource/spmh-qjdv.json\" #2015 data\n",
    "\n",
    "\n",
    "IRS_DATAFRAME_PICKLE = 'df_irs.pkl'\n",
    "with open('api_keys.json') as json_data:\n",
    "    api_keys = json.load(json_data)\n",
    "\n",
    "# Socrata Section\n",
    "socrata_domain = \"data.cms.gov\"\n",
    "socrata_dataset_identifier = \"spmh-qjdv\"\n",
    "socrata_token = api_keys['socrata']['App_Token']\n",
    "#print(api_keys['socrata']['App_Token'])\n",
    "#print(api_keys['socrata']['Secret_Token'])\n",
    "#print(api_keys['zillow']['ZWSID'])\n",
    "\n"
   ]
  },
  {
   "cell_type": "markdown",
   "metadata": {},
   "source": [
    "## Functions \n"
   ]
  },
  {
   "cell_type": "code",
   "execution_count": 3,
   "metadata": {},
   "outputs": [],
   "source": [
    "def return_irs_df(file_name):\n",
    "    #return the pickled dataframe for irs data\n",
    "    df_irs = pd.read_pickle(file_name)\n",
    "    return(df_irs)"
   ]
  },
  {
   "cell_type": "markdown",
   "metadata": {},
   "source": [
    "# IRS Dataframe\n",
    "[Link to Documentation](https://www.irs.gov/statistics/soi-tax-stats-individual-income-tax-statistics-2015-zip-code-data-soi) |\n",
    "[SOI Tax Stats](https://www.irs.gov/statistics/soi-tax-stats-statistical-methodology) | [Data Cleaning of IRS Data](https://docs.google.com/document/d/1kNd1S_Ufgy0pIjJSjLDHba8y-pK8OYe47iAGeamH04E/edit?usp=sharing)"
   ]
  },
  {
   "cell_type": "code",
   "execution_count": 4,
   "metadata": {},
   "outputs": [
    {
     "data": {
      "text/html": [
       "<div>\n",
       "<style>\n",
       "    .dataframe thead tr:only-child th {\n",
       "        text-align: right;\n",
       "    }\n",
       "\n",
       "    .dataframe thead th {\n",
       "        text-align: left;\n",
       "    }\n",
       "\n",
       "    .dataframe tbody tr th {\n",
       "        vertical-align: top;\n",
       "    }\n",
       "</style>\n",
       "<table border=\"1\" class=\"dataframe\">\n",
       "  <thead>\n",
       "    <tr style=\"text-align: right;\">\n",
       "      <th></th>\n",
       "      <th>ST</th>\n",
       "      <th>Zip</th>\n",
       "      <th>AGI</th>\n",
       "      <th>TtlR</th>\n",
       "      <th>TtlSR</th>\n",
       "      <th>TtlJR</th>\n",
       "      <th>Eld</th>\n",
       "    </tr>\n",
       "  </thead>\n",
       "  <tbody>\n",
       "    <tr>\n",
       "      <th>0</th>\n",
       "      <td>AL</td>\n",
       "      <td>0</td>\n",
       "      <td>1</td>\n",
       "      <td>836320.0</td>\n",
       "      <td>481570.0</td>\n",
       "      <td>109790.0</td>\n",
       "      <td>149910.0</td>\n",
       "    </tr>\n",
       "    <tr>\n",
       "      <th>1</th>\n",
       "      <td>AL</td>\n",
       "      <td>0</td>\n",
       "      <td>2</td>\n",
       "      <td>494830.0</td>\n",
       "      <td>206630.0</td>\n",
       "      <td>146250.0</td>\n",
       "      <td>107480.0</td>\n",
       "    </tr>\n",
       "    <tr>\n",
       "      <th>2</th>\n",
       "      <td>AL</td>\n",
       "      <td>0</td>\n",
       "      <td>3</td>\n",
       "      <td>261250.0</td>\n",
       "      <td>80720.0</td>\n",
       "      <td>139280.0</td>\n",
       "      <td>73400.0</td>\n",
       "    </tr>\n",
       "    <tr>\n",
       "      <th>3</th>\n",
       "      <td>AL</td>\n",
       "      <td>0</td>\n",
       "      <td>4</td>\n",
       "      <td>166690.0</td>\n",
       "      <td>28510.0</td>\n",
       "      <td>124650.0</td>\n",
       "      <td>49990.0</td>\n",
       "    </tr>\n",
       "    <tr>\n",
       "      <th>4</th>\n",
       "      <td>AL</td>\n",
       "      <td>0</td>\n",
       "      <td>5</td>\n",
       "      <td>212660.0</td>\n",
       "      <td>19520.0</td>\n",
       "      <td>184320.0</td>\n",
       "      <td>65870.0</td>\n",
       "    </tr>\n",
       "  </tbody>\n",
       "</table>\n",
       "</div>"
      ],
      "text/plain": [
       "   ST  Zip  AGI      TtlR     TtlSR     TtlJR       Eld\n",
       "0  AL    0    1  836320.0  481570.0  109790.0  149910.0\n",
       "1  AL    0    2  494830.0  206630.0  146250.0  107480.0\n",
       "2  AL    0    3  261250.0   80720.0  139280.0   73400.0\n",
       "3  AL    0    4  166690.0   28510.0  124650.0   49990.0\n",
       "4  AL    0    5  212660.0   19520.0  184320.0   65870.0"
      ]
     },
     "execution_count": 4,
     "metadata": {},
     "output_type": "execute_result"
    }
   ],
   "source": [
    "# Dataframe columns are: ST(State), Zip(Zip Code), AGI(Adjusted Gross Income),TtlR(Total Returns)\n",
    "# TtlSR(Total Single Returns), TtlJR(Total Joint Returns), Eld(Number of Elderly Returns -- over 60 years old)\n",
    "# AGI column is agreegated: \n",
    "# 1=> [1-25000), 2=> [25000-50000), 3=> [50000-75000), 4=> [75000-100000),\n",
    "# 5=> [100000,200000), 6=> [200000-]\n",
    "df_irs = return_irs_df(IRS_DATAFRAME_PICKLE)\n",
    "df_irs.head()"
   ]
  },
  {
   "cell_type": "markdown",
   "metadata": {},
   "source": [
    "# Dataframe - Medicare csv/api (dutch)\n",
    "[Link to Documentation](https://dev.socrata.com/foundry/data.cms.gov/ehrv-m9r6)\n"
   ]
  },
  {
   "cell_type": "code",
   "execution_count": 5,
   "metadata": {},
   "outputs": [],
   "source": [
    "#main_df = pd.read_csv(\"main_data_cleaned.csv\")\n",
    "#main_df.head()\n",
    "client = Socrata(socrata_domain, socrata_token)\n",
    "results = client.get(socrata_dataset_identifier, limit = 100000000) #default for limit (integer) = 1000\n",
    "main_df = pd.DataFrame.from_dict(results)\n",
    "main_df.head()\n",
    "# Convert column datatypes\n",
    "## Convert to float\n",
    "col1 = [\"average_covered_charges\",\"average_medicare_payments\",\"average_total_payments\"]\n",
    "main_df[col1] = main_df[col1].astype(\"float\")\n",
    "## Convert to integer\n",
    "col2 = [\"provider_id\",\"provider_zip_code\",\"total_discharges\"]\n",
    "main_df[col2] = main_df[col2].astype(\"int\")\n",
    "# Export data to csv file\n",
    "main_df.to_csv(\"main data cleaned.csv\", encoding = \"utf-8-sig\", index = False)"
   ]
  },
  {
   "cell_type": "code",
   "execution_count": 7,
   "metadata": {},
   "outputs": [],
   "source": [
    "# Import data from csv\n",
    "main_df = pd.read_csv(\"main data cleaned.csv\")"
   ]
  },
  {
   "cell_type": "markdown",
   "metadata": {},
   "source": [
    "# Avg Cost Per Provider (Alex)"
   ]
  },
  {
   "cell_type": "code",
   "execution_count": 8,
   "metadata": {},
   "outputs": [],
   "source": [
    "# ACC = Average Covered Charges\n",
    "#     The provider's average charge for services covered by Medicare for all discharges\n",
    "#     in the DRG. These will vary from\n",
    "#     hospital to hospital because of differences in hospital charge structures.\n",
    "# ATP = Average Total Payments\n",
    "#     The average of Medicare payments to the provider for the DRG including the\n",
    "#     DRG amount, teaching,  disproportionate \n",
    "#     share, capital, and outlier payments for all cases. Also included \n",
    "#     are co-payment and deductible amounts that the \n",
    "#     patient is responsible for (average_medicare_payments)\n",
    "# AMP = Average Medicare Payments\n",
    "#     average_medicare_payments_2?\n",
    "#     Not sure what this column represents\n",
    "\n",
    "\n",
    "# Create a Groupby based on Provider Id and Provider name\n",
    "# Calculate mean values in ACC, ATP, AMP (or we may just be interested in what\n",
    "# the patient pays)\n",
    "# I could also sum up the average value of payments by patient and by insurance\n",
    "# to see average total value provider charges\n",
    "\n",
    "cost_df = main_df[[\"provider_id\", \"provider_name\", \"average_covered_charges\",\\\n",
    "                   \"average_total_payments\", \"average_medicare_payments\"]]\n",
    "\n",
    "provider_group = cost_df.groupby([\"provider_id\", \"provider_name\"])\n",
    "avg_cost_group = round(provider_group.mean(),2)\n",
    "\n"
   ]
  },
  {
   "cell_type": "markdown",
   "metadata": {},
   "source": [
    "# Avg Cost of Procedure in each state(John)"
   ]
  },
  {
   "cell_type": "code",
   "execution_count": 9,
   "metadata": {},
   "outputs": [
    {
     "data": {
      "text/html": [
       "<div>\n",
       "<style>\n",
       "    .dataframe thead tr:only-child th {\n",
       "        text-align: right;\n",
       "    }\n",
       "\n",
       "    .dataframe thead th {\n",
       "        text-align: left;\n",
       "    }\n",
       "\n",
       "    .dataframe tbody tr th {\n",
       "        vertical-align: top;\n",
       "    }\n",
       "</style>\n",
       "<table border=\"1\" class=\"dataframe\">\n",
       "  <thead>\n",
       "    <tr style=\"text-align: right;\">\n",
       "      <th></th>\n",
       "      <th>average_covered_charges</th>\n",
       "      <th>average_total_payments</th>\n",
       "      <th>total_discharges</th>\n",
       "      <th>Ttl_billed_per_p</th>\n",
       "      <th>Ttl_covered_per_p</th>\n",
       "      <th>Ttl_oop_per_p</th>\n",
       "    </tr>\n",
       "    <tr>\n",
       "      <th>provider_state</th>\n",
       "      <th></th>\n",
       "      <th></th>\n",
       "      <th></th>\n",
       "      <th></th>\n",
       "      <th></th>\n",
       "      <th></th>\n",
       "    </tr>\n",
       "  </thead>\n",
       "  <tbody>\n",
       "    <tr>\n",
       "      <th>AK</th>\n",
       "      <td>1.967722e+07</td>\n",
       "      <td>5.030051e+06</td>\n",
       "      <td>7014</td>\n",
       "      <td>3522.565220</td>\n",
       "      <td>2805.420746</td>\n",
       "      <td>717.144474</td>\n",
       "    </tr>\n",
       "    <tr>\n",
       "      <th>AL</th>\n",
       "      <td>2.140469e+08</td>\n",
       "      <td>4.310629e+07</td>\n",
       "      <td>157744</td>\n",
       "      <td>1630.193161</td>\n",
       "      <td>1356.925749</td>\n",
       "      <td>273.267411</td>\n",
       "    </tr>\n",
       "    <tr>\n",
       "      <th>AR</th>\n",
       "      <td>9.778537e+07</td>\n",
       "      <td>2.625726e+07</td>\n",
       "      <td>91376</td>\n",
       "      <td>1357.496849</td>\n",
       "      <td>1070.142807</td>\n",
       "      <td>287.354043</td>\n",
       "    </tr>\n",
       "    <tr>\n",
       "      <th>AZ</th>\n",
       "      <td>2.142096e+08</td>\n",
       "      <td>4.721704e+07</td>\n",
       "      <td>111890</td>\n",
       "      <td>2336.461032</td>\n",
       "      <td>1914.465892</td>\n",
       "      <td>421.995140</td>\n",
       "    </tr>\n",
       "    <tr>\n",
       "      <th>CA</th>\n",
       "      <td>1.476417e+09</td>\n",
       "      <td>2.594942e+08</td>\n",
       "      <td>503269</td>\n",
       "      <td>3449.271242</td>\n",
       "      <td>2933.653951</td>\n",
       "      <td>515.617291</td>\n",
       "    </tr>\n",
       "    <tr>\n",
       "      <th>CO</th>\n",
       "      <td>1.529026e+08</td>\n",
       "      <td>3.024909e+07</td>\n",
       "      <td>70133</td>\n",
       "      <td>2611.490263</td>\n",
       "      <td>2180.179872</td>\n",
       "      <td>431.310392</td>\n",
       "    </tr>\n",
       "    <tr>\n",
       "      <th>CT</th>\n",
       "      <td>1.165064e+08</td>\n",
       "      <td>3.759063e+07</td>\n",
       "      <td>101868</td>\n",
       "      <td>1512.712789</td>\n",
       "      <td>1143.699625</td>\n",
       "      <td>369.013164</td>\n",
       "    </tr>\n",
       "    <tr>\n",
       "      <th>DC</th>\n",
       "      <td>5.110860e+07</td>\n",
       "      <td>1.416205e+07</td>\n",
       "      <td>26936</td>\n",
       "      <td>2423.174999</td>\n",
       "      <td>1897.408538</td>\n",
       "      <td>525.766461</td>\n",
       "    </tr>\n",
       "    <tr>\n",
       "      <th>DE</th>\n",
       "      <td>2.708536e+07</td>\n",
       "      <td>9.805910e+06</td>\n",
       "      <td>36396</td>\n",
       "      <td>1013.607781</td>\n",
       "      <td>744.185055</td>\n",
       "      <td>269.422726</td>\n",
       "    </tr>\n",
       "    <tr>\n",
       "      <th>FL</th>\n",
       "      <td>1.043925e+09</td>\n",
       "      <td>1.756308e+08</td>\n",
       "      <td>607658</td>\n",
       "      <td>2006.976854</td>\n",
       "      <td>1717.947816</td>\n",
       "      <td>289.029037</td>\n",
       "    </tr>\n",
       "    <tr>\n",
       "      <th>GA</th>\n",
       "      <td>2.750497e+08</td>\n",
       "      <td>6.809852e+07</td>\n",
       "      <td>200708</td>\n",
       "      <td>1709.688843</td>\n",
       "      <td>1370.397335</td>\n",
       "      <td>339.291508</td>\n",
       "    </tr>\n",
       "    <tr>\n",
       "      <th>HI</th>\n",
       "      <td>2.075941e+07</td>\n",
       "      <td>8.027642e+06</td>\n",
       "      <td>13287</td>\n",
       "      <td>2166.557659</td>\n",
       "      <td>1562.385017</td>\n",
       "      <td>604.172642</td>\n",
       "    </tr>\n",
       "  </tbody>\n",
       "</table>\n",
       "</div>"
      ],
      "text/plain": [
       "                average_covered_charges  average_total_payments  \\\n",
       "provider_state                                                    \n",
       "AK                         1.967722e+07            5.030051e+06   \n",
       "AL                         2.140469e+08            4.310629e+07   \n",
       "AR                         9.778537e+07            2.625726e+07   \n",
       "AZ                         2.142096e+08            4.721704e+07   \n",
       "CA                         1.476417e+09            2.594942e+08   \n",
       "CO                         1.529026e+08            3.024909e+07   \n",
       "CT                         1.165064e+08            3.759063e+07   \n",
       "DC                         5.110860e+07            1.416205e+07   \n",
       "DE                         2.708536e+07            9.805910e+06   \n",
       "FL                         1.043925e+09            1.756308e+08   \n",
       "GA                         2.750497e+08            6.809852e+07   \n",
       "HI                         2.075941e+07            8.027642e+06   \n",
       "\n",
       "                total_discharges  Ttl_billed_per_p  Ttl_covered_per_p  \\\n",
       "provider_state                                                          \n",
       "AK                          7014       3522.565220        2805.420746   \n",
       "AL                        157744       1630.193161        1356.925749   \n",
       "AR                         91376       1357.496849        1070.142807   \n",
       "AZ                        111890       2336.461032        1914.465892   \n",
       "CA                        503269       3449.271242        2933.653951   \n",
       "CO                         70133       2611.490263        2180.179872   \n",
       "CT                        101868       1512.712789        1143.699625   \n",
       "DC                         26936       2423.174999        1897.408538   \n",
       "DE                         36396       1013.607781         744.185055   \n",
       "FL                        607658       2006.976854        1717.947816   \n",
       "GA                        200708       1709.688843        1370.397335   \n",
       "HI                         13287       2166.557659        1562.385017   \n",
       "\n",
       "                Ttl_oop_per_p  \n",
       "provider_state                 \n",
       "AK                 717.144474  \n",
       "AL                 273.267411  \n",
       "AR                 287.354043  \n",
       "AZ                 421.995140  \n",
       "CA                 515.617291  \n",
       "CO                 431.310392  \n",
       "CT                 369.013164  \n",
       "DC                 525.766461  \n",
       "DE                 269.422726  \n",
       "FL                 289.029037  \n",
       "GA                 339.291508  \n",
       "HI                 604.172642  "
      ]
     },
     "execution_count": 9,
     "metadata": {},
     "output_type": "execute_result"
    }
   ],
   "source": [
    "#main_df['ACC'].groupby(main_df['Provider State']).head()\n",
    "#state_office = df.groupby(['state', 'office_id']).agg({'sales': 'sum'})\n",
    "#main_df.rename(columns = {list(main_df)[8]: 'TtlDis'}, inplace = True)\n",
    "df_costs = main_df.groupby(['provider_state']).\\\n",
    "            aggregate({'average_covered_charges':'sum',\\\n",
    "                       'average_total_payments':'sum','total_discharges':'sum'})\n",
    "df_costs['Ttl_billed_per_p']  = (df_costs['average_covered_charges']+df_costs['average_total_payments'])\\\n",
    "                                /df_costs['total_discharges']\n",
    "df_costs['Ttl_covered_per_p'] =  df_costs['average_covered_charges']/df_costs['total_discharges']\n",
    "df_costs['Ttl_oop_per_p'] = df_costs['average_total_payments']/df_costs['total_discharges']\n",
    "df_costs.head(12)\n",
    "#df_acc = main_df.groupby(['Provider State']).aggregate({'ACC':'sum'})\n",
    "#df_atp = main_df.groupby(['Provider State']).aggregate({'ATP':'sum'})\n",
    "#df_ttlD = main_df.groupby(['Provider State']).aggregate({'TtlDis':'sum'})\n",
    "#df_ttlD.iloc[:,0:]"
   ]
  },
  {
   "cell_type": "markdown",
   "metadata": {},
   "source": [
    "# Comparing procedure costs vs income in zip code(John)"
   ]
  },
  {
   "cell_type": "code",
   "execution_count": null,
   "metadata": {},
   "outputs": [],
   "source": []
  },
  {
   "cell_type": "markdown",
   "metadata": {},
   "source": [
    "# Data Exploration"
   ]
  },
  {
   "cell_type": "markdown",
   "metadata": {},
   "source": [
    "## Dutch"
   ]
  },
  {
   "cell_type": "code",
   "execution_count": 10,
   "metadata": {},
   "outputs": [
    {
     "data": {
      "text/plain": [
       "563"
      ]
     },
     "execution_count": 10,
     "metadata": {},
     "output_type": "execute_result"
    }
   ],
   "source": [
    "# Unique DRG definitions\n",
    "main_df[\"drg_definition\"].nunique()"
   ]
  },
  {
   "cell_type": "code",
   "execution_count": 11,
   "metadata": {},
   "outputs": [
    {
     "data": {
      "text/plain": [
       "306"
      ]
     },
     "execution_count": 11,
     "metadata": {},
     "output_type": "execute_result"
    }
   ],
   "source": [
    "# Unique HRR Descriptions\n",
    "main_df[\"hospital_referral_region_hrr_description\"].nunique()"
   ]
  },
  {
   "cell_type": "code",
   "execution_count": 12,
   "metadata": {},
   "outputs": [
    {
     "data": {
      "text/plain": [
       "51"
      ]
     },
     "execution_count": 12,
     "metadata": {},
     "output_type": "execute_result"
    }
   ],
   "source": [
    "# Unique providers\n",
    "main_df[\"provider_id\"].nunique()# Unique states (including the federal district D.C. (Washington D.C.))\n",
    "main_df[\"provider_state\"].nunique()"
   ]
  },
  {
   "cell_type": "code",
   "execution_count": 13,
   "metadata": {},
   "outputs": [
    {
     "data": {
      "text/plain": [
       "provider_state\n",
       "AK      8\n",
       "AL     83\n",
       "AR     44\n",
       "AZ     59\n",
       "CA    294\n",
       "CO     45\n",
       "CT     29\n",
       "DC      7\n",
       "DE      6\n",
       "FL    167\n",
       "GA    100\n",
       "HI     12\n",
       "IA     34\n",
       "ID     13\n",
       "IL    126\n",
       "IN     86\n",
       "KS     53\n",
       "KY     65\n",
       "LA     86\n",
       "MA     57\n",
       "MD     47\n",
       "ME     18\n",
       "MI     94\n",
       "MN     48\n",
       "MO     74\n",
       "MS     56\n",
       "MT     13\n",
       "NC     81\n",
       "ND      7\n",
       "NE     24\n",
       "NH     13\n",
       "NJ     64\n",
       "NM     27\n",
       "NV     21\n",
       "NY    151\n",
       "OH    128\n",
       "OK     81\n",
       "OR     34\n",
       "PA    152\n",
       "RI     11\n",
       "SC     54\n",
       "SD     19\n",
       "TN     92\n",
       "TX    285\n",
       "UT     31\n",
       "VA     74\n",
       "VT      6\n",
       "WA     48\n",
       "WI     65\n",
       "WV     29\n",
       "WY     10\n",
       "Name: provider_id, dtype: int64"
      ]
     },
     "execution_count": 13,
     "metadata": {},
     "output_type": "execute_result"
    }
   ],
   "source": [
    "# Providers per state\n",
    "main_df.groupby(\"provider_state\")[\"provider_id\"].nunique()"
   ]
  },
  {
   "cell_type": "code",
   "execution_count": 14,
   "metadata": {},
   "outputs": [],
   "source": [
    "# US state map\n",
    "## Total ACC, ATP and AMP by provider state\n",
    "state_totals_df = main_df.groupby(\"provider_state\", as_index = False).agg({\"provider_id\":\"nunique\",\n",
    "                                                                           \"average_covered_charges\":\"sum\",\n",
    "                                                                           \"average_medicare_payments\":\"sum\",\n",
    "                                                                           \"average_total_payments\":\"sum\"})\n",
    "\n",
    "cols = [\"average_covered_charges\",\"average_medicare_payments\",\"average_total_payments\"]\n",
    "state_totals_df[cols] = state_totals_df[cols]/1000000\n",
    "\n",
    "state_totals_df = state_totals_df.rename(columns={\"provider_state\":\"State\",\n",
    "                                                  \"provider_id\":\"Total providers\",\n",
    "                                                  \"average_covered_charges\":\"ACC Total\",\n",
    "                                                  \"average_medicare_payments\":\"AMP Total\",\n",
    "                                                  \"average_total_payments\":\"ATP Total\"\n",
    "                                                 })\n",
    "\n",
    "state_totals_df.head()\n",
    "\n",
    "for col in state_totals_df.columns:\n",
    "    state_totals_df[col] = state_totals_df[col].astype(str)"
   ]
  },
  {
   "cell_type": "code",
   "execution_count": 15,
   "metadata": {},
   "outputs": [],
   "source": [
    "scl = [[0.0, \"rgb(242,240,247)\"],[0.2, \"rgb(218,218,235)\"],[0.4, \"rgb(188,189,220)\"],\n",
    "            [0.6, \"rgb(158,154,200)\"],[0.8, \"rgb(117,107,177)\"],[1.0, \"rgb(84,39,143)\"]]"
   ]
  },
  {
   "cell_type": "code",
   "execution_count": 16,
   "metadata": {},
   "outputs": [],
   "source": [
    "state_totals_df['text'] = state_totals_df[\"State\"] + '<br>' +\\\n",
    "    \"ACC\"+state_totals_df[\"ACC Total\"]+' AMP '+state_totals_df[\"AMP Total\"]+'<br>'+\\\n",
    "    'ATP '+state_totals_df[\"ATP Total\"]"
   ]
  },
  {
   "cell_type": "code",
   "execution_count": 17,
   "metadata": {},
   "outputs": [
    {
     "data": {
      "application/vnd.plotly.v1+json": {
       "data": [
        {
         "autocolorscale": false,
         "colorbar": {
          "title": "Millions USD"
         },
         "colorscale": [
          [
           0,
           "rgb(242,240,247)"
          ],
          [
           0.2,
           "rgb(218,218,235)"
          ],
          [
           0.4,
           "rgb(188,189,220)"
          ],
          [
           0.6,
           "rgb(158,154,200)"
          ],
          [
           0.8,
           "rgb(117,107,177)"
          ],
          [
           1,
           "rgb(84,39,143)"
          ]
         ],
         "locationmode": "USA-states",
         "locations": [
          "AK",
          "AL",
          "AR",
          "AZ",
          "CA",
          "CO",
          "CT",
          "DC",
          "DE",
          "FL",
          "GA",
          "HI",
          "IA",
          "ID",
          "IL",
          "IN",
          "KS",
          "KY",
          "LA",
          "MA",
          "MD",
          "ME",
          "MI",
          "MN",
          "MO",
          "MS",
          "MT",
          "NC",
          "ND",
          "NE",
          "NH",
          "NJ",
          "NM",
          "NV",
          "NY",
          "OH",
          "OK",
          "OR",
          "PA",
          "RI",
          "SC",
          "SD",
          "TN",
          "TX",
          "UT",
          "VA",
          "VT",
          "WA",
          "WI",
          "WV",
          "WY"
         ],
         "marker": {
          "line": {
           "color": "rgb(255,255,255)",
           "width": 2
          }
         },
         "text": [
          "AK<br>ACC19.67722111 AMP 4.47738627<br>ATP 5.03005134",
          "AL<br>ACC214.0468954 AMP 36.72015855<br>ATP 43.10629454",
          "AR<br>ACC97.7853691 AMP 22.51498072<br>ATP 26.25726301",
          "AZ<br>ACC214.20958869 AMP 40.50999355<br>ATP 47.21703623",
          "CA<br>ACC1476.41709006 AMP 229.50035055<br>ATP 259.49419839",
          "CO<br>ACC152.90255493 AMP 25.4972312<br>ATP 30.24909169",
          "CT<br>ACC116.50639335 AMP 31.55987962<br>ATP 37.590633",
          "DC<br>ACC51.10859639 AMP 10.94568698<br>ATP 14.16204539",
          "DE<br>ACC27.08535926 AMP 8.08701231<br>ATP 9.80590952",
          "FL<br>ACC1043.92473422 AMP 149.97865835<br>ATP 175.63080683",
          "GA<br>ACC275.04970827 AMP 59.03627861<br>ATP 68.09851998",
          "HI<br>ACC20.75940972 AMP 6.61988807<br>ATP 8.02764189",
          "IA<br>ACC82.62576159 AMP 20.9586374<br>ATP 24.51924795",
          "ID<br>ACC28.86003452 AMP 7.47716013<br>ATP 8.70283665",
          "IL<br>ACC468.73978925 AMP 94.43245709<br>ATP 114.3230777",
          "IN<br>ACC235.40753664 AMP 51.15992077<br>ATP 60.29516263",
          "KS<br>ACC107.57046532 AMP 20.92155046<br>ATP 24.18343548",
          "KY<br>ACC164.60492174 AMP 36.34683464<br>ATP 43.15527318",
          "LA<br>ACC153.05713163 AMP 30.46298888<br>ATP 36.80452577",
          "MA<br>ACC172.54767267 AMP 70.11190884<br>ATP 79.49423332",
          "MD<br>ACC84.79109578 AMP 71.61804219<br>ATP 78.59047597",
          "ME<br>ACC30.79881745 AMP 9.91045519<br>ATP 11.83140665",
          "MI<br>ACC270.84793866 AMP 85.4975881<br>ATP 100.20956261",
          "MN<br>ACC144.60821358 AMP 43.64392563<br>ATP 51.54481371",
          "MO<br>ACC235.36230961 AMP 52.15242003<br>ATP 59.93173731",
          "MS<br>ACC122.75147685 AMP 24.37980565<br>ATP 28.20775413",
          "MT<br>ACC21.21139111 AMP 6.41977764<br>ATP 7.29279022",
          "NC<br>ACC263.98640165 AMP 67.84346434<br>ATP 82.01221881",
          "ND<br>ACC22.05055654 AMP 6.96726019<br>ATP 8.00114884",
          "NE<br>ACC60.49781636 AMP 14.48311854<br>ATP 17.17230149",
          "NH<br>ACC42.7640495 AMP 11.43722401<br>ATP 13.33074535",
          "NJ<br>ACC588.86403956 AMP 81.16521782<br>ATP 94.55567819",
          "NM<br>ACC39.52240946 AMP 10.19383851<br>ATP 11.79658235",
          "NV<br>ACC137.68783711 AMP 18.54361923<br>ATP 21.53524354",
          "NY<br>ACC622.84276215 AMP 158.61160474<br>ATP 186.27051315",
          "OH<br>ACC347.81815346 AMP 77.0036423<br>ATP 94.8386596",
          "OK<br>ACC145.85701514 AMP 29.12746185<br>ATP 34.36902654",
          "OR<br>ACC68.98860801 AMP 21.45912008<br>ATP 24.87473132",
          "PA<br>ACC607.31276256 AMP 100.26168464<br>ATP 124.98152554",
          "RI<br>ACC27.37318671 AMP 8.166217<br>ATP 9.49194347",
          "SC<br>ACC200.48138103 AMP 35.67712218<br>ATP 42.97830503",
          "SD<br>ACC31.04428915 AMP 7.67214796<br>ATP 8.80989429",
          "TN<br>ACC250.08530568 AMP 50.00039121<br>ATP 58.28555118",
          "TX<br>ACC903.28013587 AMP 145.0167974<br>ATP 175.82182233",
          "UT<br>ACC41.13670905 AMP 11.56173499<br>ATP 14.68329199",
          "VA<br>ACC266.93813653 AMP 56.32122582<br>ATP 70.05691167",
          "VT<br>ACC10.85643936 AMP 4.38203323<br>ATP 5.03611321",
          "WA<br>ACC194.70868551 AMP 43.76432677<br>ATP 51.71246728",
          "WI<br>ACC135.04544638 AMP 34.86645527<br>ATP 42.21091103",
          "WV<br>ACC53.0907517 AMP 15.3002594<br>ATP 18.60003454",
          "WY<br>ACC9.43778355 AMP 3.05232141<br>ATP 3.53147259"
         ],
         "type": "choropleth",
         "z": [
          8,
          83,
          44,
          59,
          294,
          45,
          29,
          7,
          6,
          167,
          100,
          12,
          34,
          13,
          126,
          86,
          53,
          65,
          86,
          57,
          47,
          18,
          94,
          48,
          74,
          56,
          13,
          81,
          7,
          24,
          13,
          64,
          27,
          21,
          151,
          128,
          81,
          34,
          152,
          11,
          54,
          19,
          92,
          285,
          31,
          74,
          6,
          48,
          65,
          29,
          10
         ]
        }
       ],
       "layout": {
        "geo": {
         "lakecolor": "rgb(255, 255, 255)",
         "projection": {
          "type": "albers usa"
         },
         "scope": "usa",
         "showlakes": true
        },
        "title": "2015 US Medicare inpatient charges and payments by State<br>(Hover for breakdown)"
       }
      },
      "text/html": [
       "<div id=\"3611c67b-5bbb-4dcf-8bcb-bbe8ba24cb93\" style=\"height: 525px; width: 100%;\" class=\"plotly-graph-div\"></div><script type=\"text/javascript\">require([\"plotly\"], function(Plotly) { window.PLOTLYENV=window.PLOTLYENV || {};window.PLOTLYENV.BASE_URL=\"https://plot.ly\";Plotly.newPlot(\"3611c67b-5bbb-4dcf-8bcb-bbe8ba24cb93\", [{\"type\": \"choropleth\", \"colorscale\": [[0.0, \"rgb(242,240,247)\"], [0.2, \"rgb(218,218,235)\"], [0.4, \"rgb(188,189,220)\"], [0.6, \"rgb(158,154,200)\"], [0.8, \"rgb(117,107,177)\"], [1.0, \"rgb(84,39,143)\"]], \"autocolorscale\": false, \"locations\": [\"AK\", \"AL\", \"AR\", \"AZ\", \"CA\", \"CO\", \"CT\", \"DC\", \"DE\", \"FL\", \"GA\", \"HI\", \"IA\", \"ID\", \"IL\", \"IN\", \"KS\", \"KY\", \"LA\", \"MA\", \"MD\", \"ME\", \"MI\", \"MN\", \"MO\", \"MS\", \"MT\", \"NC\", \"ND\", \"NE\", \"NH\", \"NJ\", \"NM\", \"NV\", \"NY\", \"OH\", \"OK\", \"OR\", \"PA\", \"RI\", \"SC\", \"SD\", \"TN\", \"TX\", \"UT\", \"VA\", \"VT\", \"WA\", \"WI\", \"WV\", \"WY\"], \"z\": [8.0, 83.0, 44.0, 59.0, 294.0, 45.0, 29.0, 7.0, 6.0, 167.0, 100.0, 12.0, 34.0, 13.0, 126.0, 86.0, 53.0, 65.0, 86.0, 57.0, 47.0, 18.0, 94.0, 48.0, 74.0, 56.0, 13.0, 81.0, 7.0, 24.0, 13.0, 64.0, 27.0, 21.0, 151.0, 128.0, 81.0, 34.0, 152.0, 11.0, 54.0, 19.0, 92.0, 285.0, 31.0, 74.0, 6.0, 48.0, 65.0, 29.0, 10.0], \"locationmode\": \"USA-states\", \"text\": [\"AK<br>ACC19.67722111 AMP 4.47738627<br>ATP 5.03005134\", \"AL<br>ACC214.0468954 AMP 36.72015855<br>ATP 43.10629454\", \"AR<br>ACC97.7853691 AMP 22.51498072<br>ATP 26.25726301\", \"AZ<br>ACC214.20958869 AMP 40.50999355<br>ATP 47.21703623\", \"CA<br>ACC1476.41709006 AMP 229.50035055<br>ATP 259.49419839\", \"CO<br>ACC152.90255493 AMP 25.4972312<br>ATP 30.24909169\", \"CT<br>ACC116.50639335 AMP 31.55987962<br>ATP 37.590633\", \"DC<br>ACC51.10859639 AMP 10.94568698<br>ATP 14.16204539\", \"DE<br>ACC27.08535926 AMP 8.08701231<br>ATP 9.80590952\", \"FL<br>ACC1043.92473422 AMP 149.97865835<br>ATP 175.63080683\", \"GA<br>ACC275.04970827 AMP 59.03627861<br>ATP 68.09851998\", \"HI<br>ACC20.75940972 AMP 6.61988807<br>ATP 8.02764189\", \"IA<br>ACC82.62576159 AMP 20.9586374<br>ATP 24.51924795\", \"ID<br>ACC28.86003452 AMP 7.47716013<br>ATP 8.70283665\", \"IL<br>ACC468.73978925 AMP 94.43245709<br>ATP 114.3230777\", \"IN<br>ACC235.40753664 AMP 51.15992077<br>ATP 60.29516263\", \"KS<br>ACC107.57046532 AMP 20.92155046<br>ATP 24.18343548\", \"KY<br>ACC164.60492174 AMP 36.34683464<br>ATP 43.15527318\", \"LA<br>ACC153.05713163 AMP 30.46298888<br>ATP 36.80452577\", \"MA<br>ACC172.54767267 AMP 70.11190884<br>ATP 79.49423332\", \"MD<br>ACC84.79109578 AMP 71.61804219<br>ATP 78.59047597\", \"ME<br>ACC30.79881745 AMP 9.91045519<br>ATP 11.83140665\", \"MI<br>ACC270.84793866 AMP 85.4975881<br>ATP 100.20956261\", \"MN<br>ACC144.60821358 AMP 43.64392563<br>ATP 51.54481371\", \"MO<br>ACC235.36230961 AMP 52.15242003<br>ATP 59.93173731\", \"MS<br>ACC122.75147685 AMP 24.37980565<br>ATP 28.20775413\", \"MT<br>ACC21.21139111 AMP 6.41977764<br>ATP 7.29279022\", \"NC<br>ACC263.98640165 AMP 67.84346434<br>ATP 82.01221881\", \"ND<br>ACC22.05055654 AMP 6.96726019<br>ATP 8.00114884\", \"NE<br>ACC60.49781636 AMP 14.48311854<br>ATP 17.17230149\", \"NH<br>ACC42.7640495 AMP 11.43722401<br>ATP 13.33074535\", \"NJ<br>ACC588.86403956 AMP 81.16521782<br>ATP 94.55567819\", \"NM<br>ACC39.52240946 AMP 10.19383851<br>ATP 11.79658235\", \"NV<br>ACC137.68783711 AMP 18.54361923<br>ATP 21.53524354\", \"NY<br>ACC622.84276215 AMP 158.61160474<br>ATP 186.27051315\", \"OH<br>ACC347.81815346 AMP 77.0036423<br>ATP 94.8386596\", \"OK<br>ACC145.85701514 AMP 29.12746185<br>ATP 34.36902654\", \"OR<br>ACC68.98860801 AMP 21.45912008<br>ATP 24.87473132\", \"PA<br>ACC607.31276256 AMP 100.26168464<br>ATP 124.98152554\", \"RI<br>ACC27.37318671 AMP 8.166217<br>ATP 9.49194347\", \"SC<br>ACC200.48138103 AMP 35.67712218<br>ATP 42.97830503\", \"SD<br>ACC31.04428915 AMP 7.67214796<br>ATP 8.80989429\", \"TN<br>ACC250.08530568 AMP 50.00039121<br>ATP 58.28555118\", \"TX<br>ACC903.28013587 AMP 145.0167974<br>ATP 175.82182233\", \"UT<br>ACC41.13670905 AMP 11.56173499<br>ATP 14.68329199\", \"VA<br>ACC266.93813653 AMP 56.32122582<br>ATP 70.05691167\", \"VT<br>ACC10.85643936 AMP 4.38203323<br>ATP 5.03611321\", \"WA<br>ACC194.70868551 AMP 43.76432677<br>ATP 51.71246728\", \"WI<br>ACC135.04544638 AMP 34.86645527<br>ATP 42.21091103\", \"WV<br>ACC53.0907517 AMP 15.3002594<br>ATP 18.60003454\", \"WY<br>ACC9.43778355 AMP 3.05232141<br>ATP 3.53147259\"], \"marker\": {\"line\": {\"color\": \"rgb(255,255,255)\", \"width\": 2}}, \"colorbar\": {\"title\": \"Millions USD\"}}], {\"title\": \"2015 US Medicare inpatient charges and payments by State<br>(Hover for breakdown)\", \"geo\": {\"scope\": \"usa\", \"projection\": {\"type\": \"albers usa\"}, \"showlakes\": true, \"lakecolor\": \"rgb(255, 255, 255)\"}}, {\"showLink\": true, \"linkText\": \"Export to plot.ly\"})});</script>"
      ],
      "text/vnd.plotly.v1+html": [
       "<div id=\"3611c67b-5bbb-4dcf-8bcb-bbe8ba24cb93\" style=\"height: 525px; width: 100%;\" class=\"plotly-graph-div\"></div><script type=\"text/javascript\">require([\"plotly\"], function(Plotly) { window.PLOTLYENV=window.PLOTLYENV || {};window.PLOTLYENV.BASE_URL=\"https://plot.ly\";Plotly.newPlot(\"3611c67b-5bbb-4dcf-8bcb-bbe8ba24cb93\", [{\"type\": \"choropleth\", \"colorscale\": [[0.0, \"rgb(242,240,247)\"], [0.2, \"rgb(218,218,235)\"], [0.4, \"rgb(188,189,220)\"], [0.6, \"rgb(158,154,200)\"], [0.8, \"rgb(117,107,177)\"], [1.0, \"rgb(84,39,143)\"]], \"autocolorscale\": false, \"locations\": [\"AK\", \"AL\", \"AR\", \"AZ\", \"CA\", \"CO\", \"CT\", \"DC\", \"DE\", \"FL\", \"GA\", \"HI\", \"IA\", \"ID\", \"IL\", \"IN\", \"KS\", \"KY\", \"LA\", \"MA\", \"MD\", \"ME\", \"MI\", \"MN\", \"MO\", \"MS\", \"MT\", \"NC\", \"ND\", \"NE\", \"NH\", \"NJ\", \"NM\", \"NV\", \"NY\", \"OH\", \"OK\", \"OR\", \"PA\", \"RI\", \"SC\", \"SD\", \"TN\", \"TX\", \"UT\", \"VA\", \"VT\", \"WA\", \"WI\", \"WV\", \"WY\"], \"z\": [8.0, 83.0, 44.0, 59.0, 294.0, 45.0, 29.0, 7.0, 6.0, 167.0, 100.0, 12.0, 34.0, 13.0, 126.0, 86.0, 53.0, 65.0, 86.0, 57.0, 47.0, 18.0, 94.0, 48.0, 74.0, 56.0, 13.0, 81.0, 7.0, 24.0, 13.0, 64.0, 27.0, 21.0, 151.0, 128.0, 81.0, 34.0, 152.0, 11.0, 54.0, 19.0, 92.0, 285.0, 31.0, 74.0, 6.0, 48.0, 65.0, 29.0, 10.0], \"locationmode\": \"USA-states\", \"text\": [\"AK<br>ACC19.67722111 AMP 4.47738627<br>ATP 5.03005134\", \"AL<br>ACC214.0468954 AMP 36.72015855<br>ATP 43.10629454\", \"AR<br>ACC97.7853691 AMP 22.51498072<br>ATP 26.25726301\", \"AZ<br>ACC214.20958869 AMP 40.50999355<br>ATP 47.21703623\", \"CA<br>ACC1476.41709006 AMP 229.50035055<br>ATP 259.49419839\", \"CO<br>ACC152.90255493 AMP 25.4972312<br>ATP 30.24909169\", \"CT<br>ACC116.50639335 AMP 31.55987962<br>ATP 37.590633\", \"DC<br>ACC51.10859639 AMP 10.94568698<br>ATP 14.16204539\", \"DE<br>ACC27.08535926 AMP 8.08701231<br>ATP 9.80590952\", \"FL<br>ACC1043.92473422 AMP 149.97865835<br>ATP 175.63080683\", \"GA<br>ACC275.04970827 AMP 59.03627861<br>ATP 68.09851998\", \"HI<br>ACC20.75940972 AMP 6.61988807<br>ATP 8.02764189\", \"IA<br>ACC82.62576159 AMP 20.9586374<br>ATP 24.51924795\", \"ID<br>ACC28.86003452 AMP 7.47716013<br>ATP 8.70283665\", \"IL<br>ACC468.73978925 AMP 94.43245709<br>ATP 114.3230777\", \"IN<br>ACC235.40753664 AMP 51.15992077<br>ATP 60.29516263\", \"KS<br>ACC107.57046532 AMP 20.92155046<br>ATP 24.18343548\", \"KY<br>ACC164.60492174 AMP 36.34683464<br>ATP 43.15527318\", \"LA<br>ACC153.05713163 AMP 30.46298888<br>ATP 36.80452577\", \"MA<br>ACC172.54767267 AMP 70.11190884<br>ATP 79.49423332\", \"MD<br>ACC84.79109578 AMP 71.61804219<br>ATP 78.59047597\", \"ME<br>ACC30.79881745 AMP 9.91045519<br>ATP 11.83140665\", \"MI<br>ACC270.84793866 AMP 85.4975881<br>ATP 100.20956261\", \"MN<br>ACC144.60821358 AMP 43.64392563<br>ATP 51.54481371\", \"MO<br>ACC235.36230961 AMP 52.15242003<br>ATP 59.93173731\", \"MS<br>ACC122.75147685 AMP 24.37980565<br>ATP 28.20775413\", \"MT<br>ACC21.21139111 AMP 6.41977764<br>ATP 7.29279022\", \"NC<br>ACC263.98640165 AMP 67.84346434<br>ATP 82.01221881\", \"ND<br>ACC22.05055654 AMP 6.96726019<br>ATP 8.00114884\", \"NE<br>ACC60.49781636 AMP 14.48311854<br>ATP 17.17230149\", \"NH<br>ACC42.7640495 AMP 11.43722401<br>ATP 13.33074535\", \"NJ<br>ACC588.86403956 AMP 81.16521782<br>ATP 94.55567819\", \"NM<br>ACC39.52240946 AMP 10.19383851<br>ATP 11.79658235\", \"NV<br>ACC137.68783711 AMP 18.54361923<br>ATP 21.53524354\", \"NY<br>ACC622.84276215 AMP 158.61160474<br>ATP 186.27051315\", \"OH<br>ACC347.81815346 AMP 77.0036423<br>ATP 94.8386596\", \"OK<br>ACC145.85701514 AMP 29.12746185<br>ATP 34.36902654\", \"OR<br>ACC68.98860801 AMP 21.45912008<br>ATP 24.87473132\", \"PA<br>ACC607.31276256 AMP 100.26168464<br>ATP 124.98152554\", \"RI<br>ACC27.37318671 AMP 8.166217<br>ATP 9.49194347\", \"SC<br>ACC200.48138103 AMP 35.67712218<br>ATP 42.97830503\", \"SD<br>ACC31.04428915 AMP 7.67214796<br>ATP 8.80989429\", \"TN<br>ACC250.08530568 AMP 50.00039121<br>ATP 58.28555118\", \"TX<br>ACC903.28013587 AMP 145.0167974<br>ATP 175.82182233\", \"UT<br>ACC41.13670905 AMP 11.56173499<br>ATP 14.68329199\", \"VA<br>ACC266.93813653 AMP 56.32122582<br>ATP 70.05691167\", \"VT<br>ACC10.85643936 AMP 4.38203323<br>ATP 5.03611321\", \"WA<br>ACC194.70868551 AMP 43.76432677<br>ATP 51.71246728\", \"WI<br>ACC135.04544638 AMP 34.86645527<br>ATP 42.21091103\", \"WV<br>ACC53.0907517 AMP 15.3002594<br>ATP 18.60003454\", \"WY<br>ACC9.43778355 AMP 3.05232141<br>ATP 3.53147259\"], \"marker\": {\"line\": {\"color\": \"rgb(255,255,255)\", \"width\": 2}}, \"colorbar\": {\"title\": \"Millions USD\"}}], {\"title\": \"2015 US Medicare inpatient charges and payments by State<br>(Hover for breakdown)\", \"geo\": {\"scope\": \"usa\", \"projection\": {\"type\": \"albers usa\"}, \"showlakes\": true, \"lakecolor\": \"rgb(255, 255, 255)\"}}, {\"showLink\": true, \"linkText\": \"Export to plot.ly\"})});</script>"
      ]
     },
     "metadata": {},
     "output_type": "display_data"
    }
   ],
   "source": [
    "data = [ dict(\n",
    "        type='choropleth',\n",
    "        colorscale = scl,\n",
    "        autocolorscale = False,\n",
    "        locations = state_totals_df[\"State\"],\n",
    "        z = state_totals_df[\"Total providers\"].astype(float),\n",
    "        locationmode = 'USA-states',\n",
    "        text = state_totals_df['text'],\n",
    "        marker = dict(\n",
    "            line = dict (\n",
    "                color = 'rgb(255,255,255)',\n",
    "                width = 2\n",
    "            ) ),\n",
    "        colorbar = dict(\n",
    "            title = \"Millions USD\")\n",
    "        ) ]\n",
    "\n",
    "layout = dict(\n",
    "        title = '2015 US Medicare inpatient charges and payments by State<br>(Hover for breakdown)',\n",
    "        geo = dict(\n",
    "            scope='usa',\n",
    "            projection=dict( type='albers usa' ),\n",
    "            showlakes = True,\n",
    "            lakecolor = 'rgb(255, 255, 255)'),\n",
    "             )\n",
    "    \n",
    "fig = dict( data=data, layout=layout )\n",
    "iplot( fig, filename='d3-cloropleth-map' )"
   ]
  },
  {
   "cell_type": "code",
   "execution_count": null,
   "metadata": {},
   "outputs": [],
   "source": []
  }
 ],
 "metadata": {
  "kernelspec": {
   "display_name": "Python 3",
   "language": "python",
   "name": "python3"
  },
  "language_info": {
   "codemirror_mode": {
    "name": "ipython",
    "version": 3
   },
   "file_extension": ".py",
   "mimetype": "text/x-python",
   "name": "python",
   "nbconvert_exporter": "python",
   "pygments_lexer": "ipython3",
   "version": "3.6.3"
  }
 },
 "nbformat": 4,
 "nbformat_minor": 2
}
