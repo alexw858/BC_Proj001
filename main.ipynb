{
 "cells": [
  {
   "cell_type": "markdown",
   "metadata": {},
   "source": [
    "# Project 001 UCSD Data Science Visualization Bootcamp\n",
    "* Noreen Malik 😃\n",
    "* Rene Venema(\"dutch\") 🐱\n",
    "* John Warlop 🦁\n",
    "* Alex Wooten 🏄\n",
    "\n",
    "😛😳😗😓🙉😸🙈🙊😽💀💢💥✨💏👫👄👃👀👛👛🗼🔮🔮🎄🎅👻"
   ]
  },
  {
   "cell_type": "markdown",
   "metadata": {},
   "source": [
    "## Dependencies -- imports\n"
   ]
  },
  {
   "cell_type": "code",
   "execution_count": 1,
   "metadata": {},
   "outputs": [
    {
     "data": {
      "text/html": [
       "<script>requirejs.config({paths: { 'plotly': ['https://cdn.plot.ly/plotly-latest.min']},});if(!window.Plotly) {{require(['plotly'],function(plotly) {window.Plotly=plotly;});}}</script>"
      ],
      "text/vnd.plotly.v1+html": [
       "<script>requirejs.config({paths: { 'plotly': ['https://cdn.plot.ly/plotly-latest.min']},});if(!window.Plotly) {{require(['plotly'],function(plotly) {window.Plotly=plotly;});}}</script>"
      ]
     },
     "metadata": {},
     "output_type": "display_data"
    }
   ],
   "source": [
    "import pandas as pd\n",
    "from sodapy import Socrata #pip install socrata\n",
    "import plotly.plotly as py #pip installl plotly\n",
    "from plotly.offline import download_plotlyjs, init_notebook_mode,plot,iplot\n",
    "init_notebook_mode(connected=True)\n",
    "import json\n"
   ]
  },
  {
   "cell_type": "markdown",
   "metadata": {},
   "source": [
    "## Constants -- API Keys, etc"
   ]
  },
  {
   "cell_type": "code",
   "execution_count": 2,
   "metadata": {},
   "outputs": [],
   "source": [
    "# Read in API(.gitignore file has entry for api_keys.json file)\n",
    "API_endpoint = \"https://data.cms.gov/resource/spmh-qjdv.json\" #2015 data\n",
    "\n",
    "\n",
    "IRS_DATAFRAME_PICKLE = 'df_irs.pkl'\n",
    "with open('api_keys.json') as json_data:\n",
    "    api_keys = json.load(json_data)\n",
    "\n",
    "# Socrata Section\n",
    "socrata_domain = \"data.cms.gov\"\n",
    "socrata_dataset_identifier = \"spmh-qjdv\"\n",
    "socrata_token = api_keys['socrata']['App_Token']\n",
    "#print(api_keys['socrata']['App_Token'])\n",
    "#print(api_keys['socrata']['Secret_Token'])\n",
    "#print(api_keys['zillow']['ZWSID'])\n",
    "\n"
   ]
  },
  {
   "cell_type": "markdown",
   "metadata": {},
   "source": [
    "## Functions \n"
   ]
  },
  {
   "cell_type": "code",
   "execution_count": 3,
   "metadata": {},
   "outputs": [],
   "source": [
    "def return_irs_df(file_name):\n",
    "    #return the pickled dataframe for irs data\n",
    "    df_irs = pd.read_pickle(file_name)\n",
    "    return(df_irs)"
   ]
  },
  {
   "cell_type": "markdown",
   "metadata": {},
   "source": [
    "# IRS Dataframe\n",
    "[Link to Documentation](https://www.irs.gov/statistics/soi-tax-stats-individual-income-tax-statistics-2015-zip-code-data-soi) |\n",
    "[SOI Tax Stats](https://www.irs.gov/statistics/soi-tax-stats-statistical-methodology) | [Data Cleaning of IRS Data](https://docs.google.com/document/d/1kNd1S_Ufgy0pIjJSjLDHba8y-pK8OYe47iAGeamH04E/edit?usp=sharing)"
   ]
  },
  {
   "cell_type": "code",
   "execution_count": 4,
   "metadata": {},
   "outputs": [
    {
     "data": {
      "text/plain": [
       "Index(['ST', 'Zip', 'AGI', 'TtlR', 'TtlSR', 'TtlJR', 'Eld'], dtype='object')"
      ]
     },
     "execution_count": 4,
     "metadata": {},
     "output_type": "execute_result"
    }
   ],
   "source": [
    "# Dataframe columns are: ST(State), Zip(Zip Code), AGI(Adjusted Gross Income),TtlR(Total Returns)\n",
    "# TtlSR(Total Single Returns), TtlJR(Total Joint Returns), Eld(Number of Elderly Returns -- over 60 years old)\n",
    "# AGI column is agreegated: \n",
    "# 1=> [1-25000), 2=> [25000-50000), 3=> [50000-75000), 4=> [75000-100000),\n",
    "# 5=> [100000,200000), 6=> [200000-]\n",
    "df_irs = return_irs_df(IRS_DATAFRAME_PICKLE)\n",
    "df_irs.columns"
   ]
  },
  {
   "cell_type": "markdown",
   "metadata": {},
   "source": [
    "# Dataframe - Medicare csv/api (dutch)\n",
    "[Link to Documentation](https://dev.socrata.com/foundry/data.cms.gov/ehrv-m9r6)\n"
   ]
  },
  {
   "cell_type": "code",
   "execution_count": 5,
   "metadata": {},
   "outputs": [],
   "source": [
    "#main_df = pd.read_csv(\"main_data_cleaned.csv\")\n",
    "#main_df.head()\n",
    "client = Socrata(socrata_domain, socrata_token)\n",
    "results = client.get(socrata_dataset_identifier, limit = 100000000) #default for limit (integer) = 1000\n",
    "main_df = pd.DataFrame.from_dict(results)\n",
    "main_df.head()\n",
    "# Convert column datatypes\n",
    "## Convert to float\n",
    "col1 = [\"average_covered_charges\",\"average_medicare_payments\",\"average_total_payments\"]\n",
    "main_df[col1] = main_df[col1].astype(\"float\")\n",
    "## Convert to integer\n",
    "col2 = [\"provider_id\",\"provider_zip_code\",\"total_discharges\"]\n",
    "main_df[col2] = main_df[col2].astype(\"int\")\n",
    "# Export data to csv file\n",
    "main_df.to_csv(\"main data cleaned.csv\", encoding = \"utf-8-sig\", index = False)"
   ]
  },
  {
   "cell_type": "code",
   "execution_count": 6,
   "metadata": {},
   "outputs": [],
   "source": [
    "# Import data from csv\n",
    "main_df = pd.read_csv(\"main data cleaned.csv\")"
   ]
  },
  {
   "cell_type": "markdown",
   "metadata": {},
   "source": [
    "# Avg Cost Per Provider (Alex)"
   ]
  },
  {
   "cell_type": "code",
   "execution_count": 7,
   "metadata": {},
   "outputs": [
    {
     "data": {
      "text/plain": [
       "Index(['average_covered_charges', 'average_total_payments',\n",
       "       'average_medicare_payments'],\n",
       "      dtype='object')"
      ]
     },
     "execution_count": 7,
     "metadata": {},
     "output_type": "execute_result"
    }
   ],
   "source": [
    "# ACC = Average Covered Charges\n",
    "#     The provider's average charge for services covered by Medicare for all discharges\n",
    "#     in the DRG. These will vary from\n",
    "#     hospital to hospital because of differences in hospital charge structures.\n",
    "# ATP = Average Total Payments\n",
    "#     The average of Medicare payments to the provider for the DRG including the\n",
    "#     DRG amount, teaching,  disproportionate \n",
    "#     share, capital, and outlier payments for all cases. Also included \n",
    "#     are co-payment and deductible amounts that the \n",
    "#     patient is responsible for (average_medicare_payments)\n",
    "# AMP = Average Medicare Payments\n",
    "#     average_medicare_payments_2?\n",
    "#     Not sure what this column represents\n",
    "\n",
    "\n",
    "# Create a Groupby based on Provider Id and Provider name\n",
    "# Calculate mean values in ACC, ATP, AMP (or we may just be interested in what\n",
    "# the patient pays)\n",
    "# I could also sum up the average value of payments by patient and by insurance\n",
    "# to see average total value provider charges\n",
    "\n",
    "cost_df = main_df[[\"provider_id\", \"provider_name\", \"average_covered_charges\",\\\n",
    "                   \"average_total_payments\", \"average_medicare_payments\"]]\n",
    "\n",
    "provider_group = cost_df.groupby([\"provider_id\", \"provider_name\"])\n",
    "avg_cost_group = round(provider_group.mean(),2)\n",
    "avg_cost_group.columns\n",
    "\n"
   ]
  },
  {
   "cell_type": "code",
   "execution_count": 8,
   "metadata": {},
   "outputs": [],
   "source": [
    "# Most Expensive Hospitals\n",
    "\n",
    "# avg_cost_group[\"Charge Per Patient\"] = avg_cost_group[[\"average_total_payments\", \"average_medicare_payments\"]].diff(axis=1)\n",
    "\n",
    "\n",
    "avg_cost_group[\"average_patient_payment\"] = (avg_cost_group[\"average_total_payments\"]-\n",
    "                                             avg_cost_group[\"average_medicare_payments\"])\n",
    "# avg_cost_group.sort_values(by=[\"average_patient_payment\"], ascending=False)"
   ]
  },
  {
   "cell_type": "markdown",
   "metadata": {},
   "source": [
    "# Avg Cost of Procedure in each state(John)"
   ]
  },
  {
   "cell_type": "code",
   "execution_count": null,
   "metadata": {},
   "outputs": [],
   "source": [
    "#main_df['ACC'].groupby(main_df['Provider State']).head()\n",
    "#state_office = df.groupby(['state', 'office_id']).agg({'sales': 'sum'})\n",
    "#main_df.rename(columns = {list(main_df)[8]: 'TtlDis'}, inplace = True)\n",
    "df_costs = main_df.groupby(['provider_state']).\\\n",
    "            aggregate({'average_covered_charges':'sum',\\\n",
    "                       'average_total_payments':'sum','total_discharges':'sum'})\n",
    "df_costs['Ttl_billed_per_p']  = (df_costs['average_covered_charges']+df_costs['average_total_payments'])\\\n",
    "                                /df_costs['total_discharges']\n",
    "df_costs['Ttl_covered_per_p'] =  df_costs['average_covered_charges']/df_costs['total_discharges']\n",
    "df_costs['Ttl_oop_per_p'] = df_costs['average_total_payments']/df_costs['total_discharges']\n",
    "df_costs.columns\n",
    "#df_acc = main_df.groupby(['Provider State']).aggregate({'ACC':'sum'})\n",
    "#df_atp = main_df.groupby(['Provider State']).aggregate({'ATP':'sum'})\n",
    "#df_ttlD = main_df.groupby(['Provider State']).aggregate({'TtlDis':'sum'})\n",
    "#df_ttlD.iloc[:,0:]"
   ]
  },
  {
   "cell_type": "markdown",
   "metadata": {},
   "source": [
    "# Comparing procedure costs vs income in zip code(John)"
   ]
  },
  {
   "cell_type": "code",
   "execution_count": null,
   "metadata": {},
   "outputs": [],
   "source": []
  },
  {
   "cell_type": "markdown",
   "metadata": {},
   "source": [
    "# Data Exploration"
   ]
  },
  {
   "cell_type": "markdown",
   "metadata": {},
   "source": [
    "## Dutch"
   ]
  },
  {
   "cell_type": "code",
   "execution_count": null,
   "metadata": {},
   "outputs": [],
   "source": [
    "# Unique DRG definitions\n",
    "main_df[\"drg_definition\"].nunique()"
   ]
  },
  {
   "cell_type": "code",
   "execution_count": null,
   "metadata": {},
   "outputs": [],
   "source": [
    "# Unique HRR Descriptions\n",
    "main_df[\"hospital_referral_region_hrr_description\"].nunique()"
   ]
  },
  {
   "cell_type": "code",
   "execution_count": null,
   "metadata": {},
   "outputs": [],
   "source": [
    "# Unique providers\n",
    "main_df[\"provider_id\"].nunique()# Unique states (including the federal district D.C. (Washington D.C.))\n",
    "main_df[\"provider_state\"].nunique()"
   ]
  },
  {
   "cell_type": "code",
   "execution_count": null,
   "metadata": {
    "scrolled": true
   },
   "outputs": [],
   "source": [
    "# Providers per state\n",
    "main_df.groupby(\"provider_state\")[\"provider_id\"].nunique()"
   ]
  },
  {
   "cell_type": "code",
   "execution_count": null,
   "metadata": {},
   "outputs": [],
   "source": [
    "# US state map\n",
    "## Total ACC, ATP and AMP by provider state\n",
    "state_totals_df = main_df.groupby(\"provider_state\", as_index = False).agg({\"provider_id\":\"nunique\",\n",
    "                                                                           \"average_covered_charges\":\"sum\",\n",
    "                                                                           \"average_medicare_payments\":\"sum\",\n",
    "                                                                           \"average_total_payments\":\"sum\"})\n",
    "\n",
    "cols = [\"average_covered_charges\",\"average_medicare_payments\",\"average_total_payments\"]\n",
    "state_totals_df[cols] = state_totals_df[cols]/1000000\n",
    "\n",
    "state_totals_df = state_totals_df.rename(columns={\"provider_state\":\"State\",\n",
    "                                                  \"provider_id\":\"Total providers\",\n",
    "                                                  \"average_covered_charges\":\"ACC Total\",\n",
    "                                                  \"average_medicare_payments\":\"AMP Total\",\n",
    "                                                  \"average_total_payments\":\"ATP Total\"\n",
    "                                                 })\n",
    "\n",
    "state_totals_df.head()\n",
    "\n",
    "for col in state_totals_df.columns:\n",
    "    state_totals_df[col] = state_totals_df[col].astype(str)"
   ]
  },
  {
   "cell_type": "code",
   "execution_count": null,
   "metadata": {},
   "outputs": [],
   "source": [
    "scl = [[0.0, \"rgb(242,240,247)\"],[0.2, \"rgb(218,218,235)\"],[0.4, \"rgb(188,189,220)\"],\n",
    "            [0.6, \"rgb(158,154,200)\"],[0.8, \"rgb(117,107,177)\"],[1.0, \"rgb(84,39,143)\"]]"
   ]
  },
  {
   "cell_type": "code",
   "execution_count": null,
   "metadata": {},
   "outputs": [],
   "source": [
    "state_totals_df['text'] = state_totals_df[\"State\"] + '<br>' +\\\n",
    "    \"ACC\"+state_totals_df[\"ACC Total\"]+' AMP '+state_totals_df[\"AMP Total\"]+'<br>'+\\\n",
    "    'ATP '+state_totals_df[\"ATP Total\"]"
   ]
  },
  {
   "cell_type": "code",
   "execution_count": null,
   "metadata": {},
   "outputs": [],
   "source": [
    "data = [ dict(\n",
    "        type='choropleth',\n",
    "        colorscale = scl,\n",
    "        autocolorscale = False,\n",
    "        locations = state_totals_df[\"State\"],\n",
    "        z = state_totals_df[\"Total providers\"].astype(float),\n",
    "        locationmode = 'USA-states',\n",
    "        text = state_totals_df['text'],\n",
    "        marker = dict(\n",
    "            line = dict (\n",
    "                color = 'rgb(255,255,255)',\n",
    "                width = 2\n",
    "            ) ),\n",
    "        colorbar = dict(\n",
    "            title = \"Millions USD\")\n",
    "        ) ]\n",
    "\n",
    "layout = dict(\n",
    "        title = '2015 US Medicare inpatient charges and payments by State<br>(Hover for breakdown)',\n",
    "        geo = dict(\n",
    "            scope='usa',\n",
    "            projection=dict( type='albers usa' ),\n",
    "            showlakes = True,\n",
    "            lakecolor = 'rgb(255, 255, 255)'),\n",
    "             )\n",
    "    \n",
    "fig = dict( data=data, layout=layout )\n",
    "iplot( fig, filename='d3-cloropleth-map' )"
   ]
  },
  {
   "cell_type": "code",
   "execution_count": null,
   "metadata": {},
   "outputs": [],
   "source": []
  }
 ],
 "metadata": {
  "kernelspec": {
   "display_name": "Python 3",
   "language": "python",
   "name": "python3"
  },
  "language_info": {
   "codemirror_mode": {
    "name": "ipython",
    "version": 3
   },
   "file_extension": ".py",
   "mimetype": "text/x-python",
   "name": "python",
   "nbconvert_exporter": "python",
   "pygments_lexer": "ipython3",
   "version": "3.6.4"
  }
 },
 "nbformat": 4,
 "nbformat_minor": 2
}
