{
 "cells": [
  {
   "cell_type": "markdown",
   "metadata": {},
   "source": [
    "# Project 001 UCSD Data Science Visualization Bootcamp\n",
    "* Noreen Malik 😃\n",
    "* Rene Venema(\"dutch\") 🐱\n",
    "* John Warlop 🦁\n",
    "* Alex Wooten 🏄\n",
    "\n",
    "😛😳😗😓🙉😸🙈🙊😽💀💢💥✨💏👫👄👃👀👛👛🗼🔮🔮🎄🎅👻"
   ]
  },
  {
   "cell_type": "markdown",
   "metadata": {},
   "source": [
    "## Dependencies -- imports\n"
   ]
  },
  {
   "cell_type": "code",
   "execution_count": 1,
   "metadata": {},
   "outputs": [
    {
     "data": {
      "text/html": [
       "<script>requirejs.config({paths: { 'plotly': ['https://cdn.plot.ly/plotly-latest.min']},});if(!window.Plotly) {{require(['plotly'],function(plotly) {window.Plotly=plotly;});}}</script>"
      ],
      "text/vnd.plotly.v1+html": [
       "<script>requirejs.config({paths: { 'plotly': ['https://cdn.plot.ly/plotly-latest.min']},});if(!window.Plotly) {{require(['plotly'],function(plotly) {window.Plotly=plotly;});}}</script>"
      ]
     },
     "metadata": {},
     "output_type": "display_data"
    }
   ],
   "source": [
    "import pandas as pd\n",
    "from sodapy import Socrata #pip install socrata\n",
    "import plotly.plotly as py #pip install plotly\n",
    "from plotly.offline import download_plotlyjs, init_notebook_mode,plot,iplot\n",
    "init_notebook_mode(connected=True)\n",
    "import json\n"
   ]
  },
  {
   "cell_type": "markdown",
   "metadata": {},
   "source": [
    "## Constants -- API Keys, etc"
   ]
  },
  {
   "cell_type": "code",
   "execution_count": 2,
   "metadata": {},
   "outputs": [],
   "source": [
    "# Read in API(.gitignore file has entry for api_keys.json file)\n",
    "API_endpoint = \"https://data.cms.gov/resource/spmh-qjdv.json\" #2015 data\n",
    "\n",
    "\n",
    "IRS_DATAFRAME_PICKLE = 'df_irs.pkl'\n",
    "with open('api_keys.json') as json_data:\n",
    "    api_keys = json.load(json_data)\n",
    "\n",
    "# Socrata Section\n",
    "socrata_domain = \"data.cms.gov\"\n",
    "socrata_dataset_identifier = \"spmh-qjdv\"\n",
    "socrata_token = api_keys['socrata']['App_Token']\n",
    "#print(api_keys['socrata']['App_Token'])\n",
    "#print(api_keys['socrata']['Secret_Token'])\n",
    "#print(api_keys['zillow']['ZWSID'])\n",
    "\n"
   ]
  },
  {
   "cell_type": "markdown",
   "metadata": {},
   "source": [
    "## Functions \n"
   ]
  },
  {
   "cell_type": "code",
   "execution_count": 3,
   "metadata": {},
   "outputs": [],
   "source": [
    "def return_irs_df(file_name):\n",
    "    #return the pickled dataframe for irs data\n",
    "    df_irs = pd.read_pickle(file_name)\n",
    "    return(df_irs)"
   ]
  },
  {
   "cell_type": "markdown",
   "metadata": {},
   "source": [
    "# IRS Dataframe\n",
    "[Link to Documentation](https://www.irs.gov/statistics/soi-tax-stats-individual-income-tax-statistics-2015-zip-code-data-soi) |\n",
    "[SOI Tax Stats](https://www.irs.gov/statistics/soi-tax-stats-statistical-methodology) | [Data Cleaning of IRS Data](https://docs.google.com/document/d/1kNd1S_Ufgy0pIjJSjLDHba8y-pK8OYe47iAGeamH04E/edit?usp=sharing)"
   ]
  },
  {
   "cell_type": "code",
   "execution_count": 35,
   "metadata": {},
   "outputs": [
    {
     "data": {
      "text/html": [
       "<div>\n",
       "<style>\n",
       "    .dataframe thead tr:only-child th {\n",
       "        text-align: right;\n",
       "    }\n",
       "\n",
       "    .dataframe thead th {\n",
       "        text-align: left;\n",
       "    }\n",
       "\n",
       "    .dataframe tbody tr th {\n",
       "        vertical-align: top;\n",
       "    }\n",
       "</style>\n",
       "<table border=\"1\" class=\"dataframe\">\n",
       "  <thead>\n",
       "    <tr style=\"text-align: right;\">\n",
       "      <th></th>\n",
       "      <th>ST</th>\n",
       "      <th>zip</th>\n",
       "      <th>AGI</th>\n",
       "      <th>TtlR</th>\n",
       "      <th>TtlSR</th>\n",
       "      <th>TtlJR</th>\n",
       "      <th>Eld</th>\n",
       "    </tr>\n",
       "  </thead>\n",
       "  <tbody>\n",
       "    <tr>\n",
       "      <th>0</th>\n",
       "      <td>AL</td>\n",
       "      <td>0</td>\n",
       "      <td>1</td>\n",
       "      <td>836320.0</td>\n",
       "      <td>481570.0</td>\n",
       "      <td>109790.0</td>\n",
       "      <td>149910.0</td>\n",
       "    </tr>\n",
       "    <tr>\n",
       "      <th>6</th>\n",
       "      <td>AL</td>\n",
       "      <td>35004</td>\n",
       "      <td>1</td>\n",
       "      <td>1490.0</td>\n",
       "      <td>970.0</td>\n",
       "      <td>230.0</td>\n",
       "      <td>350.0</td>\n",
       "    </tr>\n",
       "  </tbody>\n",
       "</table>\n",
       "</div>"
      ],
      "text/plain": [
       "   ST    zip  AGI      TtlR     TtlSR     TtlJR       Eld\n",
       "0  AL      0    1  836320.0  481570.0  109790.0  149910.0\n",
       "6  AL  35004    1    1490.0     970.0     230.0     350.0"
      ]
     },
     "execution_count": 35,
     "metadata": {},
     "output_type": "execute_result"
    }
   ],
   "source": [
    "# Dataframe columns are: ST(State), Zip(Zip Code), AGI(Adjusted Gross Income),\\\n",
    "# TtlR(Total Returns)\n",
    "# TtlSR(Total Single Returns), TtlJR(Total Joint Returns),\\\n",
    "# Eld(Number of Elderly Returns -- over 60 years old)\n",
    "# AGI column is agreegated: \n",
    "# 1=> [1-25000), 2=> [25000-50000), 3=> [50000-75000), 4=> [75000-100000),\n",
    "# 5=> [100000,200000), 6=> [200000-]\n",
    "df_irs = return_irs_df(IRS_DATAFRAME_PICKLE)\n",
    "df_irs = df_irs.rename(columns={'Zip':'zip'})\n",
    "# Breakout Each AGI bin into separate dataframe\n",
    "df_zip_25K = df_irs[df_irs['AGI']==1]\n",
    "df_zip_50K = df_irs[df_irs['AGI']==2]\n",
    "df_zip_75K = df_irs[df_irs['AGI']==3]\n",
    "df_zip_100K = df_irs[df_irs['AGI']==4]\n",
    "df_zip_200K = df_irs[df_irs['AGI']==5]\n",
    "df_zip_1M   = df_irs[df_irs['AGI']==6]\n",
    "df_zip_25K.head(2)\n",
    "#zip_s = df_irs['Zip'].tolist()\n",
    "#zip_s = ['0'+str(s) if len(str(s)) == 4 else str(s) for s in zip_s]\n",
    "#df_irs['Zip']= zip_s\n",
    "#gb_dict_irs = dict(list(df_irs.groupby(['Zip','AGI'])))\n",
    "#print(gb_dict_irs)"
   ]
  },
  {
   "cell_type": "markdown",
   "metadata": {},
   "source": [
    "# Dataframe - Medicare csv/api (dutch)\n",
    "[Link to Documentation](https://dev.socrata.com/foundry/data.cms.gov/ehrv-m9r6)\n"
   ]
  },
  {
   "cell_type": "code",
   "execution_count": null,
   "metadata": {},
   "outputs": [],
   "source": [
    "#main_df = pd.read_csv(\"main_data_cleaned.csv\")\n",
    "#main_df.head()\n",
    "client = Socrata(socrata_domain, socrata_token)\n",
    "results = client.get(socrata_dataset_identifier, limit = 100000000) #default for limit (integer) = 1000\n",
    "main_df = pd.DataFrame.from_dict(results)\n",
    "main_df.head()\n",
    "# Convert column datatypes\n",
    "## Convert to float\n",
    "col1 = [\"average_covered_charges\",\"average_medicare_payments\",\"average_total_payments\"]\n",
    "main_df[col1] = main_df[col1].astype(\"float\")\n",
    "## Convert to integer\n",
    "col2 = [\"provider_id\",\"provider_zip_code\",\"total_discharges\"]\n",
    "main_df[col2] = main_df[col2].astype(\"int\")\n",
    "# Export data to csv file\n",
    "main_df.to_csv(\"main data cleaned.csv\", encoding = \"utf-8-sig\", index = False)"
   ]
  },
  {
   "cell_type": "code",
   "execution_count": 20,
   "metadata": {},
   "outputs": [
    {
     "data": {
      "text/html": [
       "<div>\n",
       "<style>\n",
       "    .dataframe thead tr:only-child th {\n",
       "        text-align: right;\n",
       "    }\n",
       "\n",
       "    .dataframe thead th {\n",
       "        text-align: left;\n",
       "    }\n",
       "\n",
       "    .dataframe tbody tr th {\n",
       "        vertical-align: top;\n",
       "    }\n",
       "</style>\n",
       "<table border=\"1\" class=\"dataframe\">\n",
       "  <thead>\n",
       "    <tr style=\"text-align: right;\">\n",
       "      <th></th>\n",
       "      <th>average_covered_charges</th>\n",
       "      <th>average_medicare_payments</th>\n",
       "      <th>average_total_payments</th>\n",
       "      <th>drg_definition</th>\n",
       "      <th>hospital_referral_region_hrr_description</th>\n",
       "      <th>provider_city</th>\n",
       "      <th>provider_id</th>\n",
       "      <th>provider_name</th>\n",
       "      <th>provider_state</th>\n",
       "      <th>provider_street_address</th>\n",
       "      <th>provider_zip_code</th>\n",
       "      <th>total_discharges</th>\n",
       "    </tr>\n",
       "  </thead>\n",
       "  <tbody>\n",
       "    <tr>\n",
       "      <th>0</th>\n",
       "      <td>1014783.45</td>\n",
       "      <td>141193.91</td>\n",
       "      <td>171081.18</td>\n",
       "      <td>001 - HEART TRANSPLANT OR IMPLANT OF HEART ASS...</td>\n",
       "      <td>AL - Birmingham</td>\n",
       "      <td>BIRMINGHAM</td>\n",
       "      <td>10033</td>\n",
       "      <td>UNIVERSITY OF ALABAMA HOSPITAL</td>\n",
       "      <td>AL</td>\n",
       "      <td>619 SOUTH 19TH STREET</td>\n",
       "      <td>35233</td>\n",
       "      <td>11</td>\n",
       "    </tr>\n",
       "  </tbody>\n",
       "</table>\n",
       "</div>"
      ],
      "text/plain": [
       "   average_covered_charges  average_medicare_payments  average_total_payments  \\\n",
       "0               1014783.45                  141193.91               171081.18   \n",
       "\n",
       "                                      drg_definition  \\\n",
       "0  001 - HEART TRANSPLANT OR IMPLANT OF HEART ASS...   \n",
       "\n",
       "  hospital_referral_region_hrr_description provider_city  provider_id  \\\n",
       "0                          AL - Birmingham    BIRMINGHAM        10033   \n",
       "\n",
       "                    provider_name provider_state provider_street_address  \\\n",
       "0  UNIVERSITY OF ALABAMA HOSPITAL             AL   619 SOUTH 19TH STREET   \n",
       "\n",
       "   provider_zip_code  total_discharges  \n",
       "0              35233                11  "
      ]
     },
     "execution_count": 20,
     "metadata": {},
     "output_type": "execute_result"
    }
   ],
   "source": [
    "# Import data from csv\n",
    "main_df = pd.read_csv(\"main data cleaned.csv\")\n",
    "main_df.head(1)"
   ]
  },
  {
   "cell_type": "markdown",
   "metadata": {},
   "source": [
    "# Avg Cost Per Provider (Alex)"
   ]
  },
  {
   "cell_type": "code",
   "execution_count": null,
   "metadata": {},
   "outputs": [],
   "source": [
    "# ACC = Average Covered Charges\n",
    "#     The provider's average charge for services covered by Medicare for all discharges\n",
    "#     in the DRG. These will vary from\n",
    "#     hospital to hospital because of differences in hospital charge structures.\n",
    "# ATP = Average Total Payments\n",
    "#     The average of Medicare payments to the provider for the DRG including the\n",
    "#     DRG amount, teaching,  disproportionate \n",
    "#     share, capital, and outlier payments for all cases. Also included \n",
    "#     are co-payment and deductible amounts that the \n",
    "#     patient is responsible for (average_medicare_payments)\n",
    "# AMP = Average Medicare Payments\n",
    "#     average_medicare_payments_2?\n",
    "#     Not sure what this column represents\n",
    "\n",
    "\n",
    "# Create a Groupby based on Provider Id and Provider name\n",
    "# Calculate mean values in ACC, ATP, AMP (or we may just be interested in what\n",
    "# the patient pays)\n",
    "# I could also sum up the average value of payments by patient and by insurance\n",
    "# to see average total value provider charges\n",
    "\n",
    "cost_df = main_df[[\"provider_id\", \"provider_name\", \"average_covered_charges\",\\\n",
    "                   \"average_total_payments\", \"average_medicare_payments\"]]\n",
    "\n",
    "provider_group = cost_df.groupby([\"provider_id\", \"provider_name\"])\n",
    "avg_cost_group = round(provider_group.mean(),2)\n",
    "avg_cost_group.head(1)\n",
    "\n"
   ]
  },
  {
   "cell_type": "code",
   "execution_count": null,
   "metadata": {},
   "outputs": [],
   "source": [
    "# Most Expensive Hospitals\n",
    "\n",
    "# avg_cost_group[\"Charge Per Patient\"] = avg_cost_group[[\"average_total_payments\", \"average_medicare_payments\"]].diff(axis=1)\n",
    "\n",
    "\n",
    "avg_cost_group[\"average_patient_payment\"] = (avg_cost_group[\"average_total_payments\"]-\n",
    "                                             avg_cost_group[\"average_medicare_payments\"])\n",
    "# avg_cost_group.sort_values(by=[\"average_patient_payment\"], ascending=False)"
   ]
  },
  {
   "cell_type": "markdown",
   "metadata": {},
   "source": [
    "# Avg Cost of Procedure in each state(John)"
   ]
  },
  {
   "cell_type": "code",
   "execution_count": 37,
   "metadata": {},
   "outputs": [
    {
     "data": {
      "text/plain": [
       "Index(['average_covered_charges', 'average_total_payments', 'total_discharges',\n",
       "       'Ttl_billed_per_p', 'Ttl_covered_per_p', 'Ttl_oop_per_p'],\n",
       "      dtype='object')"
      ]
     },
     "execution_count": 37,
     "metadata": {},
     "output_type": "execute_result"
    }
   ],
   "source": [
    "#main_df['ACC'].groupby(main_df['Provider State']).head()\n",
    "#state_office = df.groupby(['state', 'office_id']).agg({'sales': 'sum'})\n",
    "#main_df.rename(columns = {list(main_df)[8]: 'TtlDis'}, inplace = True)\n",
    "df_costs = main_df.groupby(['provider_state']).\\\n",
    "            aggregate({'average_covered_charges':'sum',\\\n",
    "                       'average_total_payments':'sum','total_discharges':'sum'})\n",
    "df_costs['Ttl_billed_per_p']  = (df_costs['average_covered_charges']+\\\n",
    "                                 df_costs['average_total_payments'])\\\n",
    "                                /df_costs['total_discharges']\n",
    "df_costs['Ttl_covered_per_p'] =  df_costs['average_covered_charges']/\\\n",
    "                                    df_costs['total_discharges']\n",
    "df_costs['Ttl_oop_per_p'] = df_costs['average_total_payments']/\\\n",
    "                                    df_costs['total_discharges']\n",
    "df_costs.columns\n"
   ]
  },
  {
   "cell_type": "markdown",
   "metadata": {},
   "source": [
    "# Comparing procedure costs vs income in zip code(John)"
   ]
  },
  {
   "cell_type": "code",
   "execution_count": 38,
   "metadata": {},
   "outputs": [
    {
     "data": {
      "text/html": [
       "<div>\n",
       "<style>\n",
       "    .dataframe thead tr:only-child th {\n",
       "        text-align: right;\n",
       "    }\n",
       "\n",
       "    .dataframe thead th {\n",
       "        text-align: left;\n",
       "    }\n",
       "\n",
       "    .dataframe tbody tr th {\n",
       "        vertical-align: top;\n",
       "    }\n",
       "</style>\n",
       "<table border=\"1\" class=\"dataframe\">\n",
       "  <thead>\n",
       "    <tr style=\"text-align: right;\">\n",
       "      <th></th>\n",
       "      <th>average_covered_charges</th>\n",
       "      <th>average_medicare_payments</th>\n",
       "      <th>average_total_payments</th>\n",
       "      <th>total_discharges</th>\n",
       "      <th>zip</th>\n",
       "      <th>ST</th>\n",
       "      <th>AGI</th>\n",
       "      <th>TtlR</th>\n",
       "      <th>TtlSR</th>\n",
       "      <th>TtlJR</th>\n",
       "      <th>Eld</th>\n",
       "    </tr>\n",
       "  </thead>\n",
       "  <tbody>\n",
       "    <tr>\n",
       "      <th>0</th>\n",
       "      <td>545604.60</td>\n",
       "      <td>370522.22</td>\n",
       "      <td>418877.08</td>\n",
       "      <td>1347</td>\n",
       "      <td>1040</td>\n",
       "      <td>MA</td>\n",
       "      <td>6</td>\n",
       "      <td>200.0</td>\n",
       "      <td>30.0</td>\n",
       "      <td>160.0</td>\n",
       "      <td>70.0</td>\n",
       "    </tr>\n",
       "    <tr>\n",
       "      <th>1</th>\n",
       "      <td>1248497.52</td>\n",
       "      <td>492525.67</td>\n",
       "      <td>560581.35</td>\n",
       "      <td>1942</td>\n",
       "      <td>1060</td>\n",
       "      <td>MA</td>\n",
       "      <td>6</td>\n",
       "      <td>460.0</td>\n",
       "      <td>70.0</td>\n",
       "      <td>370.0</td>\n",
       "      <td>190.0</td>\n",
       "    </tr>\n",
       "  </tbody>\n",
       "</table>\n",
       "</div>"
      ],
      "text/plain": [
       "   average_covered_charges  average_medicare_payments  average_total_payments  \\\n",
       "0                545604.60                  370522.22               418877.08   \n",
       "1               1248497.52                  492525.67               560581.35   \n",
       "\n",
       "   total_discharges   zip  ST  AGI   TtlR  TtlSR  TtlJR    Eld  \n",
       "0              1347  1040  MA    6  200.0   30.0  160.0   70.0  \n",
       "1              1942  1060  MA    6  460.0   70.0  370.0  190.0  "
      ]
     },
     "execution_count": 38,
     "metadata": {},
     "output_type": "execute_result"
    }
   ],
   "source": [
    "df_zip = main_df.groupby(['provider_zip_code']).\\\n",
    "            aggregate({'average_covered_charges':'sum',\\\n",
    "                       'average_medicare_payments':'sum',\\\n",
    "                       'average_total_payments':'sum','total_discharges':'sum'})\n",
    "new_idx = [i for i in range(0,df_zip.shape[0])]\n",
    "zc_v = df_zip.index.tolist()\n",
    "df_zip['idx']=new_idx\n",
    "df_zip['zip']=zc_v\n",
    "df_zip.set_index('idx',inplace=True)\n",
    "#df_zip['zip'] = df_zip['zip'].astype(str)\n",
    "#zip_s = df_zip['zip'].tolist()\n",
    "#zip_s = ['0'+s if len(s) == 4 else s for s in zip_s]\n",
    "#df_zip['zip']=zip_s\n",
    "#df_zip.shape\n",
    "merged_25K = pd.merge(df_zip,df_zip_25K,on='zip',how='inner')\n",
    "merged_50K = pd.merge(df_zip,df_zip_50K,on='zip',how='inner')\n",
    "merged_75K = pd.merge(df_zip,df_zip_75K,on='zip',how='inner')\n",
    "merged_100K = pd.merge(df_zip,df_zip_100K,on='zip',how='inner')\n",
    "merged_200K = pd.merge(df_zip,df_zip_200K,on='zip',how='inner')\n",
    "merged_1M   = pd.merge(df_zip,df_zip_1M,on='zip',how='inner')\n",
    "merged_1M.head(2)"
   ]
  },
  {
   "cell_type": "markdown",
   "metadata": {},
   "source": [
    "# Data Exploration"
   ]
  },
  {
   "cell_type": "markdown",
   "metadata": {},
   "source": [
    "## Dutch"
   ]
  },
  {
   "cell_type": "code",
   "execution_count": 39,
   "metadata": {},
   "outputs": [
    {
     "data": {
      "text/plain": [
       "563"
      ]
     },
     "execution_count": 39,
     "metadata": {},
     "output_type": "execute_result"
    }
   ],
   "source": [
    "# Unique DRG definitions\n",
    "main_df[\"drg_definition\"].nunique()"
   ]
  },
  {
   "cell_type": "code",
   "execution_count": 40,
   "metadata": {},
   "outputs": [
    {
     "data": {
      "text/plain": [
       "306"
      ]
     },
     "execution_count": 40,
     "metadata": {},
     "output_type": "execute_result"
    }
   ],
   "source": [
    "# Unique HRR Descriptions\n",
    "main_df[\"hospital_referral_region_hrr_description\"].nunique()"
   ]
  },
  {
   "cell_type": "code",
   "execution_count": 41,
   "metadata": {},
   "outputs": [
    {
     "data": {
      "text/plain": [
       "51"
      ]
     },
     "execution_count": 41,
     "metadata": {},
     "output_type": "execute_result"
    }
   ],
   "source": [
    "# Unique providers\n",
    "main_df[\"provider_id\"].nunique()# Unique states (including the federal district D.C. (Washington D.C.))\n",
    "main_df[\"provider_state\"].nunique()"
   ]
  },
  {
   "cell_type": "code",
   "execution_count": 42,
   "metadata": {
    "scrolled": true
   },
   "outputs": [
    {
     "data": {
      "text/plain": [
       "provider_state\n",
       "AK      8\n",
       "AL     83\n",
       "AR     44\n",
       "AZ     59\n",
       "CA    294\n",
       "CO     45\n",
       "CT     29\n",
       "DC      7\n",
       "DE      6\n",
       "FL    167\n",
       "GA    100\n",
       "HI     12\n",
       "IA     34\n",
       "ID     13\n",
       "IL    126\n",
       "IN     86\n",
       "KS     53\n",
       "KY     65\n",
       "LA     86\n",
       "MA     57\n",
       "MD     47\n",
       "ME     18\n",
       "MI     94\n",
       "MN     48\n",
       "MO     74\n",
       "MS     56\n",
       "MT     13\n",
       "NC     81\n",
       "ND      7\n",
       "NE     24\n",
       "NH     13\n",
       "NJ     64\n",
       "NM     27\n",
       "NV     21\n",
       "NY    151\n",
       "OH    128\n",
       "OK     81\n",
       "OR     34\n",
       "PA    152\n",
       "RI     11\n",
       "SC     54\n",
       "SD     19\n",
       "TN     92\n",
       "TX    285\n",
       "UT     31\n",
       "VA     74\n",
       "VT      6\n",
       "WA     48\n",
       "WI     65\n",
       "WV     29\n",
       "WY     10\n",
       "Name: provider_id, dtype: int64"
      ]
     },
     "execution_count": 42,
     "metadata": {},
     "output_type": "execute_result"
    }
   ],
   "source": [
    "# Providers per state\n",
    "main_df.groupby(\"provider_state\")[\"provider_id\"].nunique()"
   ]
  },
  {
   "cell_type": "code",
   "execution_count": 43,
   "metadata": {},
   "outputs": [],
   "source": [
    "# US state map\n",
    "## Total ACC, ATP and AMP by provider state\n",
    "state_totals_df = main_df.groupby(\"provider_state\", as_index = False).agg({\"provider_id\":\"nunique\",\n",
    "                                                                           \"average_covered_charges\":\"sum\",\n",
    "                                                                           \"average_medicare_payments\":\"sum\",\n",
    "                                                                           \"average_total_payments\":\"sum\"})\n",
    "\n",
    "cols = [\"average_covered_charges\",\"average_medicare_payments\",\"average_total_payments\"]\n",
    "state_totals_df[cols] = state_totals_df[cols]/1000000\n",
    "\n",
    "state_totals_df = state_totals_df.rename(columns={\"provider_state\":\"State\",\n",
    "                                                  \"provider_id\":\"Total providers\",\n",
    "                                                  \"average_covered_charges\":\"ACC Total\",\n",
    "                                                  \"average_medicare_payments\":\"AMP Total\",\n",
    "                                                  \"average_total_payments\":\"ATP Total\"\n",
    "                                                 })\n",
    "\n",
    "state_totals_df.head()\n",
    "\n",
    "for col in state_totals_df.columns:\n",
    "    state_totals_df[col] = state_totals_df[col].astype(str)"
   ]
  },
  {
   "cell_type": "code",
   "execution_count": 44,
   "metadata": {},
   "outputs": [],
   "source": [
    "scl = [[0.0, \"rgb(242,240,247)\"],[0.2, \"rgb(218,218,235)\"],[0.4, \"rgb(188,189,220)\"],\n",
    "            [0.6, \"rgb(158,154,200)\"],[0.8, \"rgb(117,107,177)\"],[1.0, \"rgb(84,39,143)\"]]"
   ]
  },
  {
   "cell_type": "code",
   "execution_count": 45,
   "metadata": {},
   "outputs": [],
   "source": [
    "state_totals_df['text'] = state_totals_df[\"State\"] + '<br>' +\\\n",
    "    \"ACC\"+state_totals_df[\"ACC Total\"]+' AMP '+state_totals_df[\"AMP Total\"]+'<br>'+\\\n",
    "    'ATP '+state_totals_df[\"ATP Total\"]"
   ]
  },
  {
   "cell_type": "code",
   "execution_count": 46,
   "metadata": {},
   "outputs": [
    {
     "data": {
      "application/vnd.plotly.v1+json": {
       "data": [
        {
         "autocolorscale": false,
         "colorbar": {
          "title": "Millions USD"
         },
         "colorscale": [
          [
           0,
           "rgb(242,240,247)"
          ],
          [
           0.2,
           "rgb(218,218,235)"
          ],
          [
           0.4,
           "rgb(188,189,220)"
          ],
          [
           0.6,
           "rgb(158,154,200)"
          ],
          [
           0.8,
           "rgb(117,107,177)"
          ],
          [
           1,
           "rgb(84,39,143)"
          ]
         ],
         "locationmode": "USA-states",
         "locations": [
          "AK",
          "AL",
          "AR",
          "AZ",
          "CA",
          "CO",
          "CT",
          "DC",
          "DE",
          "FL",
          "GA",
          "HI",
          "IA",
          "ID",
          "IL",
          "IN",
          "KS",
          "KY",
          "LA",
          "MA",
          "MD",
          "ME",
          "MI",
          "MN",
          "MO",
          "MS",
          "MT",
          "NC",
          "ND",
          "NE",
          "NH",
          "NJ",
          "NM",
          "NV",
          "NY",
          "OH",
          "OK",
          "OR",
          "PA",
          "RI",
          "SC",
          "SD",
          "TN",
          "TX",
          "UT",
          "VA",
          "VT",
          "WA",
          "WI",
          "WV",
          "WY"
         ],
         "marker": {
          "line": {
           "color": "rgb(255,255,255)",
           "width": 2
          }
         },
         "text": [
          "AK<br>ACC19.67722111 AMP 4.47738627<br>ATP 5.03005134",
          "AL<br>ACC214.0468954 AMP 36.72015855<br>ATP 43.10629454",
          "AR<br>ACC97.7853691 AMP 22.51498072<br>ATP 26.25726301",
          "AZ<br>ACC214.20958869 AMP 40.50999355<br>ATP 47.21703623",
          "CA<br>ACC1476.41709006 AMP 229.50035055<br>ATP 259.49419839",
          "CO<br>ACC152.90255493 AMP 25.4972312<br>ATP 30.24909169",
          "CT<br>ACC116.50639335 AMP 31.55987962<br>ATP 37.590633",
          "DC<br>ACC51.10859639 AMP 10.94568698<br>ATP 14.16204539",
          "DE<br>ACC27.08535926 AMP 8.08701231<br>ATP 9.80590952",
          "FL<br>ACC1043.92473422 AMP 149.97865835<br>ATP 175.63080683",
          "GA<br>ACC275.04970827 AMP 59.03627861<br>ATP 68.09851998",
          "HI<br>ACC20.75940972 AMP 6.61988807<br>ATP 8.02764189",
          "IA<br>ACC82.62576159 AMP 20.9586374<br>ATP 24.51924795",
          "ID<br>ACC28.86003452 AMP 7.47716013<br>ATP 8.70283665",
          "IL<br>ACC468.73978925 AMP 94.43245709<br>ATP 114.3230777",
          "IN<br>ACC235.40753664 AMP 51.15992077<br>ATP 60.29516263",
          "KS<br>ACC107.57046532 AMP 20.92155046<br>ATP 24.18343548",
          "KY<br>ACC164.60492174 AMP 36.34683464<br>ATP 43.15527318",
          "LA<br>ACC153.05713163 AMP 30.46298888<br>ATP 36.80452577",
          "MA<br>ACC172.54767267 AMP 70.11190884<br>ATP 79.49423332",
          "MD<br>ACC84.79109578 AMP 71.61804219<br>ATP 78.59047597",
          "ME<br>ACC30.79881745 AMP 9.91045519<br>ATP 11.83140665",
          "MI<br>ACC270.84793866 AMP 85.4975881<br>ATP 100.20956261",
          "MN<br>ACC144.60821358 AMP 43.64392563<br>ATP 51.54481371",
          "MO<br>ACC235.36230961 AMP 52.15242003<br>ATP 59.93173731",
          "MS<br>ACC122.75147685 AMP 24.37980565<br>ATP 28.20775413",
          "MT<br>ACC21.21139111 AMP 6.41977764<br>ATP 7.29279022",
          "NC<br>ACC263.98640165 AMP 67.84346434<br>ATP 82.01221881",
          "ND<br>ACC22.05055654 AMP 6.96726019<br>ATP 8.00114884",
          "NE<br>ACC60.49781636 AMP 14.48311854<br>ATP 17.17230149",
          "NH<br>ACC42.7640495 AMP 11.43722401<br>ATP 13.33074535",
          "NJ<br>ACC588.86403956 AMP 81.16521782<br>ATP 94.55567819",
          "NM<br>ACC39.52240946 AMP 10.19383851<br>ATP 11.79658235",
          "NV<br>ACC137.68783711 AMP 18.54361923<br>ATP 21.53524354",
          "NY<br>ACC622.84276215 AMP 158.61160474<br>ATP 186.27051315",
          "OH<br>ACC347.81815346 AMP 77.0036423<br>ATP 94.8386596",
          "OK<br>ACC145.85701514 AMP 29.12746185<br>ATP 34.36902654",
          "OR<br>ACC68.98860801 AMP 21.45912008<br>ATP 24.87473132",
          "PA<br>ACC607.31276256 AMP 100.26168464<br>ATP 124.98152554",
          "RI<br>ACC27.37318671 AMP 8.166217<br>ATP 9.49194347",
          "SC<br>ACC200.48138103 AMP 35.67712218<br>ATP 42.97830503",
          "SD<br>ACC31.04428915 AMP 7.67214796<br>ATP 8.80989429",
          "TN<br>ACC250.08530568 AMP 50.00039121<br>ATP 58.28555118",
          "TX<br>ACC903.28013587 AMP 145.0167974<br>ATP 175.82182233",
          "UT<br>ACC41.13670905 AMP 11.56173499<br>ATP 14.68329199",
          "VA<br>ACC266.93813653 AMP 56.32122582<br>ATP 70.05691167",
          "VT<br>ACC10.85643936 AMP 4.38203323<br>ATP 5.03611321",
          "WA<br>ACC194.70868551 AMP 43.76432677<br>ATP 51.71246728",
          "WI<br>ACC135.04544638 AMP 34.86645527<br>ATP 42.21091103",
          "WV<br>ACC53.0907517 AMP 15.3002594<br>ATP 18.60003454",
          "WY<br>ACC9.43778355 AMP 3.05232141<br>ATP 3.53147259"
         ],
         "type": "choropleth",
         "z": [
          8,
          83,
          44,
          59,
          294,
          45,
          29,
          7,
          6,
          167,
          100,
          12,
          34,
          13,
          126,
          86,
          53,
          65,
          86,
          57,
          47,
          18,
          94,
          48,
          74,
          56,
          13,
          81,
          7,
          24,
          13,
          64,
          27,
          21,
          151,
          128,
          81,
          34,
          152,
          11,
          54,
          19,
          92,
          285,
          31,
          74,
          6,
          48,
          65,
          29,
          10
         ]
        }
       ],
       "layout": {
        "geo": {
         "lakecolor": "rgb(255, 255, 255)",
         "projection": {
          "type": "albers usa"
         },
         "scope": "usa",
         "showlakes": true
        },
        "title": "2015 US Medicare inpatient charges and payments by State<br>(Hover for breakdown)"
       }
      },
      "text/html": [
       "<div id=\"1ee5b48e-3889-4555-9936-39b1445bf95e\" style=\"height: 525px; width: 100%;\" class=\"plotly-graph-div\"></div><script type=\"text/javascript\">require([\"plotly\"], function(Plotly) { window.PLOTLYENV=window.PLOTLYENV || {};window.PLOTLYENV.BASE_URL=\"https://plot.ly\";Plotly.newPlot(\"1ee5b48e-3889-4555-9936-39b1445bf95e\", [{\"type\": \"choropleth\", \"colorscale\": [[0.0, \"rgb(242,240,247)\"], [0.2, \"rgb(218,218,235)\"], [0.4, \"rgb(188,189,220)\"], [0.6, \"rgb(158,154,200)\"], [0.8, \"rgb(117,107,177)\"], [1.0, \"rgb(84,39,143)\"]], \"autocolorscale\": false, \"locations\": [\"AK\", \"AL\", \"AR\", \"AZ\", \"CA\", \"CO\", \"CT\", \"DC\", \"DE\", \"FL\", \"GA\", \"HI\", \"IA\", \"ID\", \"IL\", \"IN\", \"KS\", \"KY\", \"LA\", \"MA\", \"MD\", \"ME\", \"MI\", \"MN\", \"MO\", \"MS\", \"MT\", \"NC\", \"ND\", \"NE\", \"NH\", \"NJ\", \"NM\", \"NV\", \"NY\", \"OH\", \"OK\", \"OR\", \"PA\", \"RI\", \"SC\", \"SD\", \"TN\", \"TX\", \"UT\", \"VA\", \"VT\", \"WA\", \"WI\", \"WV\", \"WY\"], \"z\": [8.0, 83.0, 44.0, 59.0, 294.0, 45.0, 29.0, 7.0, 6.0, 167.0, 100.0, 12.0, 34.0, 13.0, 126.0, 86.0, 53.0, 65.0, 86.0, 57.0, 47.0, 18.0, 94.0, 48.0, 74.0, 56.0, 13.0, 81.0, 7.0, 24.0, 13.0, 64.0, 27.0, 21.0, 151.0, 128.0, 81.0, 34.0, 152.0, 11.0, 54.0, 19.0, 92.0, 285.0, 31.0, 74.0, 6.0, 48.0, 65.0, 29.0, 10.0], \"locationmode\": \"USA-states\", \"text\": [\"AK<br>ACC19.67722111 AMP 4.47738627<br>ATP 5.03005134\", \"AL<br>ACC214.0468954 AMP 36.72015855<br>ATP 43.10629454\", \"AR<br>ACC97.7853691 AMP 22.51498072<br>ATP 26.25726301\", \"AZ<br>ACC214.20958869 AMP 40.50999355<br>ATP 47.21703623\", \"CA<br>ACC1476.41709006 AMP 229.50035055<br>ATP 259.49419839\", \"CO<br>ACC152.90255493 AMP 25.4972312<br>ATP 30.24909169\", \"CT<br>ACC116.50639335 AMP 31.55987962<br>ATP 37.590633\", \"DC<br>ACC51.10859639 AMP 10.94568698<br>ATP 14.16204539\", \"DE<br>ACC27.08535926 AMP 8.08701231<br>ATP 9.80590952\", \"FL<br>ACC1043.92473422 AMP 149.97865835<br>ATP 175.63080683\", \"GA<br>ACC275.04970827 AMP 59.03627861<br>ATP 68.09851998\", \"HI<br>ACC20.75940972 AMP 6.61988807<br>ATP 8.02764189\", \"IA<br>ACC82.62576159 AMP 20.9586374<br>ATP 24.51924795\", \"ID<br>ACC28.86003452 AMP 7.47716013<br>ATP 8.70283665\", \"IL<br>ACC468.73978925 AMP 94.43245709<br>ATP 114.3230777\", \"IN<br>ACC235.40753664 AMP 51.15992077<br>ATP 60.29516263\", \"KS<br>ACC107.57046532 AMP 20.92155046<br>ATP 24.18343548\", \"KY<br>ACC164.60492174 AMP 36.34683464<br>ATP 43.15527318\", \"LA<br>ACC153.05713163 AMP 30.46298888<br>ATP 36.80452577\", \"MA<br>ACC172.54767267 AMP 70.11190884<br>ATP 79.49423332\", \"MD<br>ACC84.79109578 AMP 71.61804219<br>ATP 78.59047597\", \"ME<br>ACC30.79881745 AMP 9.91045519<br>ATP 11.83140665\", \"MI<br>ACC270.84793866 AMP 85.4975881<br>ATP 100.20956261\", \"MN<br>ACC144.60821358 AMP 43.64392563<br>ATP 51.54481371\", \"MO<br>ACC235.36230961 AMP 52.15242003<br>ATP 59.93173731\", \"MS<br>ACC122.75147685 AMP 24.37980565<br>ATP 28.20775413\", \"MT<br>ACC21.21139111 AMP 6.41977764<br>ATP 7.29279022\", \"NC<br>ACC263.98640165 AMP 67.84346434<br>ATP 82.01221881\", \"ND<br>ACC22.05055654 AMP 6.96726019<br>ATP 8.00114884\", \"NE<br>ACC60.49781636 AMP 14.48311854<br>ATP 17.17230149\", \"NH<br>ACC42.7640495 AMP 11.43722401<br>ATP 13.33074535\", \"NJ<br>ACC588.86403956 AMP 81.16521782<br>ATP 94.55567819\", \"NM<br>ACC39.52240946 AMP 10.19383851<br>ATP 11.79658235\", \"NV<br>ACC137.68783711 AMP 18.54361923<br>ATP 21.53524354\", \"NY<br>ACC622.84276215 AMP 158.61160474<br>ATP 186.27051315\", \"OH<br>ACC347.81815346 AMP 77.0036423<br>ATP 94.8386596\", \"OK<br>ACC145.85701514 AMP 29.12746185<br>ATP 34.36902654\", \"OR<br>ACC68.98860801 AMP 21.45912008<br>ATP 24.87473132\", \"PA<br>ACC607.31276256 AMP 100.26168464<br>ATP 124.98152554\", \"RI<br>ACC27.37318671 AMP 8.166217<br>ATP 9.49194347\", \"SC<br>ACC200.48138103 AMP 35.67712218<br>ATP 42.97830503\", \"SD<br>ACC31.04428915 AMP 7.67214796<br>ATP 8.80989429\", \"TN<br>ACC250.08530568 AMP 50.00039121<br>ATP 58.28555118\", \"TX<br>ACC903.28013587 AMP 145.0167974<br>ATP 175.82182233\", \"UT<br>ACC41.13670905 AMP 11.56173499<br>ATP 14.68329199\", \"VA<br>ACC266.93813653 AMP 56.32122582<br>ATP 70.05691167\", \"VT<br>ACC10.85643936 AMP 4.38203323<br>ATP 5.03611321\", \"WA<br>ACC194.70868551 AMP 43.76432677<br>ATP 51.71246728\", \"WI<br>ACC135.04544638 AMP 34.86645527<br>ATP 42.21091103\", \"WV<br>ACC53.0907517 AMP 15.3002594<br>ATP 18.60003454\", \"WY<br>ACC9.43778355 AMP 3.05232141<br>ATP 3.53147259\"], \"marker\": {\"line\": {\"color\": \"rgb(255,255,255)\", \"width\": 2}}, \"colorbar\": {\"title\": \"Millions USD\"}}], {\"title\": \"2015 US Medicare inpatient charges and payments by State<br>(Hover for breakdown)\", \"geo\": {\"scope\": \"usa\", \"projection\": {\"type\": \"albers usa\"}, \"showlakes\": true, \"lakecolor\": \"rgb(255, 255, 255)\"}}, {\"showLink\": true, \"linkText\": \"Export to plot.ly\"})});</script>"
      ],
      "text/vnd.plotly.v1+html": [
       "<div id=\"1ee5b48e-3889-4555-9936-39b1445bf95e\" style=\"height: 525px; width: 100%;\" class=\"plotly-graph-div\"></div><script type=\"text/javascript\">require([\"plotly\"], function(Plotly) { window.PLOTLYENV=window.PLOTLYENV || {};window.PLOTLYENV.BASE_URL=\"https://plot.ly\";Plotly.newPlot(\"1ee5b48e-3889-4555-9936-39b1445bf95e\", [{\"type\": \"choropleth\", \"colorscale\": [[0.0, \"rgb(242,240,247)\"], [0.2, \"rgb(218,218,235)\"], [0.4, \"rgb(188,189,220)\"], [0.6, \"rgb(158,154,200)\"], [0.8, \"rgb(117,107,177)\"], [1.0, \"rgb(84,39,143)\"]], \"autocolorscale\": false, \"locations\": [\"AK\", \"AL\", \"AR\", \"AZ\", \"CA\", \"CO\", \"CT\", \"DC\", \"DE\", \"FL\", \"GA\", \"HI\", \"IA\", \"ID\", \"IL\", \"IN\", \"KS\", \"KY\", \"LA\", \"MA\", \"MD\", \"ME\", \"MI\", \"MN\", \"MO\", \"MS\", \"MT\", \"NC\", \"ND\", \"NE\", \"NH\", \"NJ\", \"NM\", \"NV\", \"NY\", \"OH\", \"OK\", \"OR\", \"PA\", \"RI\", \"SC\", \"SD\", \"TN\", \"TX\", \"UT\", \"VA\", \"VT\", \"WA\", \"WI\", \"WV\", \"WY\"], \"z\": [8.0, 83.0, 44.0, 59.0, 294.0, 45.0, 29.0, 7.0, 6.0, 167.0, 100.0, 12.0, 34.0, 13.0, 126.0, 86.0, 53.0, 65.0, 86.0, 57.0, 47.0, 18.0, 94.0, 48.0, 74.0, 56.0, 13.0, 81.0, 7.0, 24.0, 13.0, 64.0, 27.0, 21.0, 151.0, 128.0, 81.0, 34.0, 152.0, 11.0, 54.0, 19.0, 92.0, 285.0, 31.0, 74.0, 6.0, 48.0, 65.0, 29.0, 10.0], \"locationmode\": \"USA-states\", \"text\": [\"AK<br>ACC19.67722111 AMP 4.47738627<br>ATP 5.03005134\", \"AL<br>ACC214.0468954 AMP 36.72015855<br>ATP 43.10629454\", \"AR<br>ACC97.7853691 AMP 22.51498072<br>ATP 26.25726301\", \"AZ<br>ACC214.20958869 AMP 40.50999355<br>ATP 47.21703623\", \"CA<br>ACC1476.41709006 AMP 229.50035055<br>ATP 259.49419839\", \"CO<br>ACC152.90255493 AMP 25.4972312<br>ATP 30.24909169\", \"CT<br>ACC116.50639335 AMP 31.55987962<br>ATP 37.590633\", \"DC<br>ACC51.10859639 AMP 10.94568698<br>ATP 14.16204539\", \"DE<br>ACC27.08535926 AMP 8.08701231<br>ATP 9.80590952\", \"FL<br>ACC1043.92473422 AMP 149.97865835<br>ATP 175.63080683\", \"GA<br>ACC275.04970827 AMP 59.03627861<br>ATP 68.09851998\", \"HI<br>ACC20.75940972 AMP 6.61988807<br>ATP 8.02764189\", \"IA<br>ACC82.62576159 AMP 20.9586374<br>ATP 24.51924795\", \"ID<br>ACC28.86003452 AMP 7.47716013<br>ATP 8.70283665\", \"IL<br>ACC468.73978925 AMP 94.43245709<br>ATP 114.3230777\", \"IN<br>ACC235.40753664 AMP 51.15992077<br>ATP 60.29516263\", \"KS<br>ACC107.57046532 AMP 20.92155046<br>ATP 24.18343548\", \"KY<br>ACC164.60492174 AMP 36.34683464<br>ATP 43.15527318\", \"LA<br>ACC153.05713163 AMP 30.46298888<br>ATP 36.80452577\", \"MA<br>ACC172.54767267 AMP 70.11190884<br>ATP 79.49423332\", \"MD<br>ACC84.79109578 AMP 71.61804219<br>ATP 78.59047597\", \"ME<br>ACC30.79881745 AMP 9.91045519<br>ATP 11.83140665\", \"MI<br>ACC270.84793866 AMP 85.4975881<br>ATP 100.20956261\", \"MN<br>ACC144.60821358 AMP 43.64392563<br>ATP 51.54481371\", \"MO<br>ACC235.36230961 AMP 52.15242003<br>ATP 59.93173731\", \"MS<br>ACC122.75147685 AMP 24.37980565<br>ATP 28.20775413\", \"MT<br>ACC21.21139111 AMP 6.41977764<br>ATP 7.29279022\", \"NC<br>ACC263.98640165 AMP 67.84346434<br>ATP 82.01221881\", \"ND<br>ACC22.05055654 AMP 6.96726019<br>ATP 8.00114884\", \"NE<br>ACC60.49781636 AMP 14.48311854<br>ATP 17.17230149\", \"NH<br>ACC42.7640495 AMP 11.43722401<br>ATP 13.33074535\", \"NJ<br>ACC588.86403956 AMP 81.16521782<br>ATP 94.55567819\", \"NM<br>ACC39.52240946 AMP 10.19383851<br>ATP 11.79658235\", \"NV<br>ACC137.68783711 AMP 18.54361923<br>ATP 21.53524354\", \"NY<br>ACC622.84276215 AMP 158.61160474<br>ATP 186.27051315\", \"OH<br>ACC347.81815346 AMP 77.0036423<br>ATP 94.8386596\", \"OK<br>ACC145.85701514 AMP 29.12746185<br>ATP 34.36902654\", \"OR<br>ACC68.98860801 AMP 21.45912008<br>ATP 24.87473132\", \"PA<br>ACC607.31276256 AMP 100.26168464<br>ATP 124.98152554\", \"RI<br>ACC27.37318671 AMP 8.166217<br>ATP 9.49194347\", \"SC<br>ACC200.48138103 AMP 35.67712218<br>ATP 42.97830503\", \"SD<br>ACC31.04428915 AMP 7.67214796<br>ATP 8.80989429\", \"TN<br>ACC250.08530568 AMP 50.00039121<br>ATP 58.28555118\", \"TX<br>ACC903.28013587 AMP 145.0167974<br>ATP 175.82182233\", \"UT<br>ACC41.13670905 AMP 11.56173499<br>ATP 14.68329199\", \"VA<br>ACC266.93813653 AMP 56.32122582<br>ATP 70.05691167\", \"VT<br>ACC10.85643936 AMP 4.38203323<br>ATP 5.03611321\", \"WA<br>ACC194.70868551 AMP 43.76432677<br>ATP 51.71246728\", \"WI<br>ACC135.04544638 AMP 34.86645527<br>ATP 42.21091103\", \"WV<br>ACC53.0907517 AMP 15.3002594<br>ATP 18.60003454\", \"WY<br>ACC9.43778355 AMP 3.05232141<br>ATP 3.53147259\"], \"marker\": {\"line\": {\"color\": \"rgb(255,255,255)\", \"width\": 2}}, \"colorbar\": {\"title\": \"Millions USD\"}}], {\"title\": \"2015 US Medicare inpatient charges and payments by State<br>(Hover for breakdown)\", \"geo\": {\"scope\": \"usa\", \"projection\": {\"type\": \"albers usa\"}, \"showlakes\": true, \"lakecolor\": \"rgb(255, 255, 255)\"}}, {\"showLink\": true, \"linkText\": \"Export to plot.ly\"})});</script>"
      ]
     },
     "metadata": {},
     "output_type": "display_data"
    }
   ],
   "source": [
    "data = [ dict(\n",
    "        type='choropleth',\n",
    "        colorscale = scl,\n",
    "        autocolorscale = False,\n",
    "        locations = state_totals_df[\"State\"],\n",
    "        z = state_totals_df[\"Total providers\"].astype(float),\n",
    "        locationmode = 'USA-states',\n",
    "        text = state_totals_df['text'],\n",
    "        marker = dict(\n",
    "            line = dict (\n",
    "                color = 'rgb(255,255,255)',\n",
    "                width = 2\n",
    "            ) ),\n",
    "        colorbar = dict(\n",
    "            title = \"Millions USD\")\n",
    "        ) ]\n",
    "\n",
    "layout = dict(\n",
    "        title = '2015 US Medicare inpatient charges and payments by State<br>(Hover for breakdown)',\n",
    "        geo = dict(\n",
    "            scope='usa',\n",
    "            projection=dict( type='albers usa' ),\n",
    "            showlakes = True,\n",
    "            lakecolor = 'rgb(255, 255, 255)'),\n",
    "             )\n",
    "    \n",
    "fig = dict( data=data, layout=layout )\n",
    "iplot( fig, filename='d3-cloropleth-map' )"
   ]
  },
  {
   "cell_type": "code",
   "execution_count": null,
   "metadata": {},
   "outputs": [],
   "source": []
  }
 ],
 "metadata": {
  "kernelspec": {
   "display_name": "Python 3",
   "language": "python",
   "name": "python3"
  },
  "language_info": {
   "codemirror_mode": {
    "name": "ipython",
    "version": 3
   },
   "file_extension": ".py",
   "mimetype": "text/x-python",
   "name": "python",
   "nbconvert_exporter": "python",
   "pygments_lexer": "ipython3",
   "version": "3.6.3"
  }
 },
 "nbformat": 4,
 "nbformat_minor": 2
}
