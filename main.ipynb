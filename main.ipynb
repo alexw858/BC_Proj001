{
 "cells": [
  {
   "cell_type": "markdown",
   "metadata": {},
   "source": [
    "# Project 001 UCSD Data Science Visualization Bootcamp\n",
    "* Noreen Malik 😃\n",
    "* Rene Venema(\"dutch\") 🐱\n",
    "* John Warlop 🦁\n",
    "* Alex Wooten 🏄\n",
    "\n",
    "😛😳😗😓🙉😸🙈🙊😽💀💢💥✨💏👫👄👃👀👛👛🗼🔮🔮🎄🎅👻"
   ]
  },
  {
   "cell_type": "markdown",
   "metadata": {},
   "source": [
    "## Dependencies -- imports\n"
   ]
  },
  {
   "cell_type": "code",
   "execution_count": 9,
   "metadata": {},
   "outputs": [
    {
     "data": {
      "text/html": [
       "<script>requirejs.config({paths: { 'plotly': ['https://cdn.plot.ly/plotly-latest.min']},});if(!window.Plotly) {{require(['plotly'],function(plotly) {window.Plotly=plotly;});}}</script>"
      ],
      "text/vnd.plotly.v1+html": [
       "<script>requirejs.config({paths: { 'plotly': ['https://cdn.plot.ly/plotly-latest.min']},});if(!window.Plotly) {{require(['plotly'],function(plotly) {window.Plotly=plotly;});}}</script>"
      ]
     },
     "metadata": {},
     "output_type": "display_data"
    }
   ],
   "source": [
    "import pandas as pd\n",
    "from sodapy import Socrata #pip install sodapy\n",
    "import plotly.plotly as py #pip installl plotly\n",
    "from plotly.offline import download_plotlyjs, init_notebook_mode,plot,iplot\n",
    "init_notebook_mode(connected=True)\n",
    "import json\n"
   ]
  },
  {
   "cell_type": "markdown",
   "metadata": {},
   "source": [
    "## Constants -- API Keys, etc"
   ]
  },
  {
   "cell_type": "code",
   "execution_count": 10,
   "metadata": {},
   "outputs": [],
   "source": [
    "# Read in API(.gitignore file has entry for api_keys.json file)\n",
    "API_endpoint = \"https://data.cms.gov/resource/spmh-qjdv.json\" #2015 data\n",
    "\n",
    "\n",
    "IRS_DATAFRAME_PICKLE = 'df_irs.pkl'\n",
    "with open('api_keys.json') as json_data:\n",
    "    api_keys = json.load(json_data)\n",
    "\n",
    "# Socrata Section\n",
    "socrata_domain = \"data.cms.gov\"\n",
    "socrata_dataset_identifier = \"spmh-qjdv\"\n",
    "socrata_token = api_keys['socrata']['App_Token']\n",
    "#print(api_keys['socrata']['App_Token'])\n",
    "#print(api_keys['socrata']['Secret_Token'])\n",
    "#print(api_keys['zillow']['ZWSID'])\n",
    "\n"
   ]
  },
  {
   "cell_type": "markdown",
   "metadata": {},
   "source": [
    "## Functions \n"
   ]
  },
  {
   "cell_type": "code",
   "execution_count": 11,
   "metadata": {},
   "outputs": [],
   "source": [
    "def return_irs_df(file_name):\n",
    "    #return the pickled dataframe for irs data\n",
    "    df_irs = pd.read_pickle(file_name)\n",
    "    return(df_irs)"
   ]
  },
  {
   "cell_type": "markdown",
   "metadata": {},
   "source": [
    "# IRS Dataframe\n",
    "[Link to Documentation](https://www.irs.gov/statistics/soi-tax-stats-individual-income-tax-statistics-2015-zip-code-data-soi) |\n",
    "[SOI Tax Stats](https://www.irs.gov/statistics/soi-tax-stats-statistical-methodology) | [Data Cleaning of IRS Data](https://docs.google.com/document/d/1kNd1S_Ufgy0pIjJSjLDHba8y-pK8OYe47iAGeamH04E/edit?usp=sharing)"
   ]
  },
  {
   "cell_type": "code",
   "execution_count": 4,
   "metadata": {},
   "outputs": [
    {
     "data": {
      "text/plain": [
       "Index(['ST', 'Zip', 'AGI', 'TtlR', 'TtlSR', 'TtlJR', 'Eld'], dtype='object')"
      ]
     },
     "execution_count": 4,
     "metadata": {},
     "output_type": "execute_result"
    }
   ],
   "source": [
    "# Dataframe columns are: ST(State), Zip(Zip Code), AGI(Adjusted Gross Income),TtlR(Total Returns)\n",
    "# TtlSR(Total Single Returns), TtlJR(Total Joint Returns), Eld(Number of Elderly Returns -- over 60 years old)\n",
    "# AGI column is agreegated: \n",
    "# 1=> [1-25000), 2=> [25000-50000), 3=> [50000-75000), 4=> [75000-100000),\n",
    "# 5=> [100000,200000), 6=> [200000-]\n",
    "df_irs = return_irs_df(IRS_DATAFRAME_PICKLE)\n",
    "df_irs.columns"
   ]
  },
  {
   "cell_type": "markdown",
   "metadata": {},
   "source": [
    "# Dataframe - Medicare csv/api (dutch)\n",
    "[Link to Documentation](https://dev.socrata.com/foundry/data.cms.gov/ehrv-m9r6)\n"
   ]
  },
  {
   "cell_type": "code",
   "execution_count": 12,
   "metadata": {},
   "outputs": [],
   "source": [
    "#main_df = pd.read_csv(\"main_data_cleaned.csv\")\n",
    "#main_df.head()\n",
    "client = Socrata(socrata_domain, socrata_token)\n",
    "results = client.get(socrata_dataset_identifier, limit = 100000000) #default for limit (integer) = 1000\n",
    "main_df = pd.DataFrame.from_dict(results)\n",
    "main_df.head()\n",
    "# Convert column datatypes\n",
    "## Convert to float\n",
    "col1 = [\"average_covered_charges\",\"average_medicare_payments\",\"average_total_payments\"]\n",
    "main_df[col1] = main_df[col1].astype(\"float\")\n",
    "## Convert to integer\n",
    "col2 = [\"provider_id\",\"provider_zip_code\",\"total_discharges\"]\n",
    "main_df[col2] = main_df[col2].astype(\"int\")\n",
    "# Export data to csv file\n",
    "main_df.to_csv(\"main data cleaned.csv\", encoding = \"utf-8-sig\", index = False)"
   ]
  },
  {
   "cell_type": "code",
   "execution_count": 12,
   "metadata": {},
   "outputs": [],
   "source": [
    "# Import data from csv\n",
    "main_df = pd.read_csv(\"main data cleaned.csv\")"
   ]
  },
  {
   "cell_type": "markdown",
   "metadata": {},
   "source": [
    "# Avg Cost Per Provider (Alex)"
   ]
  },
  {
   "cell_type": "code",
   "execution_count": 13,
   "metadata": {},
   "outputs": [
    {
     "data": {
      "text/plain": [
       "Index(['average_covered_charges', 'average_total_payments',\n",
       "       'average_medicare_payments'],\n",
       "      dtype='object')"
      ]
     },
     "execution_count": 13,
     "metadata": {},
     "output_type": "execute_result"
    }
   ],
   "source": [
    "# ACC = Average Covered Charges\n",
    "#     The provider's average charge for services covered by Medicare for all discharges\n",
    "#     in the DRG. These will vary from\n",
    "#     hospital to hospital because of differences in hospital charge structures.\n",
    "# ATP = Average Total Payments\n",
    "#     The average of Medicare payments to the provider for the DRG including the\n",
    "#     DRG amount, teaching,  disproportionate \n",
    "#     share, capital, and outlier payments for all cases. Also included \n",
    "#     are co-payment and deductible amounts that the \n",
    "#     patient is responsible for (average_medicare_payments)\n",
    "# AMP = Average Medicare Payments\n",
    "#     average_medicare_payments_2?\n",
    "#     Not sure what this column represents\n",
    "\n",
    "\n",
    "# Create a Groupby based on Provider Id and Provider name\n",
    "# Calculate mean values in ACC, ATP, AMP (or we may just be interested in what\n",
    "# the patient pays)\n",
    "# I could also sum up the average value of payments by patient and by insurance\n",
    "# to see average total value provider charges\n",
    "\n",
    "cost_df = main_df[[\"provider_id\", \"provider_name\", \"average_covered_charges\",\\\n",
    "                   \"average_total_payments\", \"average_medicare_payments\"]]\n",
    "\n",
    "provider_group = cost_df.groupby([\"provider_id\", \"provider_name\"])\n",
    "avg_cost_group = round(provider_group.mean(),2)\n",
    "avg_cost_group.columns\n",
    "\n"
   ]
  },
  {
   "cell_type": "markdown",
   "metadata": {},
   "source": [
    "# Avg Cost of Procedure in each state(John)"
   ]
  },
  {
   "cell_type": "code",
   "execution_count": 14,
   "metadata": {},
   "outputs": [
    {
     "data": {
      "text/plain": [
       "Index(['average_covered_charges', 'average_total_payments', 'total_discharges',\n",
       "       'Ttl_billed_per_p', 'Ttl_covered_per_p', 'Ttl_oop_per_p'],\n",
       "      dtype='object')"
      ]
     },
     "execution_count": 14,
     "metadata": {},
     "output_type": "execute_result"
    }
   ],
   "source": [
    "#main_df['ACC'].groupby(main_df['Provider State']).head()\n",
    "#state_office = df.groupby(['state', 'office_id']).agg({'sales': 'sum'})\n",
    "#main_df.rename(columns = {list(main_df)[8]: 'TtlDis'}, inplace = True)\n",
    "df_costs = main_df.groupby(['provider_state']).\\\n",
    "            aggregate({'average_covered_charges':'sum',\\\n",
    "                       'average_total_payments':'sum','total_discharges':'sum'})\n",
    "df_costs['Ttl_billed_per_p']  = (df_costs['average_covered_charges']+df_costs['average_total_payments'])\\\n",
    "                                /df_costs['total_discharges']\n",
    "df_costs['Ttl_covered_per_p'] =  df_costs['average_covered_charges']/df_costs['total_discharges']\n",
    "df_costs['Ttl_oop_per_p'] = df_costs['average_total_payments']/df_costs['total_discharges']\n",
    "df_costs.columns\n",
    "#df_acc = main_df.groupby(['Provider State']).aggregate({'ACC':'sum'})\n",
    "#df_atp = main_df.groupby(['Provider State']).aggregate({'ATP':'sum'})\n",
    "#df_ttlD = main_df.groupby(['Provider State']).aggregate({'TtlDis':'sum'})\n",
    "#df_ttlD.iloc[:,0:]"
   ]
  },
  {
   "cell_type": "markdown",
   "metadata": {},
   "source": [
    "# Comparing procedure costs vs income in zip code(John)"
   ]
  },
  {
   "cell_type": "code",
   "execution_count": null,
   "metadata": {
    "collapsed": true
   },
   "outputs": [],
   "source": [
    "#hello from Noreen"
   ]
  },
  {
   "cell_type": "markdown",
   "metadata": {},
   "source": [
    "# Data Exploration"
   ]
  },
  {
   "cell_type": "markdown",
   "metadata": {},
   "source": [
    "## Dutch"
   ]
  },
  {
   "cell_type": "code",
   "execution_count": 15,
   "metadata": {},
   "outputs": [
    {
     "data": {
      "text/plain": [
       "563"
      ]
     },
     "execution_count": 15,
     "metadata": {},
     "output_type": "execute_result"
    }
   ],
   "source": [
    "# Unique DRG definitions\n",
    "main_df[\"drg_definition\"].nunique()"
   ]
  },
  {
   "cell_type": "code",
   "execution_count": 16,
   "metadata": {},
   "outputs": [
    {
     "data": {
      "text/plain": [
       "306"
      ]
     },
     "execution_count": 16,
     "metadata": {},
     "output_type": "execute_result"
    }
   ],
   "source": [
    "# Unique HRR Descriptions\n",
    "main_df[\"hospital_referral_region_hrr_description\"].nunique()"
   ]
  },
  {
   "cell_type": "code",
   "execution_count": 17,
   "metadata": {},
   "outputs": [
    {
     "data": {
      "text/plain": [
       "51"
      ]
     },
     "execution_count": 17,
     "metadata": {},
     "output_type": "execute_result"
    }
   ],
   "source": [
    "# Unique providers\n",
    "main_df[\"provider_id\"].nunique()# Unique states (including the federal district D.C. (Washington D.C.))\n",
    "main_df[\"provider_state\"].nunique()"
   ]
  },
  {
   "cell_type": "code",
   "execution_count": 18,
   "metadata": {},
   "outputs": [
    {
     "data": {
      "text/plain": [
       "provider_state\n",
       "AK      8\n",
       "AL     83\n",
       "AR     44\n",
       "AZ     59\n",
       "CA    294\n",
       "CO     45\n",
       "CT     29\n",
       "DC      7\n",
       "DE      6\n",
       "FL    167\n",
       "GA    100\n",
       "HI     12\n",
       "IA     34\n",
       "ID     13\n",
       "IL    126\n",
       "IN     86\n",
       "KS     53\n",
       "KY     65\n",
       "LA     86\n",
       "MA     57\n",
       "MD     47\n",
       "ME     18\n",
       "MI     94\n",
       "MN     48\n",
       "MO     74\n",
       "MS     56\n",
       "MT     13\n",
       "NC     81\n",
       "ND      7\n",
       "NE     24\n",
       "NH     13\n",
       "NJ     64\n",
       "NM     27\n",
       "NV     21\n",
       "NY    151\n",
       "OH    128\n",
       "OK     81\n",
       "OR     34\n",
       "PA    152\n",
       "RI     11\n",
       "SC     54\n",
       "SD     19\n",
       "TN     92\n",
       "TX    285\n",
       "UT     31\n",
       "VA     74\n",
       "VT      6\n",
       "WA     48\n",
       "WI     65\n",
       "WV     29\n",
       "WY     10\n",
       "Name: provider_id, dtype: int64"
      ]
     },
     "execution_count": 18,
     "metadata": {},
     "output_type": "execute_result"
    }
   ],
   "source": [
    "# Providers per state\n",
    "main_df.groupby(\"provider_state\")[\"provider_id\"].nunique()"
   ]
  },
  {
   "cell_type": "code",
   "execution_count": 17,
   "metadata": {},
   "outputs": [],
   "source": [
    "# US state map\n",
    "## Total ACC, ATP and AMP by provider state\n",
    "state_totals_df = main_df.groupby(\"provider_state\", as_index = False).agg({\"provider_id\":\"nunique\",\n",
    "                                                                           \"average_covered_charges\":\"sum\",\n",
    "                                                                           \"average_medicare_payments\":\"sum\",\n",
    "                                                                           \"average_total_payments\":\"sum\"})\n",
    "\n",
    "cols = [\"average_covered_charges\",\"average_medicare_payments\",\"average_total_payments\"]\n",
    "state_totals_df[cols] = state_totals_df[cols]/1000000\n",
    "\n",
    "state_totals_df = state_totals_df.rename(columns={\"provider_state\":\"State\",\n",
    "                                                  \"provider_id\":\"Total providers\",\n",
    "                                                  \"average_covered_charges\":\"ACC Total\",\n",
    "                                                  \"average_medicare_payments\":\"AMP Total\",\n",
    "                                                  \"average_total_payments\":\"ATP Total\"\n",
    "                                                 })\n",
    "\n",
    "state_totals_df.head()\n",
    "\n",
    "for col in state_totals_df.columns:\n",
    "    state_totals_df[col] = state_totals_df[col].astype(str)"
   ]
  },
  {
   "cell_type": "code",
   "execution_count": 18,
   "metadata": {},
   "outputs": [],
   "source": [
    "scl = [[0.0, \"rgb(242,240,247)\"],[0.2, \"rgb(218,218,235)\"],[0.4, \"rgb(188,189,220)\"],\n",
    "            [0.6, \"rgb(158,154,200)\"],[0.8, \"rgb(117,107,177)\"],[1.0, \"rgb(84,39,143)\"]]"
   ]
  },
  {
   "cell_type": "code",
   "execution_count": 19,
   "metadata": {},
   "outputs": [],
   "source": [
    "state_totals_df['text'] = state_totals_df[\"State\"] + '<br>' +\\\n",
    "    \"ACC\"+state_totals_df[\"ACC Total\"]+' AMP '+state_totals_df[\"AMP Total\"]+'<br>'+\\\n",
    "    'ATP '+state_totals_df[\"ATP Total\"]"
   ]
  },
  {
   "cell_type": "code",
   "execution_count": 20,
   "metadata": {},
   "outputs": [
    {
     "data": {
      "application/vnd.plotly.v1+json": {
       "data": [
        {
         "autocolorscale": false,
         "colorbar": {
          "title": "Millions USD"
         },
         "colorscale": [
          [
           0,
           "rgb(242,240,247)"
          ],
          [
           0.2,
           "rgb(218,218,235)"
          ],
          [
           0.4,
           "rgb(188,189,220)"
          ],
          [
           0.6,
           "rgb(158,154,200)"
          ],
          [
           0.8,
           "rgb(117,107,177)"
          ],
          [
           1,
           "rgb(84,39,143)"
          ]
         ],
         "locationmode": "USA-states",
         "locations": [
          "AK",
          "AL",
          "AR",
          "AZ",
          "CA",
          "CO",
          "CT",
          "DC",
          "DE",
          "FL",
          "GA",
          "HI",
          "IA",
          "ID",
          "IL",
          "IN",
          "KS",
          "KY",
          "LA",
          "MA",
          "MD",
          "ME",
          "MI",
          "MN",
          "MO",
          "MS",
          "MT",
          "NC",
          "ND",
          "NE",
          "NH",
          "NJ",
          "NM",
          "NV",
          "NY",
          "OH",
          "OK",
          "OR",
          "PA",
          "RI",
          "SC",
          "SD",
          "TN",
          "TX",
          "UT",
          "VA",
          "VT",
          "WA",
          "WI",
          "WV",
          "WY"
         ],
         "marker": {
          "line": {
           "color": "rgb(255,255,255)",
           "width": 2
          }
         },
         "text": [
          "AK<br>ACC19.677221109999984 AMP 4.477386269999998<br>ATP 5.030051339999998",
          "AL<br>ACC214.04689539999995 AMP 36.720158550000086<br>ATP 43.10629453999996",
          "AR<br>ACC97.78536910000001 AMP 22.514980720000025<br>ATP 26.25726301",
          "AZ<br>ACC214.20958868999958 AMP 40.50999354999994<br>ATP 47.21703623000005",
          "CA<br>ACC1476.4170900600036 AMP 229.5003505499985<br>ATP 259.49419838999813",
          "CO<br>ACC152.90255492999978 AMP 25.497231199999987<br>ATP 30.249091689999975",
          "CT<br>ACC116.50639334999975 AMP 31.559879619999883<br>ATP 37.59063299999995",
          "DC<br>ACC51.10859638999999 AMP 10.945686979999998<br>ATP 14.162045390000014",
          "DE<br>ACC27.085359259999983 AMP 8.087012309999997<br>ATP 9.805909520000005",
          "FL<br>ACC1043.9247342199928 AMP 149.97865834999993<br>ATP 175.63080682999953",
          "GA<br>ACC275.04970826999977 AMP 59.036278610000075<br>ATP 68.09851998000018",
          "HI<br>ACC20.759409720000008 AMP 6.619888069999999<br>ATP 8.027641890000002",
          "IA<br>ACC82.62576159000005 AMP 20.95863740000001<br>ATP 24.51924795000004",
          "ID<br>ACC28.86003451999997 AMP 7.4771601300000015<br>ATP 8.70283665",
          "IL<br>ACC468.73978925000154 AMP 94.4324570900002<br>ATP 114.3230776999999",
          "IN<br>ACC235.40753664000022 AMP 51.15992077000013<br>ATP 60.29516262999989",
          "KS<br>ACC107.57046532000031 AMP 20.921550459999988<br>ATP 24.183435479999996",
          "KY<br>ACC164.6049217399998 AMP 36.34683463999995<br>ATP 43.15527317999994",
          "LA<br>ACC153.05713163000024 AMP 30.462988880000037<br>ATP 36.80452576999993",
          "MA<br>ACC172.5476726699998 AMP 70.11190884000028<br>ATP 79.49423332000015",
          "MD<br>ACC84.79109577999988 AMP 71.61804219000001<br>ATP 78.59047597000001",
          "ME<br>ACC30.798817450000012 AMP 9.910455189999995<br>ATP 11.831406649999998",
          "MI<br>ACC270.8479386599995 AMP 85.49758810000024<br>ATP 100.20956260999995",
          "MN<br>ACC144.60821357999941 AMP 43.64392563000005<br>ATP 51.54481370999985",
          "MO<br>ACC235.36230960999953 AMP 52.152420030000016<br>ATP 59.93173730999998",
          "MS<br>ACC122.75147685000007 AMP 24.379805650000012<br>ATP 28.207754129999987",
          "MT<br>ACC21.21139110999999 AMP 6.4197776399999995<br>ATP 7.292790219999995",
          "NC<br>ACC263.9864016499994 AMP 67.84346434000021<br>ATP 82.01221880999987",
          "ND<br>ACC22.05055654000001 AMP 6.967260189999995<br>ATP 8.001148839999995",
          "NE<br>ACC60.497816360000044 AMP 14.48311854<br>ATP 17.172301490000002",
          "NH<br>ACC42.76404949999995 AMP 11.437224010000001<br>ATP 13.330745349999995",
          "NJ<br>ACC588.8640395600006 AMP 81.16521782000046<br>ATP 94.55567818999964",
          "NM<br>ACC39.52240945999997 AMP 10.193838509999999<br>ATP 11.796582350000016",
          "NV<br>ACC137.68783710999998 AMP 18.543619230000044<br>ATP 21.535243540000007",
          "NY<br>ACC622.8427621500009 AMP 158.6116047399995<br>ATP 186.27051315000034",
          "OH<br>ACC347.8181534600001 AMP 77.00364230000055<br>ATP 94.83865960000041",
          "OK<br>ACC145.85701513999985 AMP 29.127461849999932<br>ATP 34.369026539999936",
          "OR<br>ACC68.98860801000009 AMP 21.45912008000001<br>ATP 24.874731319999988",
          "PA<br>ACC607.3127625599993 AMP 100.26168463999993<br>ATP 124.98152553999935",
          "RI<br>ACC27.37318670999999 AMP 8.166217<br>ATP 9.491943470000008",
          "SC<br>ACC200.48138102999988 AMP 35.67712217999998<br>ATP 42.9783050300001",
          "SD<br>ACC31.044289149999962 AMP 7.672147960000002<br>ATP 8.809894289999999",
          "TN<br>ACC250.08530567999898 AMP 50.00039120999997<br>ATP 58.28555118000007",
          "TX<br>ACC903.2801358700003 AMP 145.01679739999977<br>ATP 175.82182232999983",
          "UT<br>ACC41.13670904999997 AMP 11.561734990000001<br>ATP 14.683291989999995",
          "VA<br>ACC266.93813652999944 AMP 56.32122582000009<br>ATP 70.05691167000006",
          "VT<br>ACC10.856439359999996 AMP 4.382033229999998<br>ATP 5.036113210000001",
          "WA<br>ACC194.70868551000015 AMP 43.76432677000002<br>ATP 51.71246727999999",
          "WI<br>ACC135.04544637999987 AMP 34.866455269999925<br>ATP 42.21091102999993",
          "WV<br>ACC53.09075170000005 AMP 15.300259400000044<br>ATP 18.600034540000053",
          "WY<br>ACC9.437783550000006 AMP 3.0523214099999985<br>ATP 3.53147259"
         ],
         "type": "choropleth",
         "z": [
          8,
          83,
          44,
          59,
          294,
          45,
          29,
          7,
          6,
          167,
          100,
          12,
          34,
          13,
          126,
          86,
          53,
          65,
          86,
          57,
          47,
          18,
          94,
          48,
          74,
          56,
          13,
          81,
          7,
          24,
          13,
          64,
          27,
          21,
          151,
          128,
          81,
          34,
          152,
          11,
          54,
          19,
          92,
          285,
          31,
          74,
          6,
          48,
          65,
          29,
          10
         ]
        }
       ],
       "layout": {
        "geo": {
         "lakecolor": "rgb(255, 255, 255)",
         "projection": {
          "type": "albers usa"
         },
         "scope": "usa",
         "showlakes": true
        },
        "title": "2015 US Medicare inpatient charges and payments by State<br>(Hover for breakdown)"
       }
      },
      "text/html": [
       "<div id=\"8769aa13-eace-4931-b0bc-eaf286c72ce9\" style=\"height: 525px; width: 100%;\" class=\"plotly-graph-div\"></div><script type=\"text/javascript\">require([\"plotly\"], function(Plotly) { window.PLOTLYENV=window.PLOTLYENV || {};window.PLOTLYENV.BASE_URL=\"https://plot.ly\";Plotly.newPlot(\"8769aa13-eace-4931-b0bc-eaf286c72ce9\", [{\"type\": \"choropleth\", \"colorscale\": [[0.0, \"rgb(242,240,247)\"], [0.2, \"rgb(218,218,235)\"], [0.4, \"rgb(188,189,220)\"], [0.6, \"rgb(158,154,200)\"], [0.8, \"rgb(117,107,177)\"], [1.0, \"rgb(84,39,143)\"]], \"autocolorscale\": false, \"locations\": [\"AK\", \"AL\", \"AR\", \"AZ\", \"CA\", \"CO\", \"CT\", \"DC\", \"DE\", \"FL\", \"GA\", \"HI\", \"IA\", \"ID\", \"IL\", \"IN\", \"KS\", \"KY\", \"LA\", \"MA\", \"MD\", \"ME\", \"MI\", \"MN\", \"MO\", \"MS\", \"MT\", \"NC\", \"ND\", \"NE\", \"NH\", \"NJ\", \"NM\", \"NV\", \"NY\", \"OH\", \"OK\", \"OR\", \"PA\", \"RI\", \"SC\", \"SD\", \"TN\", \"TX\", \"UT\", \"VA\", \"VT\", \"WA\", \"WI\", \"WV\", \"WY\"], \"z\": [8.0, 83.0, 44.0, 59.0, 294.0, 45.0, 29.0, 7.0, 6.0, 167.0, 100.0, 12.0, 34.0, 13.0, 126.0, 86.0, 53.0, 65.0, 86.0, 57.0, 47.0, 18.0, 94.0, 48.0, 74.0, 56.0, 13.0, 81.0, 7.0, 24.0, 13.0, 64.0, 27.0, 21.0, 151.0, 128.0, 81.0, 34.0, 152.0, 11.0, 54.0, 19.0, 92.0, 285.0, 31.0, 74.0, 6.0, 48.0, 65.0, 29.0, 10.0], \"locationmode\": \"USA-states\", \"text\": [\"AK<br>ACC19.677221109999984 AMP 4.477386269999998<br>ATP 5.030051339999998\", \"AL<br>ACC214.04689539999995 AMP 36.720158550000086<br>ATP 43.10629453999996\", \"AR<br>ACC97.78536910000001 AMP 22.514980720000025<br>ATP 26.25726301\", \"AZ<br>ACC214.20958868999958 AMP 40.50999354999994<br>ATP 47.21703623000005\", \"CA<br>ACC1476.4170900600036 AMP 229.5003505499985<br>ATP 259.49419838999813\", \"CO<br>ACC152.90255492999978 AMP 25.497231199999987<br>ATP 30.249091689999975\", \"CT<br>ACC116.50639334999975 AMP 31.559879619999883<br>ATP 37.59063299999995\", \"DC<br>ACC51.10859638999999 AMP 10.945686979999998<br>ATP 14.162045390000014\", \"DE<br>ACC27.085359259999983 AMP 8.087012309999997<br>ATP 9.805909520000005\", \"FL<br>ACC1043.9247342199928 AMP 149.97865834999993<br>ATP 175.63080682999953\", \"GA<br>ACC275.04970826999977 AMP 59.036278610000075<br>ATP 68.09851998000018\", \"HI<br>ACC20.759409720000008 AMP 6.619888069999999<br>ATP 8.027641890000002\", \"IA<br>ACC82.62576159000005 AMP 20.95863740000001<br>ATP 24.51924795000004\", \"ID<br>ACC28.86003451999997 AMP 7.4771601300000015<br>ATP 8.70283665\", \"IL<br>ACC468.73978925000154 AMP 94.4324570900002<br>ATP 114.3230776999999\", \"IN<br>ACC235.40753664000022 AMP 51.15992077000013<br>ATP 60.29516262999989\", \"KS<br>ACC107.57046532000031 AMP 20.921550459999988<br>ATP 24.183435479999996\", \"KY<br>ACC164.6049217399998 AMP 36.34683463999995<br>ATP 43.15527317999994\", \"LA<br>ACC153.05713163000024 AMP 30.462988880000037<br>ATP 36.80452576999993\", \"MA<br>ACC172.5476726699998 AMP 70.11190884000028<br>ATP 79.49423332000015\", \"MD<br>ACC84.79109577999988 AMP 71.61804219000001<br>ATP 78.59047597000001\", \"ME<br>ACC30.798817450000012 AMP 9.910455189999995<br>ATP 11.831406649999998\", \"MI<br>ACC270.8479386599995 AMP 85.49758810000024<br>ATP 100.20956260999995\", \"MN<br>ACC144.60821357999941 AMP 43.64392563000005<br>ATP 51.54481370999985\", \"MO<br>ACC235.36230960999953 AMP 52.152420030000016<br>ATP 59.93173730999998\", \"MS<br>ACC122.75147685000007 AMP 24.379805650000012<br>ATP 28.207754129999987\", \"MT<br>ACC21.21139110999999 AMP 6.4197776399999995<br>ATP 7.292790219999995\", \"NC<br>ACC263.9864016499994 AMP 67.84346434000021<br>ATP 82.01221880999987\", \"ND<br>ACC22.05055654000001 AMP 6.967260189999995<br>ATP 8.001148839999995\", \"NE<br>ACC60.497816360000044 AMP 14.48311854<br>ATP 17.172301490000002\", \"NH<br>ACC42.76404949999995 AMP 11.437224010000001<br>ATP 13.330745349999995\", \"NJ<br>ACC588.8640395600006 AMP 81.16521782000046<br>ATP 94.55567818999964\", \"NM<br>ACC39.52240945999997 AMP 10.193838509999999<br>ATP 11.796582350000016\", \"NV<br>ACC137.68783710999998 AMP 18.543619230000044<br>ATP 21.535243540000007\", \"NY<br>ACC622.8427621500009 AMP 158.6116047399995<br>ATP 186.27051315000034\", \"OH<br>ACC347.8181534600001 AMP 77.00364230000055<br>ATP 94.83865960000041\", \"OK<br>ACC145.85701513999985 AMP 29.127461849999932<br>ATP 34.369026539999936\", \"OR<br>ACC68.98860801000009 AMP 21.45912008000001<br>ATP 24.874731319999988\", \"PA<br>ACC607.3127625599993 AMP 100.26168463999993<br>ATP 124.98152553999935\", \"RI<br>ACC27.37318670999999 AMP 8.166217<br>ATP 9.491943470000008\", \"SC<br>ACC200.48138102999988 AMP 35.67712217999998<br>ATP 42.9783050300001\", \"SD<br>ACC31.044289149999962 AMP 7.672147960000002<br>ATP 8.809894289999999\", \"TN<br>ACC250.08530567999898 AMP 50.00039120999997<br>ATP 58.28555118000007\", \"TX<br>ACC903.2801358700003 AMP 145.01679739999977<br>ATP 175.82182232999983\", \"UT<br>ACC41.13670904999997 AMP 11.561734990000001<br>ATP 14.683291989999995\", \"VA<br>ACC266.93813652999944 AMP 56.32122582000009<br>ATP 70.05691167000006\", \"VT<br>ACC10.856439359999996 AMP 4.382033229999998<br>ATP 5.036113210000001\", \"WA<br>ACC194.70868551000015 AMP 43.76432677000002<br>ATP 51.71246727999999\", \"WI<br>ACC135.04544637999987 AMP 34.866455269999925<br>ATP 42.21091102999993\", \"WV<br>ACC53.09075170000005 AMP 15.300259400000044<br>ATP 18.600034540000053\", \"WY<br>ACC9.437783550000006 AMP 3.0523214099999985<br>ATP 3.53147259\"], \"marker\": {\"line\": {\"color\": \"rgb(255,255,255)\", \"width\": 2}}, \"colorbar\": {\"title\": \"Millions USD\"}}], {\"title\": \"2015 US Medicare inpatient charges and payments by State<br>(Hover for breakdown)\", \"geo\": {\"scope\": \"usa\", \"projection\": {\"type\": \"albers usa\"}, \"showlakes\": true, \"lakecolor\": \"rgb(255, 255, 255)\"}}, {\"showLink\": true, \"linkText\": \"Export to plot.ly\"})});</script>"
      ],
      "text/vnd.plotly.v1+html": [
       "<div id=\"8769aa13-eace-4931-b0bc-eaf286c72ce9\" style=\"height: 525px; width: 100%;\" class=\"plotly-graph-div\"></div><script type=\"text/javascript\">require([\"plotly\"], function(Plotly) { window.PLOTLYENV=window.PLOTLYENV || {};window.PLOTLYENV.BASE_URL=\"https://plot.ly\";Plotly.newPlot(\"8769aa13-eace-4931-b0bc-eaf286c72ce9\", [{\"type\": \"choropleth\", \"colorscale\": [[0.0, \"rgb(242,240,247)\"], [0.2, \"rgb(218,218,235)\"], [0.4, \"rgb(188,189,220)\"], [0.6, \"rgb(158,154,200)\"], [0.8, \"rgb(117,107,177)\"], [1.0, \"rgb(84,39,143)\"]], \"autocolorscale\": false, \"locations\": [\"AK\", \"AL\", \"AR\", \"AZ\", \"CA\", \"CO\", \"CT\", \"DC\", \"DE\", \"FL\", \"GA\", \"HI\", \"IA\", \"ID\", \"IL\", \"IN\", \"KS\", \"KY\", \"LA\", \"MA\", \"MD\", \"ME\", \"MI\", \"MN\", \"MO\", \"MS\", \"MT\", \"NC\", \"ND\", \"NE\", \"NH\", \"NJ\", \"NM\", \"NV\", \"NY\", \"OH\", \"OK\", \"OR\", \"PA\", \"RI\", \"SC\", \"SD\", \"TN\", \"TX\", \"UT\", \"VA\", \"VT\", \"WA\", \"WI\", \"WV\", \"WY\"], \"z\": [8.0, 83.0, 44.0, 59.0, 294.0, 45.0, 29.0, 7.0, 6.0, 167.0, 100.0, 12.0, 34.0, 13.0, 126.0, 86.0, 53.0, 65.0, 86.0, 57.0, 47.0, 18.0, 94.0, 48.0, 74.0, 56.0, 13.0, 81.0, 7.0, 24.0, 13.0, 64.0, 27.0, 21.0, 151.0, 128.0, 81.0, 34.0, 152.0, 11.0, 54.0, 19.0, 92.0, 285.0, 31.0, 74.0, 6.0, 48.0, 65.0, 29.0, 10.0], \"locationmode\": \"USA-states\", \"text\": [\"AK<br>ACC19.677221109999984 AMP 4.477386269999998<br>ATP 5.030051339999998\", \"AL<br>ACC214.04689539999995 AMP 36.720158550000086<br>ATP 43.10629453999996\", \"AR<br>ACC97.78536910000001 AMP 22.514980720000025<br>ATP 26.25726301\", \"AZ<br>ACC214.20958868999958 AMP 40.50999354999994<br>ATP 47.21703623000005\", \"CA<br>ACC1476.4170900600036 AMP 229.5003505499985<br>ATP 259.49419838999813\", \"CO<br>ACC152.90255492999978 AMP 25.497231199999987<br>ATP 30.249091689999975\", \"CT<br>ACC116.50639334999975 AMP 31.559879619999883<br>ATP 37.59063299999995\", \"DC<br>ACC51.10859638999999 AMP 10.945686979999998<br>ATP 14.162045390000014\", \"DE<br>ACC27.085359259999983 AMP 8.087012309999997<br>ATP 9.805909520000005\", \"FL<br>ACC1043.9247342199928 AMP 149.97865834999993<br>ATP 175.63080682999953\", \"GA<br>ACC275.04970826999977 AMP 59.036278610000075<br>ATP 68.09851998000018\", \"HI<br>ACC20.759409720000008 AMP 6.619888069999999<br>ATP 8.027641890000002\", \"IA<br>ACC82.62576159000005 AMP 20.95863740000001<br>ATP 24.51924795000004\", \"ID<br>ACC28.86003451999997 AMP 7.4771601300000015<br>ATP 8.70283665\", \"IL<br>ACC468.73978925000154 AMP 94.4324570900002<br>ATP 114.3230776999999\", \"IN<br>ACC235.40753664000022 AMP 51.15992077000013<br>ATP 60.29516262999989\", \"KS<br>ACC107.57046532000031 AMP 20.921550459999988<br>ATP 24.183435479999996\", \"KY<br>ACC164.6049217399998 AMP 36.34683463999995<br>ATP 43.15527317999994\", \"LA<br>ACC153.05713163000024 AMP 30.462988880000037<br>ATP 36.80452576999993\", \"MA<br>ACC172.5476726699998 AMP 70.11190884000028<br>ATP 79.49423332000015\", \"MD<br>ACC84.79109577999988 AMP 71.61804219000001<br>ATP 78.59047597000001\", \"ME<br>ACC30.798817450000012 AMP 9.910455189999995<br>ATP 11.831406649999998\", \"MI<br>ACC270.8479386599995 AMP 85.49758810000024<br>ATP 100.20956260999995\", \"MN<br>ACC144.60821357999941 AMP 43.64392563000005<br>ATP 51.54481370999985\", \"MO<br>ACC235.36230960999953 AMP 52.152420030000016<br>ATP 59.93173730999998\", \"MS<br>ACC122.75147685000007 AMP 24.379805650000012<br>ATP 28.207754129999987\", \"MT<br>ACC21.21139110999999 AMP 6.4197776399999995<br>ATP 7.292790219999995\", \"NC<br>ACC263.9864016499994 AMP 67.84346434000021<br>ATP 82.01221880999987\", \"ND<br>ACC22.05055654000001 AMP 6.967260189999995<br>ATP 8.001148839999995\", \"NE<br>ACC60.497816360000044 AMP 14.48311854<br>ATP 17.172301490000002\", \"NH<br>ACC42.76404949999995 AMP 11.437224010000001<br>ATP 13.330745349999995\", \"NJ<br>ACC588.8640395600006 AMP 81.16521782000046<br>ATP 94.55567818999964\", \"NM<br>ACC39.52240945999997 AMP 10.193838509999999<br>ATP 11.796582350000016\", \"NV<br>ACC137.68783710999998 AMP 18.543619230000044<br>ATP 21.535243540000007\", \"NY<br>ACC622.8427621500009 AMP 158.6116047399995<br>ATP 186.27051315000034\", \"OH<br>ACC347.8181534600001 AMP 77.00364230000055<br>ATP 94.83865960000041\", \"OK<br>ACC145.85701513999985 AMP 29.127461849999932<br>ATP 34.369026539999936\", \"OR<br>ACC68.98860801000009 AMP 21.45912008000001<br>ATP 24.874731319999988\", \"PA<br>ACC607.3127625599993 AMP 100.26168463999993<br>ATP 124.98152553999935\", \"RI<br>ACC27.37318670999999 AMP 8.166217<br>ATP 9.491943470000008\", \"SC<br>ACC200.48138102999988 AMP 35.67712217999998<br>ATP 42.9783050300001\", \"SD<br>ACC31.044289149999962 AMP 7.672147960000002<br>ATP 8.809894289999999\", \"TN<br>ACC250.08530567999898 AMP 50.00039120999997<br>ATP 58.28555118000007\", \"TX<br>ACC903.2801358700003 AMP 145.01679739999977<br>ATP 175.82182232999983\", \"UT<br>ACC41.13670904999997 AMP 11.561734990000001<br>ATP 14.683291989999995\", \"VA<br>ACC266.93813652999944 AMP 56.32122582000009<br>ATP 70.05691167000006\", \"VT<br>ACC10.856439359999996 AMP 4.382033229999998<br>ATP 5.036113210000001\", \"WA<br>ACC194.70868551000015 AMP 43.76432677000002<br>ATP 51.71246727999999\", \"WI<br>ACC135.04544637999987 AMP 34.866455269999925<br>ATP 42.21091102999993\", \"WV<br>ACC53.09075170000005 AMP 15.300259400000044<br>ATP 18.600034540000053\", \"WY<br>ACC9.437783550000006 AMP 3.0523214099999985<br>ATP 3.53147259\"], \"marker\": {\"line\": {\"color\": \"rgb(255,255,255)\", \"width\": 2}}, \"colorbar\": {\"title\": \"Millions USD\"}}], {\"title\": \"2015 US Medicare inpatient charges and payments by State<br>(Hover for breakdown)\", \"geo\": {\"scope\": \"usa\", \"projection\": {\"type\": \"albers usa\"}, \"showlakes\": true, \"lakecolor\": \"rgb(255, 255, 255)\"}}, {\"showLink\": true, \"linkText\": \"Export to plot.ly\"})});</script>"
      ]
     },
     "metadata": {},
     "output_type": "display_data"
    }
   ],
   "source": [
    "data = [ dict(\n",
    "        type='choropleth',\n",
    "        colorscale = scl,\n",
    "        autocolorscale = False,\n",
    "        locations = state_totals_df[\"State\"],\n",
    "        z = state_totals_df[\"Total providers\"].astype(float),\n",
    "        locationmode = 'USA-states',\n",
    "        text = state_totals_df['text'],\n",
    "        marker = dict(\n",
    "            line = dict (\n",
    "                color = 'rgb(255,255,255)',\n",
    "                width = 2\n",
    "            ) ),\n",
    "        colorbar = dict(\n",
    "            title = \"Millions USD\")\n",
    "        ) ]\n",
    "\n",
    "layout = dict(\n",
    "        title = '2015 US Medicare inpatient charges and payments by State<br>(Hover for breakdown)',\n",
    "        geo = dict(\n",
    "            scope='usa',\n",
    "            projection=dict( type='albers usa' ),\n",
    "            showlakes = True,\n",
    "            lakecolor = 'rgb(255, 255, 255)'),\n",
    "             )\n",
    "    \n",
    "fig = dict( data=data, layout=layout )\n",
    "iplot( fig, filename='d3-cloropleth-map' )"
   ]
  },
  {
   "cell_type": "code",
   "execution_count": null,
   "metadata": {
    "collapsed": true
   },
   "outputs": [],
   "source": [
    "#I made a change"
   ]
  },
  {
   "cell_type": "code",
   "execution_count": null,
   "metadata": {},
   "outputs": [],
   "source": []
  },
  {
   "cell_type": "markdown",
   "metadata": {},
   "source": []
  }
 ],
 "metadata": {
  "kernelspec": {
   "display_name": "Python 3",
   "language": "python",
   "name": "python3"
  },
  "language_info": {
   "codemirror_mode": {
    "name": "ipython",
    "version": 3
   },
   "file_extension": ".py",
   "mimetype": "text/x-python",
   "name": "python",
   "nbconvert_exporter": "python",
   "pygments_lexer": "ipython3",
   "version": "3.6.4"
  }
 },
 "nbformat": 4,
 "nbformat_minor": 2
}
