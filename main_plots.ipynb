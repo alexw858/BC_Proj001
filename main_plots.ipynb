{
 "cells": [
  {
   "cell_type": "markdown",
   "metadata": {},
   "source": [
    "# Project 001 UCSD Data Science Visualization Bootcamp\n",
    "## Plots and Gralphics Workbook\n",
    "* Noreen Malik 😃\n",
    "* Rene Venema(\"dutch\") 🐱\n",
    "* John Warlop 🦁\n",
    "* Alex Wooten 🏄\n",
    "😛😳😗😓🙉😸🙈🙊😽💀💢💥✨💏👫👄👃👀👛👛🗼🔮🔮🎄🎅👻"
   ]
  },
  {
   "cell_type": "markdown",
   "metadata": {},
   "source": [
    "<span style=\"color:red\">NOTE: EACH SECTION CAN BE RUN INDEPENDTLY.  THIS WAY YOU CAN TEST YOUR OWN CODE, NO DEPENDENCIES BEYOND PICKLE FILE YOU READ IN AT TOP OF YOUR SECTION. PICKLE FILE COMES FROM THE MAIN NOTEBOOK FILE.</span>.\n",
    "<span style=\"color:red\">"
   ]
  },
  {
   "cell_type": "markdown",
   "metadata": {},
   "source": [
    "# John's Plots"
   ]
  },
  {
   "cell_type": "code",
   "execution_count": null,
   "metadata": {},
   "outputs": [],
   "source": [
    "import matplotlib.pylab as plt\n",
    "import pandas as pd\n",
    "import numpy as np\n",
    "AGI_PICKLE           = 'df_agi.pkl' #Cleaned up df after merging medicare and irs data\n",
    "IRS_DATAFRAME_PICKLE = 'df_irs.pkl' #Raw file from IRS Tax Year 2015\n",
    "main_df = pd.read_csv(\"main data cleaned.csv\")\n",
    "df_agi = pd.read_pickle(AGI_PICKLE)\n",
    "df_agi.head(2)"
   ]
  },
  {
   "cell_type": "code",
   "execution_count": null,
   "metadata": {},
   "outputs": [],
   "source": [
    "plt.figure(figsize=(16,6), dpi=80)\n",
    "plt.scatter(df_agi['avgAGI'].tolist(),df_agi['oop'].tolist(),color=\"g\",s=10)\n",
    "plt.xlabel(\"Avg Gross Income($)\")\n",
    "plt.ylabel(\"Avg Out of Pocket Cost($)\")\n",
    "plt.show()\n",
    "#ax = df.plot(kind='scatter', x='Avg Adj Gross Income', y='Out-Of-Pocket Costs')\n",
    "aoop = sum(df_agi['oop'])/len(df_agi['oop'])\n",
    "print(aoop)\n",
    "# >>>>>>>>>>>>>>>>>>>>>>>>>>> END JOHN'S  SECTION <<<<<<<<<<<<<<<<<<<<<<<<<<<<<<<<<<<"
   ]
  },
  {
   "cell_type": "markdown",
   "metadata": {},
   "source": [
    "# Alex's Plots"
   ]
  },
  {
   "cell_type": "code",
   "execution_count": null,
   "metadata": {},
   "outputs": [],
   "source": [
    "import pandas as pd\n",
    "import matplotlib.pylab as plt\n",
    "import numpy as np\n",
    "avg_cost_group = pd.read_pickle('avg_cost_group.pkl') #From main notebook"
   ]
  },
  {
   "cell_type": "code",
   "execution_count": null,
   "metadata": {},
   "outputs": [],
   "source": [
    "# get the top 10 most expensive hospitals\n",
    "plt.figure(1, figsize=(120,30))\n",
    "x_axis = np.arange(0,10)\n",
    "top_10_expensive = avg_cost_group[\"average_patient_payment\"].sort_values(ascending=False).head(10)\n",
    "tick_locations = [value for value in x_axis]\n",
    "# print(list(top_10_expensive.reset_index()[\"provider_name\"]))\n",
    "plt.xticks(tick_locations, list(top_10_expensive.reset_index()[\"provider_name\"]), size=35, rotation=45)\n",
    "plt.yticks(size=60)\n",
    "\n",
    "plt.ylabel(\"Dollars\", size=70)\n",
    "plt.title(\"Top 10 Most Expensive Providers Based on Out-of-Pocket Charges\", size=80)\n",
    "\n",
    "# Show graph\n",
    "plt.bar(x_axis, top_10_expensive)"
   ]
  },
  {
   "cell_type": "code",
   "execution_count": null,
   "metadata": {},
   "outputs": [],
   "source": [
    "top_10_expensive_zip = avg_cost_group[\"average_patient_payment\"].sort_values(ascending=False).head(10)\n",
    "\n",
    "plt.figure(2, figsize=(120,30))\n",
    "x_axis = np.arange(0,10)\n",
    "tick_locations = [value for value in x_axis]\n",
    "plt.xticks(tick_locations, list(top_10_expensive_zip.reset_index()[\"provider_zip_code\"]), size=70)\n",
    "plt.yticks(size=60)\n",
    "plt.ylabel(\"Dollars\", size=70)\n",
    "plt.title(\"Top 10 Most Expensive Providers' Zip Code Based on Out-of-Pocket Charges\", size=80)\n",
    "\n",
    "# Show graph\n",
    "plt.bar(x_axis, top_10_expensive)"
   ]
  },
  {
   "cell_type": "code",
   "execution_count": null,
   "metadata": {},
   "outputs": [],
   "source": [
    "avg_cost_group2=pd.read_pickle('avg_cost_group2.pkl') #Added jwarlop 4/16/18 \n",
    "top_10_expensive_zip_avg = avg_cost_group2[\"average_patient_payment\"].sort_values(ascending=False).head(10)\n",
    "\n",
    "plt.figure(3, figsize=(120,30))\n",
    "x_axis = np.arange(0,10)\n",
    "tick_locations = [value for value in x_axis]\n",
    "plt.xticks(tick_locations, list(top_10_expensive_zip_avg.reset_index()[\"provider_zip_code\"]), size=70)\n",
    "plt.yticks(size=60)\n",
    "plt.ylabel(\"Dollars\", size=70)\n",
    "plt.title(\"Top 10 Most Expensive Zip Codes Based on Out-of-Pocket Charges\", size=80)\n",
    "\n",
    "# Show graph\n",
    "plt.bar(x_axis, top_10_expensive_zip_avg)\n",
    "# >>>>>>>>>>>>>>>>>>>>>>>>>>> END ALEX'S  SECTION <<<<<<<<<<<<<<<<<<<<<<<<<<<<<<<<<<<"
   ]
  },
  {
   "cell_type": "markdown",
   "metadata": {},
   "source": [
    "# Dutch's Plots"
   ]
  },
  {
   "cell_type": "code",
   "execution_count": 1,
   "metadata": {},
   "outputs": [
    {
     "data": {
      "text/html": [
       "<script>requirejs.config({paths: { 'plotly': ['https://cdn.plot.ly/plotly-latest.min']},});if(!window.Plotly) {{require(['plotly'],function(plotly) {window.Plotly=plotly;});}}</script>"
      ],
      "text/vnd.plotly.v1+html": [
       "<script>requirejs.config({paths: { 'plotly': ['https://cdn.plot.ly/plotly-latest.min']},});if(!window.Plotly) {{require(['plotly'],function(plotly) {window.Plotly=plotly;});}}</script>"
      ]
     },
     "metadata": {},
     "output_type": "display_data"
    }
   ],
   "source": [
    "import pandas as pd\n",
    "import matplotlib.pylab as plt\n",
    "from plotly.offline import download_plotlyjs, init_notebook_mode,plot,iplot\n",
    "init_notebook_mode(connected=True)\n",
    "from scipy.stats import linregress\n",
    "\n",
    "main_df = pd.read_csv(\"main data cleaned.csv\")\n",
    "state_totals_df = pd.read_pickle('state_totals_df.pkl')"
   ]
  },
  {
   "cell_type": "code",
   "execution_count": 2,
   "metadata": {},
   "outputs": [],
   "source": [
    "scl = [[0.0, \"rgb(242,240,247)\"],[0.2, \"rgb(218,218,235)\"],[0.4, \"rgb(188,189,220)\"],\n",
    "            [0.6, \"rgb(158,154,200)\"],[0.8, \"rgb(117,107,177)\"],[1.0, \"rgb(84,39,143)\"]]"
   ]
  },
  {
   "cell_type": "code",
   "execution_count": 3,
   "metadata": {},
   "outputs": [],
   "source": [
    "state_totals_df[\"text\"] = \"Providers/state: \" + state_totals_df[\"Total providers\"] + \"<br>\" +\\\n",
    "    \"ACC \"+state_totals_df[\"ACC Total\"]+\"<br>\"+\"AMP \"+state_totals_df[\"AMP Total\"]+\"<br>\"+\\\n",
    "    \"ATP \"+state_totals_df[\"ATP Total\"]"
   ]
  },
  {
   "cell_type": "code",
   "execution_count": 4,
   "metadata": {},
   "outputs": [
    {
     "data": {
      "application/vnd.plotly.v1+json": {
       "data": [
        {
         "autocolorscale": false,
         "colorbar": {
          "title": "Millions USD"
         },
         "colorscale": [
          [
           0,
           "rgb(242,240,247)"
          ],
          [
           0.2,
           "rgb(218,218,235)"
          ],
          [
           0.4,
           "rgb(188,189,220)"
          ],
          [
           0.6,
           "rgb(158,154,200)"
          ],
          [
           0.8,
           "rgb(117,107,177)"
          ],
          [
           1,
           "rgb(84,39,143)"
          ]
         ],
         "locationmode": "USA-states",
         "locations": [
          "AK",
          "AL",
          "AR",
          "AZ",
          "CA",
          "CO",
          "CT",
          "DC",
          "DE",
          "FL",
          "GA",
          "HI",
          "IA",
          "ID",
          "IL",
          "IN",
          "KS",
          "KY",
          "LA",
          "MA",
          "MD",
          "ME",
          "MI",
          "MN",
          "MO",
          "MS",
          "MT",
          "NC",
          "ND",
          "NE",
          "NH",
          "NJ",
          "NM",
          "NV",
          "NY",
          "OH",
          "OK",
          "OR",
          "PA",
          "RI",
          "SC",
          "SD",
          "TN",
          "TX",
          "UT",
          "VA",
          "VT",
          "WA",
          "WI",
          "WV",
          "WY"
         ],
         "marker": {
          "line": {
           "color": "rgb(40,40,40)",
           "width": 2
          }
         },
         "text": [
          "Providers/state: 8<br>ACC 19.68<br>AMP 4.48<br>ATP 5.03",
          "Providers/state: 83<br>ACC 214.05<br>AMP 36.72<br>ATP 43.11",
          "Providers/state: 44<br>ACC 97.79<br>AMP 22.51<br>ATP 26.26",
          "Providers/state: 59<br>ACC 214.21<br>AMP 40.51<br>ATP 47.22",
          "Providers/state: 294<br>ACC 1476.42<br>AMP 229.5<br>ATP 259.49",
          "Providers/state: 45<br>ACC 152.9<br>AMP 25.5<br>ATP 30.25",
          "Providers/state: 29<br>ACC 116.51<br>AMP 31.56<br>ATP 37.59",
          "Providers/state: 7<br>ACC 51.11<br>AMP 10.95<br>ATP 14.16",
          "Providers/state: 6<br>ACC 27.09<br>AMP 8.09<br>ATP 9.81",
          "Providers/state: 167<br>ACC 1043.92<br>AMP 149.98<br>ATP 175.63",
          "Providers/state: 100<br>ACC 275.05<br>AMP 59.04<br>ATP 68.1",
          "Providers/state: 12<br>ACC 20.76<br>AMP 6.62<br>ATP 8.03",
          "Providers/state: 34<br>ACC 82.63<br>AMP 20.96<br>ATP 24.52",
          "Providers/state: 13<br>ACC 28.86<br>AMP 7.48<br>ATP 8.7",
          "Providers/state: 126<br>ACC 468.74<br>AMP 94.43<br>ATP 114.32",
          "Providers/state: 86<br>ACC 235.41<br>AMP 51.16<br>ATP 60.3",
          "Providers/state: 53<br>ACC 107.57<br>AMP 20.92<br>ATP 24.18",
          "Providers/state: 65<br>ACC 164.6<br>AMP 36.35<br>ATP 43.16",
          "Providers/state: 86<br>ACC 153.06<br>AMP 30.46<br>ATP 36.8",
          "Providers/state: 57<br>ACC 172.55<br>AMP 70.11<br>ATP 79.49",
          "Providers/state: 47<br>ACC 84.79<br>AMP 71.62<br>ATP 78.59",
          "Providers/state: 18<br>ACC 30.8<br>AMP 9.91<br>ATP 11.83",
          "Providers/state: 94<br>ACC 270.85<br>AMP 85.5<br>ATP 100.21",
          "Providers/state: 48<br>ACC 144.61<br>AMP 43.64<br>ATP 51.54",
          "Providers/state: 74<br>ACC 235.36<br>AMP 52.15<br>ATP 59.93",
          "Providers/state: 56<br>ACC 122.75<br>AMP 24.38<br>ATP 28.21",
          "Providers/state: 13<br>ACC 21.21<br>AMP 6.42<br>ATP 7.29",
          "Providers/state: 81<br>ACC 263.99<br>AMP 67.84<br>ATP 82.01",
          "Providers/state: 7<br>ACC 22.05<br>AMP 6.97<br>ATP 8.0",
          "Providers/state: 24<br>ACC 60.5<br>AMP 14.48<br>ATP 17.17",
          "Providers/state: 13<br>ACC 42.76<br>AMP 11.44<br>ATP 13.33",
          "Providers/state: 64<br>ACC 588.86<br>AMP 81.17<br>ATP 94.56",
          "Providers/state: 27<br>ACC 39.52<br>AMP 10.19<br>ATP 11.8",
          "Providers/state: 21<br>ACC 137.69<br>AMP 18.54<br>ATP 21.54",
          "Providers/state: 151<br>ACC 622.84<br>AMP 158.61<br>ATP 186.27",
          "Providers/state: 128<br>ACC 347.82<br>AMP 77.0<br>ATP 94.84",
          "Providers/state: 81<br>ACC 145.86<br>AMP 29.13<br>ATP 34.37",
          "Providers/state: 34<br>ACC 68.99<br>AMP 21.46<br>ATP 24.87",
          "Providers/state: 152<br>ACC 607.31<br>AMP 100.26<br>ATP 124.98",
          "Providers/state: 11<br>ACC 27.37<br>AMP 8.17<br>ATP 9.49",
          "Providers/state: 54<br>ACC 200.48<br>AMP 35.68<br>ATP 42.98",
          "Providers/state: 19<br>ACC 31.04<br>AMP 7.67<br>ATP 8.81",
          "Providers/state: 92<br>ACC 250.09<br>AMP 50.0<br>ATP 58.29",
          "Providers/state: 285<br>ACC 903.28<br>AMP 145.02<br>ATP 175.82",
          "Providers/state: 31<br>ACC 41.14<br>AMP 11.56<br>ATP 14.68",
          "Providers/state: 74<br>ACC 266.94<br>AMP 56.32<br>ATP 70.06",
          "Providers/state: 6<br>ACC 10.86<br>AMP 4.38<br>ATP 5.04",
          "Providers/state: 48<br>ACC 194.71<br>AMP 43.76<br>ATP 51.71",
          "Providers/state: 65<br>ACC 135.05<br>AMP 34.87<br>ATP 42.21",
          "Providers/state: 29<br>ACC 53.09<br>AMP 15.3<br>ATP 18.6",
          "Providers/state: 10<br>ACC 9.44<br>AMP 3.05<br>ATP 3.53"
         ],
         "type": "choropleth",
         "z": [
          15.2,
          177.33,
          75.27,
          173.7,
          1246.92,
          127.41,
          84.95,
          40.16,
          19,
          893.95,
          216.01,
          14.14,
          61.67,
          21.38,
          374.31,
          184.25,
          86.65,
          128.26,
          122.59,
          102.44,
          13.17,
          20.89,
          185.35,
          100.96,
          183.21,
          98.37,
          14.79,
          196.14,
          15.08,
          46.01,
          31.33,
          507.7,
          29.33,
          119.14,
          464.23,
          270.81,
          116.73,
          47.53,
          507.05,
          19.21,
          164.8,
          23.37,
          200.08,
          758.26,
          29.57,
          210.62,
          6.47,
          150.94,
          100.18,
          37.79,
          6.39
         ]
        }
       ],
       "layout": {
        "geo": {
         "lakecolor": "rgb(255, 255, 255)",
         "projection": {
          "type": "albers usa"
         },
         "scope": "usa",
         "showlakes": true
        },
        "title": "2015 US Medicare inpatient charges and payments by state<br>(Hover for breakdown)"
       }
      },
      "text/html": [
       "<div id=\"356afe89-302b-4c3f-a580-34a226b6117f\" style=\"height: 525px; width: 100%;\" class=\"plotly-graph-div\"></div><script type=\"text/javascript\">require([\"plotly\"], function(Plotly) { window.PLOTLYENV=window.PLOTLYENV || {};window.PLOTLYENV.BASE_URL=\"https://plot.ly\";Plotly.newPlot(\"356afe89-302b-4c3f-a580-34a226b6117f\", [{\"type\": \"choropleth\", \"colorscale\": [[0.0, \"rgb(242,240,247)\"], [0.2, \"rgb(218,218,235)\"], [0.4, \"rgb(188,189,220)\"], [0.6, \"rgb(158,154,200)\"], [0.8, \"rgb(117,107,177)\"], [1.0, \"rgb(84,39,143)\"]], \"autocolorscale\": false, \"locations\": [\"AK\", \"AL\", \"AR\", \"AZ\", \"CA\", \"CO\", \"CT\", \"DC\", \"DE\", \"FL\", \"GA\", \"HI\", \"IA\", \"ID\", \"IL\", \"IN\", \"KS\", \"KY\", \"LA\", \"MA\", \"MD\", \"ME\", \"MI\", \"MN\", \"MO\", \"MS\", \"MT\", \"NC\", \"ND\", \"NE\", \"NH\", \"NJ\", \"NM\", \"NV\", \"NY\", \"OH\", \"OK\", \"OR\", \"PA\", \"RI\", \"SC\", \"SD\", \"TN\", \"TX\", \"UT\", \"VA\", \"VT\", \"WA\", \"WI\", \"WV\", \"WY\"], \"z\": [15.2, 177.33, 75.27, 173.7, 1246.92, 127.41, 84.95, 40.16, 19.0, 893.95, 216.01, 14.14, 61.67, 21.38, 374.31, 184.25, 86.65, 128.26, 122.59, 102.44, 13.17, 20.89, 185.35, 100.96, 183.21, 98.37, 14.79, 196.14, 15.08, 46.01, 31.33, 507.7, 29.33, 119.14, 464.23, 270.81, 116.73, 47.53, 507.05, 19.21, 164.8, 23.37, 200.08, 758.26, 29.57, 210.62, 6.47, 150.94, 100.18, 37.79, 6.39], \"locationmode\": \"USA-states\", \"text\": [\"Providers/state: 8<br>ACC 19.68<br>AMP 4.48<br>ATP 5.03\", \"Providers/state: 83<br>ACC 214.05<br>AMP 36.72<br>ATP 43.11\", \"Providers/state: 44<br>ACC 97.79<br>AMP 22.51<br>ATP 26.26\", \"Providers/state: 59<br>ACC 214.21<br>AMP 40.51<br>ATP 47.22\", \"Providers/state: 294<br>ACC 1476.42<br>AMP 229.5<br>ATP 259.49\", \"Providers/state: 45<br>ACC 152.9<br>AMP 25.5<br>ATP 30.25\", \"Providers/state: 29<br>ACC 116.51<br>AMP 31.56<br>ATP 37.59\", \"Providers/state: 7<br>ACC 51.11<br>AMP 10.95<br>ATP 14.16\", \"Providers/state: 6<br>ACC 27.09<br>AMP 8.09<br>ATP 9.81\", \"Providers/state: 167<br>ACC 1043.92<br>AMP 149.98<br>ATP 175.63\", \"Providers/state: 100<br>ACC 275.05<br>AMP 59.04<br>ATP 68.1\", \"Providers/state: 12<br>ACC 20.76<br>AMP 6.62<br>ATP 8.03\", \"Providers/state: 34<br>ACC 82.63<br>AMP 20.96<br>ATP 24.52\", \"Providers/state: 13<br>ACC 28.86<br>AMP 7.48<br>ATP 8.7\", \"Providers/state: 126<br>ACC 468.74<br>AMP 94.43<br>ATP 114.32\", \"Providers/state: 86<br>ACC 235.41<br>AMP 51.16<br>ATP 60.3\", \"Providers/state: 53<br>ACC 107.57<br>AMP 20.92<br>ATP 24.18\", \"Providers/state: 65<br>ACC 164.6<br>AMP 36.35<br>ATP 43.16\", \"Providers/state: 86<br>ACC 153.06<br>AMP 30.46<br>ATP 36.8\", \"Providers/state: 57<br>ACC 172.55<br>AMP 70.11<br>ATP 79.49\", \"Providers/state: 47<br>ACC 84.79<br>AMP 71.62<br>ATP 78.59\", \"Providers/state: 18<br>ACC 30.8<br>AMP 9.91<br>ATP 11.83\", \"Providers/state: 94<br>ACC 270.85<br>AMP 85.5<br>ATP 100.21\", \"Providers/state: 48<br>ACC 144.61<br>AMP 43.64<br>ATP 51.54\", \"Providers/state: 74<br>ACC 235.36<br>AMP 52.15<br>ATP 59.93\", \"Providers/state: 56<br>ACC 122.75<br>AMP 24.38<br>ATP 28.21\", \"Providers/state: 13<br>ACC 21.21<br>AMP 6.42<br>ATP 7.29\", \"Providers/state: 81<br>ACC 263.99<br>AMP 67.84<br>ATP 82.01\", \"Providers/state: 7<br>ACC 22.05<br>AMP 6.97<br>ATP 8.0\", \"Providers/state: 24<br>ACC 60.5<br>AMP 14.48<br>ATP 17.17\", \"Providers/state: 13<br>ACC 42.76<br>AMP 11.44<br>ATP 13.33\", \"Providers/state: 64<br>ACC 588.86<br>AMP 81.17<br>ATP 94.56\", \"Providers/state: 27<br>ACC 39.52<br>AMP 10.19<br>ATP 11.8\", \"Providers/state: 21<br>ACC 137.69<br>AMP 18.54<br>ATP 21.54\", \"Providers/state: 151<br>ACC 622.84<br>AMP 158.61<br>ATP 186.27\", \"Providers/state: 128<br>ACC 347.82<br>AMP 77.0<br>ATP 94.84\", \"Providers/state: 81<br>ACC 145.86<br>AMP 29.13<br>ATP 34.37\", \"Providers/state: 34<br>ACC 68.99<br>AMP 21.46<br>ATP 24.87\", \"Providers/state: 152<br>ACC 607.31<br>AMP 100.26<br>ATP 124.98\", \"Providers/state: 11<br>ACC 27.37<br>AMP 8.17<br>ATP 9.49\", \"Providers/state: 54<br>ACC 200.48<br>AMP 35.68<br>ATP 42.98\", \"Providers/state: 19<br>ACC 31.04<br>AMP 7.67<br>ATP 8.81\", \"Providers/state: 92<br>ACC 250.09<br>AMP 50.0<br>ATP 58.29\", \"Providers/state: 285<br>ACC 903.28<br>AMP 145.02<br>ATP 175.82\", \"Providers/state: 31<br>ACC 41.14<br>AMP 11.56<br>ATP 14.68\", \"Providers/state: 74<br>ACC 266.94<br>AMP 56.32<br>ATP 70.06\", \"Providers/state: 6<br>ACC 10.86<br>AMP 4.38<br>ATP 5.04\", \"Providers/state: 48<br>ACC 194.71<br>AMP 43.76<br>ATP 51.71\", \"Providers/state: 65<br>ACC 135.05<br>AMP 34.87<br>ATP 42.21\", \"Providers/state: 29<br>ACC 53.09<br>AMP 15.3<br>ATP 18.6\", \"Providers/state: 10<br>ACC 9.44<br>AMP 3.05<br>ATP 3.53\"], \"marker\": {\"line\": {\"color\": \"rgb(40,40,40)\", \"width\": 2}}, \"colorbar\": {\"title\": \"Millions USD\"}}], {\"title\": \"2015 US Medicare inpatient charges and payments by state<br>(Hover for breakdown)\", \"geo\": {\"scope\": \"usa\", \"projection\": {\"type\": \"albers usa\"}, \"showlakes\": true, \"lakecolor\": \"rgb(255, 255, 255)\"}}, {\"showLink\": true, \"linkText\": \"Export to plot.ly\"})});</script>"
      ],
      "text/vnd.plotly.v1+html": [
       "<div id=\"356afe89-302b-4c3f-a580-34a226b6117f\" style=\"height: 525px; width: 100%;\" class=\"plotly-graph-div\"></div><script type=\"text/javascript\">require([\"plotly\"], function(Plotly) { window.PLOTLYENV=window.PLOTLYENV || {};window.PLOTLYENV.BASE_URL=\"https://plot.ly\";Plotly.newPlot(\"356afe89-302b-4c3f-a580-34a226b6117f\", [{\"type\": \"choropleth\", \"colorscale\": [[0.0, \"rgb(242,240,247)\"], [0.2, \"rgb(218,218,235)\"], [0.4, \"rgb(188,189,220)\"], [0.6, \"rgb(158,154,200)\"], [0.8, \"rgb(117,107,177)\"], [1.0, \"rgb(84,39,143)\"]], \"autocolorscale\": false, \"locations\": [\"AK\", \"AL\", \"AR\", \"AZ\", \"CA\", \"CO\", \"CT\", \"DC\", \"DE\", \"FL\", \"GA\", \"HI\", \"IA\", \"ID\", \"IL\", \"IN\", \"KS\", \"KY\", \"LA\", \"MA\", \"MD\", \"ME\", \"MI\", \"MN\", \"MO\", \"MS\", \"MT\", \"NC\", \"ND\", \"NE\", \"NH\", \"NJ\", \"NM\", \"NV\", \"NY\", \"OH\", \"OK\", \"OR\", \"PA\", \"RI\", \"SC\", \"SD\", \"TN\", \"TX\", \"UT\", \"VA\", \"VT\", \"WA\", \"WI\", \"WV\", \"WY\"], \"z\": [15.2, 177.33, 75.27, 173.7, 1246.92, 127.41, 84.95, 40.16, 19.0, 893.95, 216.01, 14.14, 61.67, 21.38, 374.31, 184.25, 86.65, 128.26, 122.59, 102.44, 13.17, 20.89, 185.35, 100.96, 183.21, 98.37, 14.79, 196.14, 15.08, 46.01, 31.33, 507.7, 29.33, 119.14, 464.23, 270.81, 116.73, 47.53, 507.05, 19.21, 164.8, 23.37, 200.08, 758.26, 29.57, 210.62, 6.47, 150.94, 100.18, 37.79, 6.39], \"locationmode\": \"USA-states\", \"text\": [\"Providers/state: 8<br>ACC 19.68<br>AMP 4.48<br>ATP 5.03\", \"Providers/state: 83<br>ACC 214.05<br>AMP 36.72<br>ATP 43.11\", \"Providers/state: 44<br>ACC 97.79<br>AMP 22.51<br>ATP 26.26\", \"Providers/state: 59<br>ACC 214.21<br>AMP 40.51<br>ATP 47.22\", \"Providers/state: 294<br>ACC 1476.42<br>AMP 229.5<br>ATP 259.49\", \"Providers/state: 45<br>ACC 152.9<br>AMP 25.5<br>ATP 30.25\", \"Providers/state: 29<br>ACC 116.51<br>AMP 31.56<br>ATP 37.59\", \"Providers/state: 7<br>ACC 51.11<br>AMP 10.95<br>ATP 14.16\", \"Providers/state: 6<br>ACC 27.09<br>AMP 8.09<br>ATP 9.81\", \"Providers/state: 167<br>ACC 1043.92<br>AMP 149.98<br>ATP 175.63\", \"Providers/state: 100<br>ACC 275.05<br>AMP 59.04<br>ATP 68.1\", \"Providers/state: 12<br>ACC 20.76<br>AMP 6.62<br>ATP 8.03\", \"Providers/state: 34<br>ACC 82.63<br>AMP 20.96<br>ATP 24.52\", \"Providers/state: 13<br>ACC 28.86<br>AMP 7.48<br>ATP 8.7\", \"Providers/state: 126<br>ACC 468.74<br>AMP 94.43<br>ATP 114.32\", \"Providers/state: 86<br>ACC 235.41<br>AMP 51.16<br>ATP 60.3\", \"Providers/state: 53<br>ACC 107.57<br>AMP 20.92<br>ATP 24.18\", \"Providers/state: 65<br>ACC 164.6<br>AMP 36.35<br>ATP 43.16\", \"Providers/state: 86<br>ACC 153.06<br>AMP 30.46<br>ATP 36.8\", \"Providers/state: 57<br>ACC 172.55<br>AMP 70.11<br>ATP 79.49\", \"Providers/state: 47<br>ACC 84.79<br>AMP 71.62<br>ATP 78.59\", \"Providers/state: 18<br>ACC 30.8<br>AMP 9.91<br>ATP 11.83\", \"Providers/state: 94<br>ACC 270.85<br>AMP 85.5<br>ATP 100.21\", \"Providers/state: 48<br>ACC 144.61<br>AMP 43.64<br>ATP 51.54\", \"Providers/state: 74<br>ACC 235.36<br>AMP 52.15<br>ATP 59.93\", \"Providers/state: 56<br>ACC 122.75<br>AMP 24.38<br>ATP 28.21\", \"Providers/state: 13<br>ACC 21.21<br>AMP 6.42<br>ATP 7.29\", \"Providers/state: 81<br>ACC 263.99<br>AMP 67.84<br>ATP 82.01\", \"Providers/state: 7<br>ACC 22.05<br>AMP 6.97<br>ATP 8.0\", \"Providers/state: 24<br>ACC 60.5<br>AMP 14.48<br>ATP 17.17\", \"Providers/state: 13<br>ACC 42.76<br>AMP 11.44<br>ATP 13.33\", \"Providers/state: 64<br>ACC 588.86<br>AMP 81.17<br>ATP 94.56\", \"Providers/state: 27<br>ACC 39.52<br>AMP 10.19<br>ATP 11.8\", \"Providers/state: 21<br>ACC 137.69<br>AMP 18.54<br>ATP 21.54\", \"Providers/state: 151<br>ACC 622.84<br>AMP 158.61<br>ATP 186.27\", \"Providers/state: 128<br>ACC 347.82<br>AMP 77.0<br>ATP 94.84\", \"Providers/state: 81<br>ACC 145.86<br>AMP 29.13<br>ATP 34.37\", \"Providers/state: 34<br>ACC 68.99<br>AMP 21.46<br>ATP 24.87\", \"Providers/state: 152<br>ACC 607.31<br>AMP 100.26<br>ATP 124.98\", \"Providers/state: 11<br>ACC 27.37<br>AMP 8.17<br>ATP 9.49\", \"Providers/state: 54<br>ACC 200.48<br>AMP 35.68<br>ATP 42.98\", \"Providers/state: 19<br>ACC 31.04<br>AMP 7.67<br>ATP 8.81\", \"Providers/state: 92<br>ACC 250.09<br>AMP 50.0<br>ATP 58.29\", \"Providers/state: 285<br>ACC 903.28<br>AMP 145.02<br>ATP 175.82\", \"Providers/state: 31<br>ACC 41.14<br>AMP 11.56<br>ATP 14.68\", \"Providers/state: 74<br>ACC 266.94<br>AMP 56.32<br>ATP 70.06\", \"Providers/state: 6<br>ACC 10.86<br>AMP 4.38<br>ATP 5.04\", \"Providers/state: 48<br>ACC 194.71<br>AMP 43.76<br>ATP 51.71\", \"Providers/state: 65<br>ACC 135.05<br>AMP 34.87<br>ATP 42.21\", \"Providers/state: 29<br>ACC 53.09<br>AMP 15.3<br>ATP 18.6\", \"Providers/state: 10<br>ACC 9.44<br>AMP 3.05<br>ATP 3.53\"], \"marker\": {\"line\": {\"color\": \"rgb(40,40,40)\", \"width\": 2}}, \"colorbar\": {\"title\": \"Millions USD\"}}], {\"title\": \"2015 US Medicare inpatient charges and payments by state<br>(Hover for breakdown)\", \"geo\": {\"scope\": \"usa\", \"projection\": {\"type\": \"albers usa\"}, \"showlakes\": true, \"lakecolor\": \"rgb(255, 255, 255)\"}}, {\"showLink\": true, \"linkText\": \"Export to plot.ly\"})});</script>"
      ]
     },
     "metadata": {},
     "output_type": "display_data"
    }
   ],
   "source": [
    "data = [ dict(\n",
    "        type='choropleth',\n",
    "        colorscale = scl,\n",
    "        autocolorscale = False,\n",
    "        locations = state_totals_df[\"State\"],\n",
    "        z = state_totals_df[\"Deficit\"].astype(float),\n",
    "        locationmode = 'USA-states',\n",
    "        text = state_totals_df['text'],\n",
    "        marker = dict(\n",
    "            line = dict (\n",
    "                color = 'rgb(40,40,40)',\n",
    "                width = 2\n",
    "            ) ),\n",
    "        colorbar = dict(\n",
    "            title = \"Millions USD\")\n",
    "        ) ]\n",
    "\n",
    "layout = dict(\n",
    "        title = '2015 US Medicare inpatient charges and payments by state<br>(Hover for breakdown)',\n",
    "        geo = dict(\n",
    "            scope='usa',\n",
    "            projection=dict( type='albers usa' ),\n",
    "            showlakes = True,\n",
    "            lakecolor = 'rgb(255, 255, 255)'),\n",
    "             )\n",
    "    \n",
    "fig = dict( data=data, layout=layout )\n",
    "iplot( fig, filename='d3-cloropleth-map' )"
   ]
  },
  {
   "cell_type": "code",
   "execution_count": 5,
   "metadata": {},
   "outputs": [
    {
     "data": {
      "image/png": "[encoded data removed]",
      "text/plain": [
       "<matplotlib.figure.Figure at 0x1a0acb12b0>"
      ]
     },
     "metadata": {},
     "output_type": "display_data"
    }
   ],
   "source": [
    "\"\"\"\n",
    "Average Covered Charges plotted against Average Medicare Payments.\n",
    "ACC and AMP are compared and a regression line is created.\n",
    "Regression tell whether above data is correlated (\"is there a linear relationship between the data)\n",
    "\"\"\"\n",
    "\n",
    "corr_df = main_df[[\"average_covered_charges\",\"average_medicare_payments\"]]\n",
    "\n",
    "x_vals = corr_df[\"average_covered_charges\"]\n",
    "y_vals = corr_df[\"average_medicare_payments\"]\n",
    "\n",
    "# Grab linear regression data\n",
    "slope, intercept, r_value, p_value, std_err = linregress(x_vals, y_vals)\n",
    "\n",
    "# Plot data\n",
    "fig, ax = plt.subplots()\n",
    "\n",
    "plt.scatter(x_vals, y_vals, color = \"purple\", label=\"Data\")\n",
    "\n",
    "ax.set_xlabel(\"Average covered charges\")\n",
    "ax.set_ylabel(\"Average Medicare payments\")\n",
    "ax.set_title(\"AMP versus ACC\")\n",
    "\n",
    "# Plot regression line\n",
    "plt.plot(x_vals, intercept + slope*x_vals, color = \"green\", label=\"Regression line\")\n",
    "\n",
    "# Set plot size\n",
    "plt.rcParams[\"figure.figsize\"] = [12,9]\n",
    "\n",
    "# Define legend\n",
    "plt.legend(loc=\"best\", ncol=1, shadow=True, title=\"Legend\", fancybox=True)\n",
    "\n",
    "plt.show()\n",
    "\n",
    "\n",
    "# >>>>>>>>>>>>>>>>>>>>>>>>>>> END DUTCH'S  SECTION <<<<<<<<<<<<<<<<<<<<<<<<<<<<<<<<<<<"
   ]
  },
  {
   "cell_type": "code",
   "execution_count": null,
   "metadata": {},
   "outputs": [],
   "source": []
  }
 ],
 "metadata": {
  "kernelspec": {
   "display_name": "Python 3",
   "language": "python",
   "name": "python3"
  },
  "language_info": {
   "codemirror_mode": {
    "name": "ipython",
    "version": 3
   },
   "file_extension": ".py",
   "mimetype": "text/x-python",
   "name": "python",
   "nbconvert_exporter": "python",
   "pygments_lexer": "ipython3",
   "version": "3.6.3"
  }
 },
 "nbformat": 4,
 "nbformat_minor": 2
}
