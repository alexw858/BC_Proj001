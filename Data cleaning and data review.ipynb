{
 "cells": [
  {
   "cell_type": "code",
   "execution_count": 1,
   "metadata": {},
   "outputs": [],
   "source": [
    "# Dependencies\n",
    "import matplotlib.pyplot as plt\n",
    "import pandas as pd\n",
    "import numpy as np\n",
    "import os"
   ]
  },
  {
   "cell_type": "code",
   "execution_count": 3,
   "metadata": {},
   "outputs": [
    {
     "data": {
      "text/html": [
       "<div>\n",
       "<style scoped>\n",
       "    .dataframe tbody tr th:only-of-type {\n",
       "        vertical-align: middle;\n",
       "    }\n",
       "\n",
       "    .dataframe tbody tr th {\n",
       "        vertical-align: top;\n",
       "    }\n",
       "\n",
       "    .dataframe thead th {\n",
       "        text-align: right;\n",
       "    }\n",
       "</style>\n",
       "<table border=\"1\" class=\"dataframe\">\n",
       "  <thead>\n",
       "    <tr style=\"text-align: right;\">\n",
       "      <th></th>\n",
       "      <th>DRG Definition</th>\n",
       "      <th>Provider Id</th>\n",
       "      <th>Provider Name</th>\n",
       "      <th>Provider Street Address</th>\n",
       "      <th>Provider City</th>\n",
       "      <th>Provider State</th>\n",
       "      <th>Provider Zip Code</th>\n",
       "      <th>Hospital Referral Region Description</th>\n",
       "      <th>Total Discharges</th>\n",
       "      <th>Average Covered Charges</th>\n",
       "      <th>Average Total Payments</th>\n",
       "      <th>Average Medicare Payments</th>\n",
       "    </tr>\n",
       "  </thead>\n",
       "  <tbody>\n",
       "    <tr>\n",
       "      <th>0</th>\n",
       "      <td>039 - EXTRACRANIAL PROCEDURES W/O CC/MCC</td>\n",
       "      <td>10001</td>\n",
       "      <td>SOUTHEAST ALABAMA MEDICAL CENTER</td>\n",
       "      <td>1108 ROSS CLARK CIRCLE</td>\n",
       "      <td>DOTHAN</td>\n",
       "      <td>AL</td>\n",
       "      <td>36301</td>\n",
       "      <td>AL - Dothan</td>\n",
       "      <td>91</td>\n",
       "      <td>$32963.07</td>\n",
       "      <td>$5777.24</td>\n",
       "      <td>$4763.73</td>\n",
       "    </tr>\n",
       "    <tr>\n",
       "      <th>1</th>\n",
       "      <td>039 - EXTRACRANIAL PROCEDURES W/O CC/MCC</td>\n",
       "      <td>10005</td>\n",
       "      <td>MARSHALL MEDICAL CENTER SOUTH</td>\n",
       "      <td>2505 U S HIGHWAY 431 NORTH</td>\n",
       "      <td>BOAZ</td>\n",
       "      <td>AL</td>\n",
       "      <td>35957</td>\n",
       "      <td>AL - Birmingham</td>\n",
       "      <td>14</td>\n",
       "      <td>$15131.85</td>\n",
       "      <td>$5787.57</td>\n",
       "      <td>$4976.71</td>\n",
       "    </tr>\n",
       "    <tr>\n",
       "      <th>2</th>\n",
       "      <td>039 - EXTRACRANIAL PROCEDURES W/O CC/MCC</td>\n",
       "      <td>10006</td>\n",
       "      <td>ELIZA COFFEE MEMORIAL HOSPITAL</td>\n",
       "      <td>205 MARENGO STREET</td>\n",
       "      <td>FLORENCE</td>\n",
       "      <td>AL</td>\n",
       "      <td>35631</td>\n",
       "      <td>AL - Birmingham</td>\n",
       "      <td>24</td>\n",
       "      <td>$37560.37</td>\n",
       "      <td>$5434.95</td>\n",
       "      <td>$4453.79</td>\n",
       "    </tr>\n",
       "    <tr>\n",
       "      <th>3</th>\n",
       "      <td>039 - EXTRACRANIAL PROCEDURES W/O CC/MCC</td>\n",
       "      <td>10011</td>\n",
       "      <td>ST VINCENT'S EAST</td>\n",
       "      <td>50 MEDICAL PARK EAST DRIVE</td>\n",
       "      <td>BIRMINGHAM</td>\n",
       "      <td>AL</td>\n",
       "      <td>35235</td>\n",
       "      <td>AL - Birmingham</td>\n",
       "      <td>25</td>\n",
       "      <td>$13998.28</td>\n",
       "      <td>$5417.56</td>\n",
       "      <td>$4129.16</td>\n",
       "    </tr>\n",
       "    <tr>\n",
       "      <th>4</th>\n",
       "      <td>039 - EXTRACRANIAL PROCEDURES W/O CC/MCC</td>\n",
       "      <td>10016</td>\n",
       "      <td>SHELBY BAPTIST MEDICAL CENTER</td>\n",
       "      <td>1000 FIRST STREET NORTH</td>\n",
       "      <td>ALABASTER</td>\n",
       "      <td>AL</td>\n",
       "      <td>35007</td>\n",
       "      <td>AL - Birmingham</td>\n",
       "      <td>18</td>\n",
       "      <td>$31633.27</td>\n",
       "      <td>$5658.33</td>\n",
       "      <td>$4851.44</td>\n",
       "    </tr>\n",
       "  </tbody>\n",
       "</table>\n",
       "</div>"
      ],
      "text/plain": [
       "                             DRG Definition  Provider Id  \\\n",
       "0  039 - EXTRACRANIAL PROCEDURES W/O CC/MCC        10001   \n",
       "1  039 - EXTRACRANIAL PROCEDURES W/O CC/MCC        10005   \n",
       "2  039 - EXTRACRANIAL PROCEDURES W/O CC/MCC        10006   \n",
       "3  039 - EXTRACRANIAL PROCEDURES W/O CC/MCC        10011   \n",
       "4  039 - EXTRACRANIAL PROCEDURES W/O CC/MCC        10016   \n",
       "\n",
       "                      Provider Name     Provider Street Address Provider City  \\\n",
       "0  SOUTHEAST ALABAMA MEDICAL CENTER      1108 ROSS CLARK CIRCLE        DOTHAN   \n",
       "1     MARSHALL MEDICAL CENTER SOUTH  2505 U S HIGHWAY 431 NORTH          BOAZ   \n",
       "2    ELIZA COFFEE MEMORIAL HOSPITAL          205 MARENGO STREET      FLORENCE   \n",
       "3                 ST VINCENT'S EAST  50 MEDICAL PARK EAST DRIVE    BIRMINGHAM   \n",
       "4     SHELBY BAPTIST MEDICAL CENTER     1000 FIRST STREET NORTH     ALABASTER   \n",
       "\n",
       "  Provider State  Provider Zip Code Hospital Referral Region Description  \\\n",
       "0             AL              36301                          AL - Dothan   \n",
       "1             AL              35957                      AL - Birmingham   \n",
       "2             AL              35631                      AL - Birmingham   \n",
       "3             AL              35235                      AL - Birmingham   \n",
       "4             AL              35007                      AL - Birmingham   \n",
       "\n",
       "    Total Discharges   Average Covered Charges   Average Total Payments   \\\n",
       "0                  91                 $32963.07                 $5777.24   \n",
       "1                  14                 $15131.85                 $5787.57   \n",
       "2                  24                 $37560.37                 $5434.95   \n",
       "3                  25                 $13998.28                 $5417.56   \n",
       "4                  18                 $31633.27                 $5658.33   \n",
       "\n",
       "  Average Medicare Payments  \n",
       "0                  $4763.73  \n",
       "1                  $4976.71  \n",
       "2                  $4453.79  \n",
       "3                  $4129.16  \n",
       "4                  $4851.44  "
      ]
     },
     "execution_count": 3,
     "metadata": {},
     "output_type": "execute_result"
    }
   ],
   "source": [
    "# Tranform csv data file into a dataframe\n",
    "main_df = pd.read_csv(\"IPPS_data.csv\")\n",
    "main_df = pd.DataFrame(main_df)\n",
    "main_df.head()"
   ]
  },
  {
   "cell_type": "markdown",
   "metadata": {},
   "source": [
    "## Review data"
   ]
  },
  {
   "cell_type": "code",
   "execution_count": 75,
   "metadata": {},
   "outputs": [
    {
     "name": "stdout",
     "output_type": "stream",
     "text": [
      "<class 'pandas.core.frame.DataFrame'>\n",
      "RangeIndex: 163065 entries, 0 to 163064\n",
      "Data columns (total 12 columns):\n",
      "DRG Definition                          163065 non-null object\n",
      "Provider Id                             163065 non-null int64\n",
      "Provider Name                           163065 non-null object\n",
      "Provider Street Address                 163065 non-null object\n",
      "Provider City                           163065 non-null object\n",
      "Provider State                          163065 non-null object\n",
      "Provider Zip Code                       163065 non-null int64\n",
      "Hospital Referral Region Description    163065 non-null object\n",
      " Total Discharges                       163065 non-null int64\n",
      " Average Covered Charges                163065 non-null object\n",
      " Average Total Payments                 163065 non-null object\n",
      "Average Medicare Payments               163065 non-null object\n",
      "dtypes: int64(3), object(9)\n",
      "memory usage: 14.9+ MB\n"
     ]
    }
   ],
   "source": [
    "main_df.info()"
   ]
  },
  {
   "cell_type": "code",
   "execution_count": 81,
   "metadata": {},
   "outputs": [
    {
     "data": {
      "text/plain": [
       "Index(['DRG Definition', 'Provider Id', 'Provider Name',\n",
       "       'Provider Street Address', 'Provider City', 'Provider State',\n",
       "       'Provider Zip Code', 'Hospital Referral Region Description',\n",
       "       ' Total Discharges ', ' Average Covered Charges ',\n",
       "       ' Average Total Payments ', 'Average Medicare Payments'],\n",
       "      dtype='object')"
      ]
     },
     "execution_count": 81,
     "metadata": {},
     "output_type": "execute_result"
    }
   ],
   "source": [
    "main_df.columns"
   ]
  },
  {
   "cell_type": "code",
   "execution_count": 4,
   "metadata": {},
   "outputs": [
    {
     "data": {
      "text/html": [
       "<div>\n",
       "<style scoped>\n",
       "    .dataframe tbody tr th:only-of-type {\n",
       "        vertical-align: middle;\n",
       "    }\n",
       "\n",
       "    .dataframe tbody tr th {\n",
       "        vertical-align: top;\n",
       "    }\n",
       "\n",
       "    .dataframe thead th {\n",
       "        text-align: right;\n",
       "    }\n",
       "</style>\n",
       "<table border=\"1\" class=\"dataframe\">\n",
       "  <thead>\n",
       "    <tr style=\"text-align: right;\">\n",
       "      <th></th>\n",
       "      <th>DRG Definition</th>\n",
       "      <th>Provider Id</th>\n",
       "      <th>Provider Name</th>\n",
       "      <th>Provider Street Address</th>\n",
       "      <th>Provider City</th>\n",
       "      <th>Provider State</th>\n",
       "      <th>Provider Zip Code</th>\n",
       "      <th>HRR Description</th>\n",
       "      <th>Total Discharges</th>\n",
       "      <th>ACC</th>\n",
       "      <th>ATP</th>\n",
       "      <th>AMP</th>\n",
       "    </tr>\n",
       "  </thead>\n",
       "  <tbody>\n",
       "    <tr>\n",
       "      <th>0</th>\n",
       "      <td>039 - EXTRACRANIAL PROCEDURES W/O CC/MCC</td>\n",
       "      <td>10001</td>\n",
       "      <td>SOUTHEAST ALABAMA MEDICAL CENTER</td>\n",
       "      <td>1108 ROSS CLARK CIRCLE</td>\n",
       "      <td>DOTHAN</td>\n",
       "      <td>AL</td>\n",
       "      <td>36301</td>\n",
       "      <td>AL - Dothan</td>\n",
       "      <td>91</td>\n",
       "      <td>$32963.07</td>\n",
       "      <td>$5777.24</td>\n",
       "      <td>$4763.73</td>\n",
       "    </tr>\n",
       "    <tr>\n",
       "      <th>1</th>\n",
       "      <td>039 - EXTRACRANIAL PROCEDURES W/O CC/MCC</td>\n",
       "      <td>10005</td>\n",
       "      <td>MARSHALL MEDICAL CENTER SOUTH</td>\n",
       "      <td>2505 U S HIGHWAY 431 NORTH</td>\n",
       "      <td>BOAZ</td>\n",
       "      <td>AL</td>\n",
       "      <td>35957</td>\n",
       "      <td>AL - Birmingham</td>\n",
       "      <td>14</td>\n",
       "      <td>$15131.85</td>\n",
       "      <td>$5787.57</td>\n",
       "      <td>$4976.71</td>\n",
       "    </tr>\n",
       "    <tr>\n",
       "      <th>2</th>\n",
       "      <td>039 - EXTRACRANIAL PROCEDURES W/O CC/MCC</td>\n",
       "      <td>10006</td>\n",
       "      <td>ELIZA COFFEE MEMORIAL HOSPITAL</td>\n",
       "      <td>205 MARENGO STREET</td>\n",
       "      <td>FLORENCE</td>\n",
       "      <td>AL</td>\n",
       "      <td>35631</td>\n",
       "      <td>AL - Birmingham</td>\n",
       "      <td>24</td>\n",
       "      <td>$37560.37</td>\n",
       "      <td>$5434.95</td>\n",
       "      <td>$4453.79</td>\n",
       "    </tr>\n",
       "    <tr>\n",
       "      <th>3</th>\n",
       "      <td>039 - EXTRACRANIAL PROCEDURES W/O CC/MCC</td>\n",
       "      <td>10011</td>\n",
       "      <td>ST VINCENT'S EAST</td>\n",
       "      <td>50 MEDICAL PARK EAST DRIVE</td>\n",
       "      <td>BIRMINGHAM</td>\n",
       "      <td>AL</td>\n",
       "      <td>35235</td>\n",
       "      <td>AL - Birmingham</td>\n",
       "      <td>25</td>\n",
       "      <td>$13998.28</td>\n",
       "      <td>$5417.56</td>\n",
       "      <td>$4129.16</td>\n",
       "    </tr>\n",
       "    <tr>\n",
       "      <th>4</th>\n",
       "      <td>039 - EXTRACRANIAL PROCEDURES W/O CC/MCC</td>\n",
       "      <td>10016</td>\n",
       "      <td>SHELBY BAPTIST MEDICAL CENTER</td>\n",
       "      <td>1000 FIRST STREET NORTH</td>\n",
       "      <td>ALABASTER</td>\n",
       "      <td>AL</td>\n",
       "      <td>35007</td>\n",
       "      <td>AL - Birmingham</td>\n",
       "      <td>18</td>\n",
       "      <td>$31633.27</td>\n",
       "      <td>$5658.33</td>\n",
       "      <td>$4851.44</td>\n",
       "    </tr>\n",
       "  </tbody>\n",
       "</table>\n",
       "</div>"
      ],
      "text/plain": [
       "                             DRG Definition  Provider Id  \\\n",
       "0  039 - EXTRACRANIAL PROCEDURES W/O CC/MCC        10001   \n",
       "1  039 - EXTRACRANIAL PROCEDURES W/O CC/MCC        10005   \n",
       "2  039 - EXTRACRANIAL PROCEDURES W/O CC/MCC        10006   \n",
       "3  039 - EXTRACRANIAL PROCEDURES W/O CC/MCC        10011   \n",
       "4  039 - EXTRACRANIAL PROCEDURES W/O CC/MCC        10016   \n",
       "\n",
       "                      Provider Name     Provider Street Address Provider City  \\\n",
       "0  SOUTHEAST ALABAMA MEDICAL CENTER      1108 ROSS CLARK CIRCLE        DOTHAN   \n",
       "1     MARSHALL MEDICAL CENTER SOUTH  2505 U S HIGHWAY 431 NORTH          BOAZ   \n",
       "2    ELIZA COFFEE MEMORIAL HOSPITAL          205 MARENGO STREET      FLORENCE   \n",
       "3                 ST VINCENT'S EAST  50 MEDICAL PARK EAST DRIVE    BIRMINGHAM   \n",
       "4     SHELBY BAPTIST MEDICAL CENTER     1000 FIRST STREET NORTH     ALABASTER   \n",
       "\n",
       "  Provider State  Provider Zip Code  HRR Description   Total Discharges   \\\n",
       "0             AL              36301      AL - Dothan                  91   \n",
       "1             AL              35957  AL - Birmingham                  14   \n",
       "2             AL              35631  AL - Birmingham                  24   \n",
       "3             AL              35235  AL - Birmingham                  25   \n",
       "4             AL              35007  AL - Birmingham                  18   \n",
       "\n",
       "         ACC       ATP       AMP  \n",
       "0  $32963.07  $5777.24  $4763.73  \n",
       "1  $15131.85  $5787.57  $4976.71  \n",
       "2  $37560.37  $5434.95  $4453.79  \n",
       "3  $13998.28  $5417.56  $4129.16  \n",
       "4  $31633.27  $5658.33  $4851.44  "
      ]
     },
     "execution_count": 4,
     "metadata": {},
     "output_type": "execute_result"
    }
   ],
   "source": [
    "# Rename columns\n",
    "main_df = main_df.rename(columns={\"Hospital Referral Region Description\":\"HRR Description\",\" Average Covered Charges \":\"ACC\",\" Average Total Payments \":\"ATP\"\n",
    "                                  ,\"Average Medicare Payments\":\"AMP\"})\n",
    "main_df.head()"
   ]
  },
  {
   "cell_type": "markdown",
   "metadata": {},
   "source": [
    "## Check data\n",
    "\n",
    "Check whether we can use the data in its current format."
   ]
  },
  {
   "cell_type": "markdown",
   "metadata": {},
   "source": [
    "### Long column names, amounts presented as strings\n",
    "\n",
    "+ there's 3 columns with amounts. Amounts are preceeded with a dollar sign.\n",
    "  remove dollar sign so one can work with floats\n",
    "+ change data type for columns involved to float\n",
    "+ rename long columns names "
   ]
  },
  {
   "cell_type": "code",
   "execution_count": 5,
   "metadata": {},
   "outputs": [],
   "source": [
    "# Data cleansing\n",
    "## Strip dollar sign\n",
    "cols = [\"ACC\",\"ATP\",\"AMP\"]\n",
    "main_df[cols] = main_df[cols].replace({'\\$':''}, regex = True)\n",
    "\n",
    "## Convert columns to float\n",
    "main_df[cols] = main_df[cols].astype(float).fillna(0.0)"
   ]
  },
  {
   "cell_type": "markdown",
   "metadata": {},
   "source": [
    "### Check for null values"
   ]
  },
  {
   "cell_type": "code",
   "execution_count": 112,
   "metadata": {},
   "outputs": [
    {
     "data": {
      "text/plain": [
       "0"
      ]
     },
     "execution_count": 112,
     "metadata": {},
     "output_type": "execute_result"
    }
   ],
   "source": [
    "# Data investigation\n",
    "## Null values:\n",
    "main_df.isnull().sum().sum()"
   ]
  },
  {
   "cell_type": "markdown",
   "metadata": {},
   "source": [
    "## Explore data\n",
    "\n",
    "Explore data to find out what we can do with it."
   ]
  },
  {
   "cell_type": "code",
   "execution_count": 86,
   "metadata": {},
   "outputs": [
    {
     "data": {
      "text/plain": [
       "100"
      ]
     },
     "execution_count": 86,
     "metadata": {},
     "output_type": "execute_result"
    }
   ],
   "source": [
    "# Unique DRG definitions\n",
    "main_df[\"DRG Definition\"].nunique()"
   ]
  },
  {
   "cell_type": "code",
   "execution_count": 92,
   "metadata": {},
   "outputs": [
    {
     "data": {
      "text/plain": [
       "306"
      ]
     },
     "execution_count": 92,
     "metadata": {},
     "output_type": "execute_result"
    }
   ],
   "source": [
    "# Unique HRR Descriptions\n",
    "main_df[\"HRR Description\"].nunique()"
   ]
  },
  {
   "cell_type": "code",
   "execution_count": 93,
   "metadata": {},
   "outputs": [
    {
     "data": {
      "text/plain": [
       "3337"
      ]
     },
     "execution_count": 93,
     "metadata": {},
     "output_type": "execute_result"
    }
   ],
   "source": [
    "# Unique providers\n",
    "main_df[\"Provider Id\"].nunique()"
   ]
  },
  {
   "cell_type": "code",
   "execution_count": 122,
   "metadata": {},
   "outputs": [
    {
     "data": {
      "text/plain": [
       "51"
      ]
     },
     "execution_count": 122,
     "metadata": {},
     "output_type": "execute_result"
    }
   ],
   "source": [
    "# Unique states\n",
    "main_df[\"Provider State\"].nunique()"
   ]
  },
  {
   "cell_type": "code",
   "execution_count": 121,
   "metadata": {},
   "outputs": [
    {
     "name": "stdout",
     "output_type": "stream",
     "text": [
      "                    ACC        ATP        AMP\n",
      "Provider Id                                  \n",
      "10001        3242726.59  804910.31  706395.72\n",
      "10005         806103.51  333794.43  283887.94\n",
      "10006        3177042.74  704962.46  614552.52\n",
      "10007         265749.81  106938.24   89034.56\n",
      "10008         145338.77   53083.23   44671.93\n",
      "                         ACC           ATP           AMP\n",
      "Provider State                                          \n",
      "AK              9.320560e+06  3.366222e+06  2.993522e+06\n",
      "AL              1.138353e+08  2.751052e+07  2.332946e+07\n",
      "AR              5.410275e+07  1.657579e+07  1.430306e+07\n",
      "AZ              1.174614e+08  2.895056e+07  2.516212e+07\n",
      "CA              8.819326e+08  1.649940e+08  1.501626e+08\n"
     ]
    }
   ],
   "source": [
    "# Some groupings\n",
    "## Total ACC, ATP and AMP by provider\n",
    "x = main_df.groupby(\"Provider Id\").agg({\"ACC\":\"sum\", \"ATP\":\"sum\", \"AMP\":\"sum\"}) \n",
    "print(x.head())\n",
    "## Total ACC, ATP and AMP by provider state\n",
    "y = main_df.groupby(\"Provider State\").agg({\"ACC\":\"sum\", \"ATP\":\"sum\", \"AMP\":\"sum\"})\n",
    "print(y.head())"
   ]
  },
  {
   "cell_type": "code",
   "execution_count": 8,
   "metadata": {},
   "outputs": [],
   "source": [
    "main_df.to_csv(\"main data cleaned.csv\", encoding = \"utf-8-sig\", index = False)"
   ]
  },
  {
   "cell_type": "markdown",
   "metadata": {},
   "source": [
    "# Import cleaned data file"
   ]
  },
  {
   "cell_type": "code",
   "execution_count": null,
   "metadata": {},
   "outputs": [],
   "source": [
    "main_df = pd.read_csv(\"main data cleaned.csv\")"
   ]
  }
 ],
 "metadata": {
  "kernelspec": {
   "display_name": "Python 3",
   "language": "python",
   "name": "python3"
  },
  "language_info": {
   "codemirror_mode": {
    "name": "ipython",
    "version": 3
   },
   "file_extension": ".py",
   "mimetype": "text/x-python",
   "name": "python",
   "nbconvert_exporter": "python",
   "pygments_lexer": "ipython3",
   "version": "3.6.4"
  }
 },
 "nbformat": 4,
 "nbformat_minor": 2
}
