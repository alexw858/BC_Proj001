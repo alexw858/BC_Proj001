{
 "cells": [
  {
   "cell_type": "code",
   "execution_count": 8,
   "metadata": {},
   "outputs": [
    {
     "name": "stdout",
     "output_type": "stream",
     "text": [
      "['blue', 'green', 'grey', 'orange']\n"
     ]
    }
   ],
   "source": [
    "colors = {(0,50):\"red\",(50,100):\"blue\",\n",
    "                (100,150):\"green\",(150,200):\"orange\",\n",
    "                (200, 250):\"purple\", (250,1000):\"grey\"}\n",
    "data=[51,100,265,167]\n",
    "def get_colors(data,dict_of_colors):\n",
    "    r=[]\n",
    "    for idx0,datum in enumerate(data):\n",
    "        for idx1,tup in enumerate(dict_of_colors):\n",
    "            if int(datum) >= tup[0] and int(datum) < tup[1]:\n",
    "                r.append(dict_of_colors[tup])\n",
    "                break;\n",
    "    return(r)\n",
    "            \n",
    "r = get_colors(data,colors)\n",
    "print(r)"
   ]
  },
  {
   "cell_type": "code",
   "execution_count": null,
   "metadata": {},
   "outputs": [],
   "source": []
  }
 ],
 "metadata": {
  "kernelspec": {
   "display_name": "Python 3",
   "language": "python",
   "name": "python3"
  },
  "language_info": {
   "codemirror_mode": {
    "name": "ipython",
    "version": 3
   },
   "file_extension": ".py",
   "mimetype": "text/x-python",
   "name": "python",
   "nbconvert_exporter": "python",
   "pygments_lexer": "ipython3",
   "version": "3.6.3"
  }
 },
 "nbformat": 4,
 "nbformat_minor": 2
}
